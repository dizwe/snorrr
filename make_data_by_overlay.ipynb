{
 "cells": [
  {
   "cell_type": "code",
   "execution_count": 1,
   "metadata": {},
   "outputs": [],
   "source": [
    "from td_utils import load_raw_audio_with_folder\n",
    "from td_utils import load_raw_audio\n",
    "from mix_audio import create_training_data\n",
    "from utils import make_dir\n",
    "\n",
    "import os\n",
    "import numpy as np\n",
    "from tqdm import tqdm\n",
    "import IPython\n",
    "import matplotlib.pyplot as plt"
   ]
  },
  {
   "cell_type": "code",
   "execution_count": 2,
   "metadata": {},
   "outputs": [],
   "source": [
    "version = 'train'"
   ]
  },
  {
   "cell_type": "code",
   "execution_count": 3,
   "metadata": {},
   "outputs": [],
   "source": [
    "make_dir('./data/{}_audios'.format(version))\n",
    "make_dir('./data/XY_{}'.format(version))"
   ]
  },
  {
   "cell_type": "code",
   "execution_count": 4,
   "metadata": {},
   "outputs": [
    {
     "name": "stdout",
     "output_type": "stream",
     "text": "./data/audio_label_clip/background\n./data/audio_label_clip/.DS_Store\n./data/audio_label_clip/snore\n./data/audio_label_clip/negative\n./data/audio_label_clip/others\n"
    }
   ],
   "source": [
    "# 여기서 데이터 불러오기\n",
    "if version == 'train':\n",
    "    audio_dir = os.path.join('.','data','audio_label_clip')\n",
    "else:\n",
    "    audio_dir = os.path.join('.','data','audio_label_clip_for_test')\n",
    "\n",
    "activates, negatives, backgrounds = load_raw_audio_with_folder(audio_dir)\n"
   ]
  },
  {
   "source": [
    "num_of_data = 10\n",
    "\n",
    "for i in tqdm(range(num_of_data)):\n",
    "    j = np.random.randint(0, len(backgrounds))\n",
    "    # background 하나만 뽑기\n",
    "    background = backgrounds[j]\n",
    "    # activate negative는 여러개 뽑기?\n",
    "    x,x_minus, y = create_training_data(background, \n",
    "                               activates, \n",
    "                               negatives, \n",
    "                               filename='./data/{}_audios/mix_{}.wav'.format(version, i))\n",
    "    x = np.transpose(x)\n",
    "    y = np.transpose(y)\n",
    "    np.save('./data/XY_{}/x_{}'.format(version, i),x)\n",
    "    np.save('./data/XY_{}/y_{}'.format(version, i),y)"
   ],
   "cell_type": "code",
   "outputs": [
    {
     "output_type": "stream",
     "name": "stderr",
     "text": "100%|██████████| 10/10 [00:01<00:00,  5.75it/s]\n"
    }
   ],
   "metadata": {},
   "execution_count": 9
  },
  {
   "cell_type": "code",
   "execution_count": null,
   "metadata": {},
   "outputs": [],
   "source": [
    "print(x.shape, y.shape)"
   ]
  },
  {
   "cell_type": "code",
   "execution_count": null,
   "metadata": {},
   "outputs": [],
   "source": [
    "IPython.display.Audio(\"./data/{}_audios/mix_{}.wav\".format(version, num_of_data-1))"
   ]
  },
  {
   "cell_type": "code",
   "execution_count": null,
   "metadata": {},
   "outputs": [],
   "source": [
    "plt.plot(np.load('./data/XY_{}/y_{}.npy'.format(version, num_of_data-1)))"
   ]
  },
  {
   "cell_type": "code",
   "execution_count": 5,
   "metadata": {},
   "outputs": [],
   "source": [
    "from mix_audio import create_training_data"
   ]
  }
 ],
 "metadata": {
  "kernelspec": {
   "display_name": "Python 3.8.1 64-bit ('maetel': conda)",
   "language": "python",
   "name": "python38164bitmaetelconda3df2534ef5d74fb09751a958eb6cd1d2"
  },
  "language_info": {
   "codemirror_mode": {
    "name": "ipython",
    "version": 3
   },
   "file_extension": ".py",
   "mimetype": "text/x-python",
   "name": "python",
   "nbconvert_exporter": "python",
   "pygments_lexer": "ipython3",
   "version": "3.8.1-final"
  }
 },
 "nbformat": 4,
 "nbformat_minor": 2
}