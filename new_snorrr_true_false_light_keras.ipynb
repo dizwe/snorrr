{
  "nbformat": 4,
  "nbformat_minor": 0,
  "metadata": {
    "colab": {
      "name": "new_snorrr_true_false_light_keras.ipynb",
      "provenance": [],
      "collapsed_sections": [
        "Wau96yf3kimd",
        "tN5Io-BkPkQt"
      ],
      "toc_visible": true
    },
    "kernelspec": {
      "name": "python3",
      "display_name": "Python 3"
    }
  },
  "cells": [
    {
      "cell_type": "code",
      "metadata": {
        "id": "GqS5C8mDYxgg",
        "colab_type": "code",
        "outputId": "2e0517c4-c755-4962-cc17-2e485548777e",
        "colab": {
          "base_uri": "https://localhost:8080/",
          "height": 124
        }
      },
      "source": [
        "from google.colab import drive\n",
        "drive.mount('/content/drive')"
      ],
      "execution_count": 0,
      "outputs": [
        {
          "output_type": "stream",
          "text": [
            "Go to this URL in a browser: https://accounts.google.com/o/oauth2/auth?client_id=947318989803-6bn6qk8qdgf4n4g3pfee6491hc0brc4i.apps.googleusercontent.com&redirect_uri=urn%3aietf%3awg%3aoauth%3a2.0%3aoob&response_type=code&scope=email%20https%3a%2f%2fwww.googleapis.com%2fauth%2fdocs.test%20https%3a%2f%2fwww.googleapis.com%2fauth%2fdrive%20https%3a%2f%2fwww.googleapis.com%2fauth%2fdrive.photos.readonly%20https%3a%2f%2fwww.googleapis.com%2fauth%2fpeopleapi.readonly\n",
            "\n",
            "Enter your authorization code:\n",
            "··········\n",
            "Mounted at /content/drive\n"
          ],
          "name": "stdout"
        }
      ]
    },
    {
      "cell_type": "code",
      "metadata": {
        "id": "rWiPOzGMm7eN",
        "colab_type": "code",
        "outputId": "46b6ed36-20a0-47f5-9eca-24b64f5c258c",
        "colab": {
          "base_uri": "https://localhost:8080/",
          "height": 35
        }
      },
      "source": [
        "%tensorflow_version 1.x"
      ],
      "execution_count": 0,
      "outputs": [
        {
          "output_type": "stream",
          "text": [
            "TensorFlow 1.x selected.\n"
          ],
          "name": "stdout"
        }
      ]
    },
    {
      "cell_type": "code",
      "metadata": {
        "id": "al6q3XALYrw_",
        "colab_type": "code",
        "outputId": "aa670ba2-182a-4afc-95bf-74498233f30f",
        "colab": {
          "base_uri": "https://localhost:8080/",
          "height": 35
        }
      },
      "source": [
        "cd /content/drive/My\\ Drive/tobigs/snorrr2"
      ],
      "execution_count": 0,
      "outputs": [
        {
          "output_type": "stream",
          "text": [
            "/content/drive/My Drive/tobigs/snorrr2\n"
          ],
          "name": "stdout"
        }
      ]
    },
    {
      "cell_type": "code",
      "metadata": {
        "id": "pvKS_cpfjEeS",
        "colab_type": "code",
        "outputId": "8c8de31f-b53b-4e15-8afa-621d2f0d566c",
        "colab": {
          "base_uri": "https://localhost:8080/",
          "height": 106
        }
      },
      "source": [
        "# !unzip aug_data.zip -d data/\n",
        "!pip install pydub"
      ],
      "execution_count": 0,
      "outputs": [
        {
          "output_type": "stream",
          "text": [
            "Collecting pydub\n",
            "  Downloading https://files.pythonhosted.org/packages/79/db/eaf620b73a1eec3c8c6f8f5b0b236a50f9da88ad57802154b7ba7664d0b8/pydub-0.23.1-py2.py3-none-any.whl\n",
            "Installing collected packages: pydub\n",
            "Successfully installed pydub-0.23.1\n"
          ],
          "name": "stdout"
        }
      ]
    },
    {
      "cell_type": "code",
      "metadata": {
        "id": "rkBnj-nQBabI",
        "colab_type": "code",
        "outputId": "4b91d193-dc3b-4dda-f8f1-6a17bcd17b92",
        "colab": {
          "base_uri": "https://localhost:8080/",
          "height": 207
        }
      },
      "source": [
        "ls"
      ],
      "execution_count": 0,
      "outputs": [
        {
          "output_type": "stream",
          "text": [
            " aug_data.zip                   new_snorrr_true_false_light.ipynb\n",
            " converted_model.tflite         new_snorrr_true_false_light_keras.ipynb\n",
            " \u001b[0m\u001b[01;34mdata\u001b[0m/                          \u001b[01;34mnoise\u001b[0m/\n",
            " \u001b[01;34mdata_aug\u001b[0m/                      preprocessing_normalization_test.ipynb\n",
            " \u001b[01;34mdata_small\u001b[0m/                    raw_data.zip\n",
            "'Mobilenet_colab(aug ver)'      temp.mp3\n",
            " Mobilenet_colab_eunsun.ipynb   test.csv\n",
            " Mobilenet_colab.ipynb          Untitled0.ipynb\n",
            " \u001b[01;34mmodel\u001b[0m/                         very_quite_with_app.mp3\n",
            " new_snorrr.ipynb               \u001b[01;34mweight\u001b[0m/\n",
            " new_snorrr_true_false.ipynb\n"
          ],
          "name": "stdout"
        }
      ]
    },
    {
      "cell_type": "markdown",
      "metadata": {
        "id": "Wau96yf3kimd",
        "colab_type": "text"
      },
      "source": [
        "## audio.csv 만들기\n",
        "(파일 겹치는건 빼기)"
      ]
    },
    {
      "cell_type": "code",
      "metadata": {
        "id": "lHZmp-t9kht2",
        "colab_type": "code",
        "outputId": "e0904ada-25cc-4b6e-8060-e76d4312f5e8",
        "colab": {
          "base_uri": "https://localhost:8080/"
        }
      },
      "source": [
        "cd /content/drive/My\\ Drive/tobigs/snorrr2/data"
      ],
      "execution_count": 0,
      "outputs": [
        {
          "output_type": "stream",
          "text": [
            "/content/drive/My Drive/tobigs/snorrr2/data\n"
          ],
          "name": "stdout"
        }
      ]
    },
    {
      "cell_type": "code",
      "metadata": {
        "id": "cvbpvnfUqcm8",
        "colab_type": "code",
        "outputId": "10b07bdf-9ad0-475a-b144-251906ca9f6b",
        "colab": {
          "base_uri": "https://localhost:8080/"
        }
      },
      "source": [
        "ls"
      ],
      "execution_count": 0,
      "outputs": [
        {
          "output_type": "stream",
          "text": [
            "\u001b[0m\u001b[01;34m'Male speech, man speaking'\u001b[0m/   \u001b[01;34msnoring\u001b[0m/                         \u001b[01;34mVehicle\u001b[0m/\n",
            "\u001b[01;34m'Outside, rural or natural'\u001b[0m/  \u001b[01;34m'Traffic noise, roadway noise'\u001b[0m/\n"
          ],
          "name": "stdout"
        }
      ]
    },
    {
      "cell_type": "code",
      "metadata": {
        "id": "Slh3aa05kvWW",
        "colab_type": "code",
        "colab": {}
      },
      "source": [
        "import pandas as pd\n",
        "import os\n",
        "\n",
        "label_info = ['Male speech, man speaking','Outside, rural or natural','snoring','Traffic noise, roadway noise','Vehicle']\n",
        "df = pd.DataFrame({\"file_name\":[], \"labels\":[]})\n",
        "for label in os.listdir():\n",
        "  if label=='__MACOSX':\n",
        "      continue\n",
        "  label_dir = os.path.join(os.getcwd(), label)\n",
        "  current_label_num = label_info.index(label)+1\n",
        "  for file in os.listdir(label_dir):\n",
        "    if file.endswith(\"mp3\"):\n",
        "      df = df.append({\"file_name\":file, \"labels\":int(current_label_num)} , ignore_index=True)"
      ],
      "execution_count": 0,
      "outputs": []
    },
    {
      "cell_type": "code",
      "metadata": {
        "id": "hr3J5JVVuUq5",
        "colab_type": "code",
        "colab": {}
      },
      "source": [
        "df.labels = df['labels'].astype(int)"
      ],
      "execution_count": 0,
      "outputs": []
    },
    {
      "cell_type": "code",
      "metadata": {
        "id": "ul6ZEd68v700",
        "colab_type": "code",
        "outputId": "d07b392d-10fe-437a-f7b3-75da7605e9c5",
        "colab": {
          "base_uri": "https://localhost:8080/"
        }
      },
      "source": [
        "df[df.file_name.duplicated()]['file_name']"
      ],
      "execution_count": 0,
      "outputs": [
        {
          "output_type": "execute_result",
          "data": {
            "text/plain": [
              "82     3353.mp3\n",
              "107    2550.mp3\n",
              "112    2933.mp3\n",
              "134    2762.mp3\n",
              "147    1705.mp3\n",
              "149    3272.mp3\n",
              "157    2536.mp3\n",
              "225    1522.mp3\n",
              "Name: file_name, dtype: object"
            ]
          },
          "metadata": {
            "tags": []
          },
          "execution_count": 9
        }
      ]
    },
    {
      "cell_type": "code",
      "metadata": {
        "id": "SgAsCM79vSDh",
        "colab_type": "code",
        "outputId": "5db26bcf-9cee-4278-c857-916da1fe2693",
        "colab": {
          "base_uri": "https://localhost:8080/"
        }
      },
      "source": [
        "df[df['file_name'].str.find('5487.mp3')!=-1]"
      ],
      "execution_count": 0,
      "outputs": [
        {
          "output_type": "execute_result",
          "data": {
            "text/html": [
              "<div>\n",
              "<style scoped>\n",
              "    .dataframe tbody tr th:only-of-type {\n",
              "        vertical-align: middle;\n",
              "    }\n",
              "\n",
              "    .dataframe tbody tr th {\n",
              "        vertical-align: top;\n",
              "    }\n",
              "\n",
              "    .dataframe thead th {\n",
              "        text-align: right;\n",
              "    }\n",
              "</style>\n",
              "<table border=\"1\" class=\"dataframe\">\n",
              "  <thead>\n",
              "    <tr style=\"text-align: right;\">\n",
              "      <th></th>\n",
              "      <th>file_name</th>\n",
              "      <th>labels</th>\n",
              "    </tr>\n",
              "  </thead>\n",
              "  <tbody>\n",
              "    <tr>\n",
              "      <th>241</th>\n",
              "      <td>5487.mp3</td>\n",
              "      <td>1</td>\n",
              "    </tr>\n",
              "  </tbody>\n",
              "</table>\n",
              "</div>"
            ],
            "text/plain": [
              "    file_name  labels\n",
              "241  5487.mp3       1"
            ]
          },
          "metadata": {
            "tags": []
          },
          "execution_count": 10
        }
      ]
    },
    {
      "cell_type": "code",
      "metadata": {
        "id": "-yHnU0U4qakz",
        "colab_type": "code",
        "colab": {}
      },
      "source": [
        "# 중복되는건 삭제하기\n",
        "df = df[df['file_name'].isin(df[df.file_name.duplicated()]['file_name'])==False]"
      ],
      "execution_count": 0,
      "outputs": []
    },
    {
      "cell_type": "code",
      "metadata": {
        "id": "sUsHOb6Mzqrh",
        "colab_type": "code",
        "outputId": "3444b61b-5f58-41ac-911e-a698bbaa929f",
        "colab": {
          "base_uri": "https://localhost:8080/"
        }
      },
      "source": [
        "len(df)"
      ],
      "execution_count": 0,
      "outputs": [
        {
          "output_type": "execute_result",
          "data": {
            "text/plain": [
              "227"
            ]
          },
          "metadata": {
            "tags": []
          },
          "execution_count": 12
        }
      ]
    },
    {
      "cell_type": "code",
      "metadata": {
        "id": "ULbZlXJHwxDt",
        "colab_type": "code",
        "colab": {}
      },
      "source": [
        "df.to_csv('audio.csv',index=False)"
      ],
      "execution_count": 0,
      "outputs": []
    },
    {
      "cell_type": "markdown",
      "metadata": {
        "id": "5mirRje6ZcTy",
        "colab_type": "text"
      },
      "source": [
        "# 학습"
      ]
    },
    {
      "cell_type": "markdown",
      "metadata": {
        "id": "5Rc_LfVWknpm",
        "colab_type": "text"
      },
      "source": [
        "## 학습 준비하기"
      ]
    },
    {
      "cell_type": "code",
      "metadata": {
        "id": "oWFQ2pxQks24",
        "colab_type": "code",
        "outputId": "729e85b1-79d4-4cb9-a741-f6090fb76bb4",
        "colab": {
          "base_uri": "https://localhost:8080/",
          "height": 35
        }
      },
      "source": [
        "cd /content/drive/My\\ Drive/tobigs/snorrr2"
      ],
      "execution_count": 0,
      "outputs": [
        {
          "output_type": "stream",
          "text": [
            "/content/drive/My Drive/tobigs/snorrr2\n"
          ],
          "name": "stdout"
        }
      ]
    },
    {
      "cell_type": "code",
      "metadata": {
        "id": "seP-nzVrfSPX",
        "colab_type": "code",
        "colab": {}
      },
      "source": [
        "import pandas as pd\n",
        "from sklearn.model_selection import train_test_split\n",
        "import librosa\n",
        "import pydub \n",
        "from fastprogress import master_bar, progress_bar\n",
        "import numpy as np\n",
        "import time\n",
        "import os\n",
        "import warnings\n",
        "from sklearn.metrics import classification_report"
      ],
      "execution_count": 0,
      "outputs": []
    },
    {
      "cell_type": "code",
      "metadata": {
        "id": "OIFaGGxOP_D7",
        "colab_type": "code",
        "colab": {}
      },
      "source": [
        ""
      ],
      "execution_count": 0,
      "outputs": []
    },
    {
      "cell_type": "code",
      "metadata": {
        "id": "Yr1e22pMBNqn",
        "colab_type": "code",
        "outputId": "ae917b36-e4cf-4f3b-9fa9-d8c6d89ca178",
        "colab": {
          "base_uri": "https://localhost:8080/",
          "height": 121
        }
      },
      "source": [
        "warnings.filterwarnings(action=\"ignore\")\n",
        "\n",
        "path1 = \"./data/Male speech, man speaking\"\n",
        "path2 = \"./data/Outside, rural or natural\"\n",
        "path3 = \"./data/snoring\"\n",
        "path4 = \"./data/Traffic noise, roadway noise\"\n",
        "path5 = \"./data/Vehicle\"\n",
        "\n",
        "df = pd.read_csv(\"./data/audio.csv\")\n",
        "# df = pd.read_csv(\"./data/aug_audio.csv\")\n",
        "train_df, test_df = train_test_split(df, test_size=0.3, random_state=42) \n",
        "# train_df, valid_df = train_test_split(df, test_size=0.2, random_state=42) \n",
        "\n",
        "train_df = train_df.reset_index()\n",
        "# valid_df = valid_df.reset_index()\n",
        "test_df = test_df.reset_index()\n",
        "print(train_df[\"labels\"].value_counts())\n",
        "# print(test_df[\"labels\"].value_counts())"
      ],
      "execution_count": 0,
      "outputs": [
        {
          "output_type": "stream",
          "text": [
            "3    1461\n",
            "1    1039\n",
            "2     742\n",
            "5     491\n",
            "4     306\n",
            "Name: labels, dtype: int64\n"
          ],
          "name": "stdout"
        }
      ]
    },
    {
      "cell_type": "code",
      "metadata": {
        "id": "z-OhsmPrBs-5",
        "colab_type": "code",
        "colab": {}
      },
      "source": [
        "from pydub import AudioSegment\n",
        "def freq_augmentation(y, sr):\n",
        "    switch = np.random.randint(1,3)\n",
        "    if(switch==1): #고음\n",
        "        rate = np.random.uniform(2, 5)\n",
        "    elif(switch==2): #저음\n",
        "        rate = np.random.uniform(-5, -2)\n",
        "    y = librosa.effects.pitch_shift(y, sr, n_steps=rate)\n",
        "    return y\n",
        "\n",
        "def adding_random_noise(y, noise_rate=0.005):\n",
        "    rn = np.random.randn(len(y))\n",
        "    data_rn = y + noise_rate*rn\n",
        "    return data_rn\n",
        "\n",
        "def minus_sound(y):\n",
        "    temp_numpy = (-1)*y\n",
        "    return temp_numpy\n",
        "\n",
        "def shifting_sound(data,  roll_rate=0.3):\n",
        "    # 그냥 [1, 2, 3, 4] 를 [4, 1, 2, 3]으로 만들어주는건데 이게 효과있는지는 잘 모르겠\n",
        "    data_roll = np.roll(data, int(len(data) * roll_rate))\n",
        "    return data_roll\n",
        "\n",
        "def stretch_sound(data, rate=0.7):\n",
        "    # stretch 해주는거 비율이 뭐가 좋은지 잘모르겟, 0.8이랑, 1.2랑 차이가 안나는거 같음\n",
        "    stretch_data = librosa.effects.time_stretch(data, rate)\n",
        "    return stretch_data\n",
        "\n",
        "def reverse_sound(data):\n",
        "    temp_array = []\n",
        "    for i in range(len(data)):\n",
        "        temp_array.append(data[len(data)-1-i])\n",
        "    temp_numpy =np.asarray(temp_array)\n",
        "    return temp_numpy\n",
        "\n",
        "def adding_white_noise(file_path, sr=22050, noise_quite=25):\n",
        "    current_dir = '/content/drive/My Drive/tobigs/snorrr2/'\n",
        "    noise_dir = os.path.join(current_dir, 'noise')\n",
        "    sound_file = AudioSegment.from_file(file_path)\n",
        "    # 길이 만큼 random 돌려서 걔 얻기\n",
        "    file_list = os.listdir(noise_dir)\n",
        "    noise_file_idx = np.random.randint(0,len(file_list))\n",
        "    noise_file = AudioSegment.from_file(os.path.join(noise_dir,file_list[noise_file_idx]))\n",
        "    noise_file = noise_file-noise_quite\n",
        "    new_sound = sound_file.overlay(noise_file)\n",
        "    new_sound.export(os.path.join(current_dir, 'temp.mp3'),format='mp3')\n",
        "    \n",
        "    wav,sr = librosa.load(os.path.join(current_dir, 'temp.mp3'),sr=sr)\n",
        "    return wav"
      ],
      "execution_count": 0,
      "outputs": []
    },
    {
      "cell_type": "code",
      "metadata": {
        "id": "vFv9INneDQIu",
        "colab_type": "code",
        "colab": {}
      },
      "source": [
        "def get_mfcc(file_path, isTrain, sr=44100, n_fft=2048, hop_length=512, n_mels=128, fmin=20, fmax=8300, top_db=80, norm=0):\n",
        "    #train에만 aug\n",
        "    if(isTrain==True):\n",
        "      switch = np.random.randint(0,3)\n",
        "      wav,sr = librosa.load(file_path,sr=sr)\n",
        "\n",
        "      # if switch==1:\n",
        "      #   wav = adding_white_noise(file_path)\n",
        "      # elif switch==2:\n",
        "      #   # random한 개수만큼 개수만큼  변형하기!\n",
        "      #   aug_num = np.random.randint(1,4)\n",
        "      #   aug_idx_list = np.random.randint(6,size=aug_num)\n",
        "      #   aug_func_list = [shifting_sound, stretch_sound, reverse_sound, partial(freq_augmentation,sr=sr), adding_random_noise, minus_sound]\n",
        "      #   for aug_idx in aug_idx_list:\n",
        "      #     wav = aug_func_list[aug_idx](wav)\n",
        "    else:\n",
        "      wav,sr = librosa.load(file_path,sr=sr)\n",
        "    print(wav.shape, sr)\n",
        "    if norm==0:\n",
        "      print(0)\n",
        "      wav = librosa.util.normalize(wav)\n",
        "    elif norm==1:\n",
        "      print(1)\n",
        "      wav = 2*((wav - np.min(wav)) / (np.max(wav) - np.min(wav)))-1\n",
        "    \n",
        "    # if wav.shape[0]<10*sr:\n",
        "    #   wav=np.pad(wav,int(np.ceil((10*sr-wav.shape[0]))),mode='reflect')\n",
        "    if wav.shape[0]<5*sr:\n",
        "        wav=np.pad(wav,int(np.ceil((5*sr-wav.shape[0])/2)),mode='reflect')\n",
        "    else:\n",
        "        # wav=wav[:5*sr]\n",
        "        wav=wav[5*sr:]\n",
        "    mfcc = librosa.feature.mfcc(wav, sr, n_mfcc=50) \n",
        "    return mfcc"
      ],
      "execution_count": 0,
      "outputs": []
    },
    {
      "cell_type": "code",
      "metadata": {
        "id": "Z7IaRmY3C3Os",
        "colab_type": "code",
        "colab": {}
      },
      "source": [
        "from functools import partial\n",
        "def get_melspectrogram_db(file_path, isTrain, sr=44100, n_fft=2048, hop_length=512, n_mels=128, fmin=20, fmax=8300, top_db=80):\n",
        "    #train에만 aug\n",
        "    if(isTrain==True):\n",
        "      switch = np.random.randint(0,3)\n",
        "      wav,sr = librosa.load(file_path,sr=sr)\n",
        "\n",
        "      # if switch==1:\n",
        "      #   wav = adding_white_noise(file_path)\n",
        "      # elif switch==2:\n",
        "      #   # random한 개수만큼 개수만큼  변형하기!\n",
        "      #   aug_num = np.random.randint(1,4)\n",
        "      #   aug_idx_list = np.random.randint(6,size=aug_num)\n",
        "      #   aug_func_list = [shifting_sound, stretch_sound, reverse_sound, partial(freq_augmentation,sr=sr), adding_random_noise, minus_sound]\n",
        "      #   for aug_idx in aug_idx_list:\n",
        "      #     wav = aug_func_list[aug_idx](wav)\n",
        "    else:\n",
        "      wav,sr = librosa.load(file_path,sr=sr)\n",
        "\n",
        "    if wav.shape[0]<5*sr:\n",
        "        wav=np.pad(wav,int(np.ceil((5*sr-wav.shape[0])/2)),mode='reflect')\n",
        "    else:\n",
        "        wav=wav[:5*sr]\n",
        "        \n",
        "    spec=librosa.feature.melspectrogram(wav, sr=sr, n_fft=n_fft,hop_length=hop_length,n_mels=n_mels,fmin=fmin,fmax=fmax)\n",
        "    spec_db=librosa.power_to_db(spec,top_db=top_db)\n",
        "    return spec_db\n",
        "\n",
        "def spec_to_image(spec, eps=1e-6):\n",
        "    # coefficient mean and variance normalization\n",
        "    # mean = np.mean(spec, axis=1, keepdims=True) #each coefficient mean\n",
        "    # std = np.std(spec, axis=1, keepdims=True)\n",
        "    mean= np.mean(spec)\n",
        "    std = np.std(spec)\n",
        "    print(mean.shape, std.shape)\n",
        "    spec_norm = (spec - mean) / (std + eps)\n",
        "    return spec_norm\n",
        "    "
      ],
      "execution_count": 0,
      "outputs": []
    },
    {
      "cell_type": "code",
      "metadata": {
        "id": "VfAENDWaf2GU",
        "colab_type": "code",
        "outputId": "24cd685d-c540-4f94-cff7-b2725714153c",
        "colab": {
          "base_uri": "https://localhost:8080/",
          "height": 35
        }
      },
      "source": [
        "from keras.utils import Sequence\n",
        "class DataGenerator(Sequence):\n",
        "    def __init__(self, df, batch_size, shuffle = True, train=False, use_mfcc =True):\n",
        "        self.X = list(df['file_name'])\n",
        "        self.y = list(df['labels'])\n",
        "        self.batch_size = batch_size\n",
        "        self.shuffle = shuffle\n",
        "        self.on_epoch_end()\n",
        "        self.use_mfcc= use_mfcc\n",
        "        self.train=train\n",
        "        \n",
        "    def on_epoch_end(self):\n",
        "        self.indexes = np.arange(len(self.X))\n",
        "        if self.shuffle:\n",
        "            np.random.shuffle(self.indexes)\n",
        "    def __len__(self):\n",
        "        return int(np.floor(len(self.X) / self.batch_size))\n",
        "    \n",
        "    def __data_generation(self, X_list, y_list):\n",
        "        X = []\n",
        "        y = []\n",
        "        \n",
        "        for i, (img_dir, label) in enumerate(zip(X_list, y_list)):\n",
        "          if label == 1:\n",
        "              audio_path = os.path.join(path1, img_dir)\n",
        "          elif label ==2:\n",
        "              audio_path = os.path.join(path2, img_dir)\n",
        "          elif label == 3:\n",
        "              audio_path = os.path.join(path3, img_dir)\n",
        "          elif label == 4:\n",
        "              audio_path = os.path.join(path4, img_dir)\n",
        "          elif label == 5:\n",
        "              audio_path = os.path.join(path5, img_dir)\n",
        "          ### mfcc 쓸지 mel 쓸지\n",
        "          if use_mfcc==False:\n",
        "            image = get_melspectrogram_db(audio_path, self.train)\n",
        "          else:\n",
        "            image = get_mfcc(audio_path, self.train)\n",
        "          ### 정규화하기\n",
        "          image = spec_to_image(image)\n",
        "          ### RGB로 바꾸기\n",
        "          image = np.expand_dims(image, axis=2)\n",
        "          image = np.repeat(image,3,axis=2)\n",
        "          ### label True False로 바꾸기\n",
        "          if label ==3:\n",
        "            label = 1\n",
        "          else:\n",
        "            label = 0\n",
        "          # print(image.shape)\n",
        "          X.append(image)\n",
        "          one_hot_label= [0,0]\n",
        "          one_hot_label[label] = 1\n",
        "          y.append(np.array(one_hot_label))\n",
        "        \n",
        "        # batch size 만큼 있던거 stack하기\n",
        "        X = np.stack(X, axis=0)\n",
        "        y = np.stack(y, axis=0)\n",
        "        # print(X.shape,y.shape)\n",
        "        return X, y\n",
        "        \n",
        "    def __getitem__(self, index):\n",
        "        indexes = self.indexes[index * self.batch_size : (index + 1) * self.batch_size]\n",
        "        X_list = [self.X[k] for k in indexes]\n",
        "        y_list = [self.y[k] for k in indexes]\n",
        "        X, y = self.__data_generation(X_list, y_list)\n",
        "        # print('get')\n",
        "        return X, y"
      ],
      "execution_count": 0,
      "outputs": [
        {
          "output_type": "stream",
          "text": [
            "Using TensorFlow backend.\n"
          ],
          "name": "stderr"
        }
      ]
    },
    {
      "cell_type": "markdown",
      "metadata": {
        "id": "Zl-QiaAbZGt5",
        "colab_type": "text"
      },
      "source": [
        "## 학습하기"
      ]
    },
    {
      "cell_type": "code",
      "metadata": {
        "id": "g6MbQYJJwc0K",
        "colab_type": "code",
        "colab": {}
      },
      "source": [
        "# Keras\n",
        "train_generator = DataGenerator(train_df, 5, train=True)\n",
        "# valid_generator = DataGenerator(valid_df, 5)\n",
        "test_generator = DataGenerator(test_df, 3, shuffle=False)\n",
        "\n",
        "\n",
        "# # pytorch는 generator랑 \n",
        "# dataset_train = TrainDatasetBool(df=train_df,\n",
        "#                             img_dir=\"./\",\n",
        "#                             transforms=aug_train, isTrain=True, use_mfcc=use_mfcc)\n",
        "\n",
        "# test_generator = TrainDatasetBool(df=test_df,\n",
        "#                             img_dir=\"./\",\n",
        "#                             transforms=aug_test, isTrain=False, use_mfcc=use_mfcc)\n",
        "\n",
        "\n",
        "# train_loader = DataLoader(dataset=dataset_train, batch_size=64, shuffle=False)\n",
        "# #1576/32(batch 수) -> 50개\n",
        "# test_loader = DataLoader(dataset=dataset_test, batch_size=32, shuffle=False)"
      ],
      "execution_count": 0,
      "outputs": []
    },
    {
      "cell_type": "code",
      "metadata": {
        "id": "6-6j_7y2cAhC",
        "colab_type": "code",
        "outputId": "92af8fb6-84a0-455a-db04-92c3dc39e6c0",
        "colab": {
          "base_uri": "https://localhost:8080/",
          "height": 35
        }
      },
      "source": [
        "len(train_generator), len(test_generator)"
      ],
      "execution_count": 0,
      "outputs": [
        {
          "output_type": "execute_result",
          "data": {
            "text/plain": [
              "(807, 577)"
            ]
          },
          "metadata": {
            "tags": []
          },
          "execution_count": 14
        }
      ]
    },
    {
      "cell_type": "code",
      "metadata": {
        "id": "fxZc2f3FFmw5",
        "colab_type": "code",
        "colab": {}
      },
      "source": [
        "num_classes = 2\n",
        "lr = 3e-3 # 0.003정도\n",
        "eta_min = 1e-5\n",
        "t_max = 10\n",
        "num_epochs = 20\n",
        "use_mfcc = True\n",
        "# use_mfcc = False"
      ],
      "execution_count": 0,
      "outputs": []
    },
    {
      "cell_type": "code",
      "metadata": {
        "id": "fKhpHEMY8a3Q",
        "colab_type": "code",
        "colab": {}
      },
      "source": [
        "from keras.optimizers import Adam\n",
        "opt = Adam(lr=lr, beta_1=0.9, beta_2=0.999, decay=0.01)\n",
        "\n",
        "### torch\n",
        "# criterion = nn.CrossEntropyLoss().cuda()\n",
        "# # 모델 전체 params 넣음\n",
        "# optimizer = Adam(params=model.parameters(), lr=lr, amsgrad=False)\n",
        "# #  lr을 cosine 함수의 형태처럼 변화시킨다. lr이 커졌다가 작아졌다가 한다. optimizer 가 변수로 들어가 있음\n",
        "# scheduler = CosineAnnealingLR(optimizer, T_max=t_max, eta_min=eta_min)\n"
      ],
      "execution_count": 0,
      "outputs": []
    },
    {
      "cell_type": "code",
      "metadata": {
        "id": "pV_3E_HSNhh1",
        "colab_type": "code",
        "colab": {}
      },
      "source": [
        "from keras import backend as K\n",
        "import tensorflow as tf\n",
        "def auc(y_true, y_pred):\n",
        "    auc = tf.metrics.auc(y_true, y_pred)[1]\n",
        "    K.get_session().run(tf.local_variables_initializer())\n",
        "    return auc"
      ],
      "execution_count": 0,
      "outputs": []
    },
    {
      "cell_type": "code",
      "metadata": {
        "id": "chlh06dzC6WN",
        "colab_type": "code",
        "outputId": "54a7edb8-43c9-4274-b463-d2a63f535312",
        "colab": {
          "base_uri": "https://localhost:8080/",
          "height": 452
        }
      },
      "source": [
        "# Keras Model\n",
        "from keras.applications.mobilenet_v2 import MobileNetV2\n",
        "from keras.models import Model\n",
        "from keras.layers import Dense, GlobalAveragePooling2D\n",
        "\n",
        "# classes 도 줄이고 싶은데 weight가 sepcified될떄는 안된대서 일단 1000개로\n",
        "# include_top 빼면 로딩이 되긴 하는데 안빼면 좋을텥데\n",
        "base_model = MobileNetV2(input_shape=(50, 431, 3),weights='imagenet',include_top=False)\n",
        "# include_top 뺐으니까 다시 추가해줘야지\n",
        "x = base_model.output\n",
        "# https://keras.io/layers/pooling/\n",
        "# Pooling2D로 데이터를 2차원으로 만들어버린다!(batch_size, rows, cols, channels)-> (batch_size, value)\n",
        "x = GlobalAveragePooling2D()(x)\n",
        "x = Dense(1024, activation='relu')(x)\n",
        "predictions = Dense(num_classes, activation='softmax')(x)\n",
        "model = Model(inputs=base_model.input, outputs=predictions)\n",
        "\n",
        "# preds = model.predict(x)\n",
        "# decode the results into a list of tuples (class, description, probability)\n",
        "# (one such list for each sample in the batch)\n",
        "# print('Predicted:', decode_predictions(preds, top=3)[0])\n",
        "# Predicted: [(u'n02504013', u'Indian_elephant', 0.82658225), (u'n01871265', u'tusker', 0.1122357), (u'n02504458', u'African_elephant', 0.061040461)]"
      ],
      "execution_count": 0,
      "outputs": [
        {
          "output_type": "stream",
          "text": [
            "WARNING:tensorflow:From /usr/local/lib/python3.6/dist-packages/keras/backend/tensorflow_backend.py:66: The name tf.get_default_graph is deprecated. Please use tf.compat.v1.get_default_graph instead.\n",
            "\n",
            "WARNING:tensorflow:From /usr/local/lib/python3.6/dist-packages/keras/backend/tensorflow_backend.py:541: The name tf.placeholder is deprecated. Please use tf.compat.v1.placeholder instead.\n",
            "\n",
            "WARNING:tensorflow:From /usr/local/lib/python3.6/dist-packages/keras/backend/tensorflow_backend.py:4432: The name tf.random_uniform is deprecated. Please use tf.random.uniform instead.\n",
            "\n",
            "WARNING:tensorflow:From /usr/local/lib/python3.6/dist-packages/keras/backend/tensorflow_backend.py:190: The name tf.get_default_session is deprecated. Please use tf.compat.v1.get_default_session instead.\n",
            "\n",
            "WARNING:tensorflow:From /usr/local/lib/python3.6/dist-packages/keras/backend/tensorflow_backend.py:197: The name tf.ConfigProto is deprecated. Please use tf.compat.v1.ConfigProto instead.\n",
            "\n",
            "WARNING:tensorflow:From /usr/local/lib/python3.6/dist-packages/keras/backend/tensorflow_backend.py:203: The name tf.Session is deprecated. Please use tf.compat.v1.Session instead.\n",
            "\n",
            "WARNING:tensorflow:From /usr/local/lib/python3.6/dist-packages/keras/backend/tensorflow_backend.py:207: The name tf.global_variables is deprecated. Please use tf.compat.v1.global_variables instead.\n",
            "\n",
            "WARNING:tensorflow:From /usr/local/lib/python3.6/dist-packages/keras/backend/tensorflow_backend.py:216: The name tf.is_variable_initialized is deprecated. Please use tf.compat.v1.is_variable_initialized instead.\n",
            "\n",
            "WARNING:tensorflow:From /usr/local/lib/python3.6/dist-packages/keras/backend/tensorflow_backend.py:223: The name tf.variables_initializer is deprecated. Please use tf.compat.v1.variables_initializer instead.\n",
            "\n",
            "WARNING:tensorflow:From /usr/local/lib/python3.6/dist-packages/keras/backend/tensorflow_backend.py:2041: The name tf.nn.fused_batch_norm is deprecated. Please use tf.compat.v1.nn.fused_batch_norm instead.\n",
            "\n",
            "WARNING:tensorflow:From /usr/local/lib/python3.6/dist-packages/keras/backend/tensorflow_backend.py:148: The name tf.placeholder_with_default is deprecated. Please use tf.compat.v1.placeholder_with_default instead.\n",
            "\n",
            "Downloading data from https://github.com/JonathanCMitchell/mobilenet_v2_keras/releases/download/v1.1/mobilenet_v2_weights_tf_dim_ordering_tf_kernels_1.0_224_no_top.h5\n",
            "9412608/9406464 [==============================] - 0s 0us/step\n"
          ],
          "name": "stdout"
        }
      ]
    },
    {
      "cell_type": "code",
      "metadata": {
        "id": "GjAs88C67NPC",
        "colab_type": "code",
        "colab": {}
      },
      "source": [
        "# model.summary()"
      ],
      "execution_count": 0,
      "outputs": []
    },
    {
      "cell_type": "code",
      "metadata": {
        "id": "6TnymhxD3flh",
        "colab_type": "code",
        "outputId": "4a61d253-5024-4bb2-c8d0-53bc20f4142c",
        "colab": {
          "base_uri": "https://localhost:8080/",
          "height": 504
        }
      },
      "source": [
        "from keras.callbacks import BaseLogger,Callback\n",
        "# 마지막 레이어만 학습하기\n",
        "for layer in base_model.layers:\n",
        "    layer.trainable = False\n",
        "\n",
        "model.compile(loss='categorical_crossentropy', optimizer=opt, metrics=[\"accuracy\", auc])\n",
        "\n",
        "model.fit(x=train_generator,\n",
        "          epochs = 5)     \n",
        "\n",
        "# model.fit_generator(generator=train_generator,\n",
        "#                     validation_data=valid_generator,\n",
        "#                     epochs = 2)     "
      ],
      "execution_count": 0,
      "outputs": [
        {
          "output_type": "stream",
          "text": [
            "WARNING:tensorflow:From /usr/local/lib/python3.6/dist-packages/keras/optimizers.py:793: The name tf.train.Optimizer is deprecated. Please use tf.compat.v1.train.Optimizer instead.\n",
            "\n",
            "WARNING:tensorflow:From /usr/local/lib/python3.6/dist-packages/keras/backend/tensorflow_backend.py:3576: The name tf.log is deprecated. Please use tf.math.log instead.\n",
            "\n",
            "WARNING:tensorflow:From /tensorflow-1.15.2/python3.6/tensorflow_core/python/ops/metrics_impl.py:808: div (from tensorflow.python.ops.math_ops) is deprecated and will be removed in a future version.\n",
            "Instructions for updating:\n",
            "Deprecated in favor of operator or tf.math.divide.\n",
            "WARNING:tensorflow:From /tensorflow-1.15.2/python3.6/tensorflow_core/python/ops/math_grad.py:1424: where (from tensorflow.python.ops.array_ops) is deprecated and will be removed in a future version.\n",
            "Instructions for updating:\n",
            "Use tf.where in 2.0, which has the same broadcast rule as np.where\n",
            "WARNING:tensorflow:From /usr/local/lib/python3.6/dist-packages/keras/backend/tensorflow_backend.py:1033: The name tf.assign_add is deprecated. Please use tf.compat.v1.assign_add instead.\n",
            "\n",
            "WARNING:tensorflow:From /usr/local/lib/python3.6/dist-packages/keras/backend/tensorflow_backend.py:1020: The name tf.assign is deprecated. Please use tf.compat.v1.assign instead.\n",
            "\n",
            "Epoch 1/5\n",
            "(441000,) 44100\n",
            "0\n",
            "() ()\n",
            "(441000,) 44100\n",
            "0\n",
            "() ()\n",
            "(441000,) 44100\n",
            "0\n",
            "() ()\n",
            "(441000,) 44100\n",
            "0\n",
            "() ()\n"
          ],
          "name": "stdout"
        }
      ]
    },
    {
      "cell_type": "code",
      "metadata": {
        "id": "1iqgOz_4JlKH",
        "colab_type": "code",
        "colab": {}
      },
      "source": [
        "for layer in model.layers:\n",
        "    layer.trainable = True"
      ],
      "execution_count": 0,
      "outputs": []
    },
    {
      "cell_type": "code",
      "metadata": {
        "id": "tx47RSQvDrNB",
        "colab_type": "code",
        "colab": {}
      },
      "source": [
        "# compile을 해야 train 바꾼것들이 적용 되지!\n",
        "model.compile(loss='categorical_crossentropy', optimizer=opt, metrics=[\"accuracy\", auc])"
      ],
      "execution_count": 0,
      "outputs": []
    },
    {
      "cell_type": "code",
      "metadata": {
        "id": "6Zg_of13Nv6b",
        "colab_type": "code",
        "colab": {}
      },
      "source": [
        "# model 괜찮을때만 저장하기\n",
        "from keras.callbacks import ModelCheckpoint\n",
        "# keras.callbacks.ModelCheckpoint(filepath, monitor='val_loss', verbose=0, save_best_only=False, save_weights_only=False, mode='auto', period=1)\n",
        "# monitor = 어떤거 바탕으로 파악할거냐\n",
        "# verbose 콘솔창에 어떻게 띄울지\n",
        "# save_bast_only\n",
        "# mode 최대값을 볼건지, 최소값을ㅇ 볼건지, monitor를 보고 알아서 파악할건지\n",
        "MODEL_SAVE_PATH = './model/'\n",
        "if not os.path.exists(MODEL_SAVE_PATH):\n",
        "  os.mkdir(MODEL_SAVE_PATH)\n",
        "# 저장할 파일 이름(저 괄호는 알아서 적어주는거겠지?)\n",
        "model_path = MODEL_SAVE_PATH + '{epoch:02d}-{acc:.4f}_weight.hdf5'\n",
        "cb_checkpoint = ModelCheckpoint(model_path,monitor='acc', verbose=0,\n",
        "                                save_best_only=False,\n",
        "                                save_weights_only=True,\n",
        "                                mode='auto', period=1)\n",
        "\n",
        "from keras.callbacks import EarlyStopping\n",
        "# patience 해당 값이 안올라 가는 걸 몇번 허용하냐\n",
        "# min_delta 어느정도 오차는 성능이 안나아졌다고 할거냐?\n",
        "cb_earlystopping = EarlyStopping(monitor='acc', \n",
        "                            min_delta=0, patience=5, verbose=0, \n",
        "                            mode='auto', baseline=None, \n",
        "                            restore_best_weights=False)\n"
      ],
      "execution_count": 0,
      "outputs": []
    },
    {
      "cell_type": "code",
      "metadata": {
        "id": "OJqfhB7Ygqf-",
        "colab_type": "code",
        "outputId": "f58efbd7-253c-4e8c-db07-7413ad67955f",
        "colab": {
          "base_uri": "https://localhost:8080/",
          "height": 706
        }
      },
      "source": [
        "# fit으로 하니까 되긴 되네..\n",
        "# history = LossHistory()\n",
        "model.fit(x=train_generator,\n",
        "          epochs = 20,\n",
        "          callbacks = [cb_checkpoint, cb_earlystopping])     "
      ],
      "execution_count": 0,
      "outputs": [
        {
          "output_type": "stream",
          "text": [
            "Epoch 1/20\n",
            "807/807 [==============================] - 1940s 2s/step - loss: 0.3942 - acc: 0.8275 - auc: 0.8699\n",
            "Epoch 2/20\n",
            "807/807 [==============================] - 1937s 2s/step - loss: 0.2866 - acc: 0.8778 - auc: 0.9196\n",
            "Epoch 3/20\n",
            "807/807 [==============================] - 1970s 2s/step - loss: 0.2341 - acc: 0.9081 - auc: 0.9377\n",
            "Epoch 4/20\n",
            "807/807 [==============================] - 1984s 2s/step - loss: 0.1775 - acc: 0.9306 - auc: 0.9498\n",
            "Epoch 5/20\n",
            "807/807 [==============================] - 1983s 2s/step - loss: 0.1718 - acc: 0.9309 - auc: 0.9583\n",
            "Epoch 6/20\n",
            "807/807 [==============================] - 1976s 2s/step - loss: 0.1232 - acc: 0.9532 - auc: 0.9648\n",
            "Epoch 7/20\n",
            "807/807 [==============================] - 1985s 2s/step - loss: 0.1128 - acc: 0.9556 - auc: 0.9699\n",
            "Epoch 8/20\n",
            "807/807 [==============================] - 1968s 2s/step - loss: 0.0944 - acc: 0.9631 - auc: 0.9740\n",
            "Epoch 9/20\n",
            "807/807 [==============================] - 1990s 2s/step - loss: 0.0777 - acc: 0.9715 - auc: 0.9774\n",
            "Epoch 10/20\n",
            "807/807 [==============================] - 1963s 2s/step - loss: 0.0703 - acc: 0.9745 - auc: 0.9802\n",
            "Epoch 11/20\n",
            "807/807 [==============================] - 1930s 2s/step - loss: 0.0589 - acc: 0.9782 - auc: 0.9825\n",
            "Epoch 12/20\n",
            "807/807 [==============================] - 2009s 2s/step - loss: 0.0418 - acc: 0.9846 - auc: 0.9846\n",
            "Epoch 13/20\n",
            "807/807 [==============================] - 2011s 2s/step - loss: 0.0482 - acc: 0.9812 - auc: 0.9863\n",
            "Epoch 14/20\n",
            "807/807 [==============================] - 2012s 2s/step - loss: 0.0508 - acc: 0.9822 - auc: 0.9875\n",
            "Epoch 15/20\n",
            "807/807 [==============================] - 2014s 2s/step - loss: 0.0417 - acc: 0.9846 - auc: 0.9886\n",
            "Epoch 16/20\n",
            "807/807 [==============================] - 2012s 2s/step - loss: 0.0283 - acc: 0.9898 - auc: 0.9897\n",
            "Epoch 17/20\n",
            "807/807 [==============================] - 2012s 2s/step - loss: 0.0255 - acc: 0.9901 - auc: 0.9906\n",
            "Epoch 18/20\n",
            "807/807 [==============================] - 2027s 3s/step - loss: 0.0266 - acc: 0.9896 - auc: 0.9914\n",
            "Epoch 19/20\n",
            "807/807 [==============================] - 2007s 2s/step - loss: 0.0315 - acc: 0.9898 - auc: 0.9921\n",
            "Epoch 20/20\n",
            "807/807 [==============================] - 2027s 3s/step - loss: 0.0260 - acc: 0.9916 - auc: 0.9926\n"
          ],
          "name": "stdout"
        },
        {
          "output_type": "execute_result",
          "data": {
            "text/plain": [
              "<keras.callbacks.History at 0x7feb93421fd0>"
            ]
          },
          "metadata": {
            "tags": []
          },
          "execution_count": 23
        }
      ]
    },
    {
      "cell_type": "code",
      "metadata": {
        "id": "MrH-4Mp7NlC9",
        "colab_type": "code",
        "colab": {}
      },
      "source": [
        "# validaiton 넣으면 계속 hang\n",
        "# model.fit_generator(generator=train_generator,\n",
        "#                     validation_data=valid_generator,\n",
        "#                     epochs = 20,\n",
        "#                     callbacks = [cb_checkpoint, cb_earlystopping])    \n",
        "  "
      ],
      "execution_count": 0,
      "outputs": []
    },
    {
      "cell_type": "code",
      "metadata": {
        "id": "QrSVIVVcQiaa",
        "colab_type": "code",
        "outputId": "56678a78-dc55-4361-c817-93ac294806bf",
        "colab": {
          "base_uri": "https://localhost:8080/",
          "height": 50
        }
      },
      "source": [
        "model.evaluate(x=test_generator)"
      ],
      "execution_count": 0,
      "outputs": [
        {
          "output_type": "stream",
          "text": [
            "577/577 [==============================] - 1397s 2s/step\n"
          ],
          "name": "stdout"
        },
        {
          "output_type": "execute_result",
          "data": {
            "text/plain": [
              "[0.35524360412433487, 0.9127671908671149, 0.9924933505430172]"
            ]
          },
          "metadata": {
            "tags": []
          },
          "execution_count": 24
        }
      ]
    },
    {
      "cell_type": "markdown",
      "metadata": {
        "id": "64_7tEvDZekw",
        "colab_type": "text"
      },
      "source": [
        "# 평가"
      ]
    },
    {
      "cell_type": "markdown",
      "metadata": {
        "id": "tN5Io-BkPkQt",
        "colab_type": "text"
      },
      "source": [
        "## 전체 evaluate"
      ]
    },
    {
      "cell_type": "code",
      "metadata": {
        "id": "WcPM9McxKg5j",
        "colab_type": "code",
        "colab": {}
      },
      "source": [
        "model.load_weights(\"./model/20-0.9916_weight.hdf5\")"
      ],
      "execution_count": 0,
      "outputs": []
    },
    {
      "cell_type": "code",
      "metadata": {
        "id": "RXvLPElYgr3j",
        "colab_type": "code",
        "colab": {}
      },
      "source": [
        "model.evaluate(x=test_generator)"
      ],
      "execution_count": 0,
      "outputs": []
    },
    {
      "cell_type": "code",
      "metadata": {
        "id": "w2OdnHUSPtbz",
        "colab_type": "code",
        "colab": {}
      },
      "source": [
        "# shuffle은 False되어있어야\n",
        "predict = model.predict(test_generator)\n",
        "pred_bool = np.argmax(predict, axis=1)"
      ],
      "execution_count": 0,
      "outputs": []
    },
    {
      "cell_type": "code",
      "metadata": {
        "id": "LB5t43hDjHPY",
        "colab_type": "code",
        "outputId": "ae1f2959-7f23-40c3-a1a7-32f9f5ea18b7",
        "colab": {
          "base_uri": "https://localhost:8080/",
          "height": 134
        }
      },
      "source": [
        "predict"
      ],
      "execution_count": 0,
      "outputs": [
        {
          "output_type": "execute_result",
          "data": {
            "text/plain": [
              "array([[9.9975413e-01, 2.4588330e-04],\n",
              "       [9.9999857e-01, 1.3785061e-06],\n",
              "       [9.9950373e-01, 4.9621036e-04],\n",
              "       ...,\n",
              "       [1.0000000e+00, 4.2583217e-08],\n",
              "       [9.3533248e-01, 6.4667530e-02],\n",
              "       [9.9939501e-01, 6.0494599e-04]], dtype=float32)"
            ]
          },
          "metadata": {
            "tags": []
          },
          "execution_count": 103
        }
      ]
    },
    {
      "cell_type": "code",
      "metadata": {
        "id": "iuP3NrbHjKCF",
        "colab_type": "code",
        "outputId": "24ba7a7f-a7ed-4534-e16d-06c2a74598ee",
        "colab": {
          "base_uri": "https://localhost:8080/",
          "height": 50
        }
      },
      "source": [
        "pred_bool[0:30]"
      ],
      "execution_count": 0,
      "outputs": [
        {
          "output_type": "execute_result",
          "data": {
            "text/plain": [
              "array([0, 0, 0, 0, 0, 0, 0, 1, 0, 0, 0, 0, 1, 0, 1, 0, 0, 1, 1, 1, 0, 0,\n",
              "       1, 0, 1, 0, 1, 0, 0, 0])"
            ]
          },
          "metadata": {
            "tags": []
          },
          "execution_count": 105
        }
      ]
    },
    {
      "cell_type": "code",
      "metadata": {
        "id": "tJ3jX_JzjKAc",
        "colab_type": "code",
        "outputId": "ca295a2a-324a-49fa-9817-e2e86dd0399c",
        "colab": {
          "base_uri": "https://localhost:8080/",
          "height": 84
        }
      },
      "source": [
        "(test_df.loc[0:30,'labels']==True).to_numpy()"
      ],
      "execution_count": 0,
      "outputs": [
        {
          "output_type": "execute_result",
          "data": {
            "text/plain": [
              "array([False, False,  True, False,  True,  True, False, False,  True,\n",
              "       False, False,  True, False, False, False,  True, False, False,\n",
              "       False, False, False,  True, False, False,  True, False, False,\n",
              "        True, False,  True, False])"
            ]
          },
          "metadata": {
            "tags": []
          },
          "execution_count": 106
        }
      ]
    },
    {
      "cell_type": "code",
      "metadata": {
        "id": "gMFOeIzceRa8",
        "colab_type": "code",
        "colab": {}
      },
      "source": [
        "real = test_df.loc[:len(test_df)-2,'labels']==3\n",
        "real_np = real.apply(lambda x: 1 if x==True else 0).to_numpy()"
      ],
      "execution_count": 0,
      "outputs": []
    },
    {
      "cell_type": "code",
      "metadata": {
        "id": "PDguVBtnfs9k",
        "colab_type": "code",
        "colab": {}
      },
      "source": [
        ""
      ],
      "execution_count": 0,
      "outputs": []
    },
    {
      "cell_type": "code",
      "metadata": {
        "id": "KByYyajQUGA3",
        "colab_type": "code",
        "outputId": "e8abd42f-5989-4d89-a447-0af348bb86bf",
        "colab": {
          "base_uri": "https://localhost:8080/",
          "height": 168
        }
      },
      "source": [
        "# pred_bool = np.argmax(predict, axis=1)\n",
        "\n",
        "# 3개에 나누어 떨어지는 만큼만 train을 해서 하나가 모자름\n",
        "print(classification_report(real_np, pred_bool))"
      ],
      "execution_count": 0,
      "outputs": [
        {
          "output_type": "stream",
          "text": [
            "              precision    recall  f1-score   support\n",
            "\n",
            "           0       0.90      0.98      0.94      1077\n",
            "           1       0.95      0.82      0.88       654\n",
            "\n",
            "    accuracy                           0.92      1731\n",
            "   macro avg       0.93      0.90      0.91      1731\n",
            "weighted avg       0.92      0.92      0.92      1731\n",
            "\n"
          ],
          "name": "stdout"
        }
      ]
    },
    {
      "cell_type": "code",
      "metadata": {
        "id": "kX76eDiJdazM",
        "colab_type": "code",
        "outputId": "7999b47e-2054-4464-8213-049bfea57361",
        "colab": {
          "base_uri": "https://localhost:8080/",
          "height": 34
        }
      },
      "source": [
        "cd /content/drive/My\\ Drive/tobigs/snorrr2/data"
      ],
      "execution_count": 0,
      "outputs": [
        {
          "output_type": "stream",
          "text": [
            "/content/drive/My Drive/tobigs/snorrr2/data\n"
          ],
          "name": "stdout"
        }
      ]
    },
    {
      "cell_type": "markdown",
      "metadata": {
        "id": "lm7jjlvkw895",
        "colab_type": "text"
      },
      "source": [
        "## file predict"
      ]
    },
    {
      "cell_type": "code",
      "metadata": {
        "id": "govKh8GdxBg5",
        "colab_type": "code",
        "colab": {}
      },
      "source": [
        "model.load_weights(\"./model/20-0.9916_weight.hdf5\")"
      ],
      "execution_count": 0,
      "outputs": []
    },
    {
      "cell_type": "code",
      "metadata": {
        "id": "wIea17yTxTSP",
        "colab_type": "code",
        "outputId": "452b90fc-98fd-494b-f589-0c8a57a1b10a",
        "colab": {
          "base_uri": "https://localhost:8080/",
          "height": 50
        }
      },
      "source": [
        "# image = get_mfcc('./data/test.wav', False)\n",
        "# image = get_mfcc('./data/very_quite.wav', False)\n",
        "# image = get_mfcc('./data/very_quite2_with_app.mp3', False)\n",
        "# image = get_mfcc('./data/very_quite3_with_app.mp3', False)\n",
        "# image = get_mfcc('./data/very_quite4_with_app.mp3', False)\n",
        "# image = get_mfcc('./data/very_quite2.mp3', False)\n",
        "# image = get_mfcc('./data/very_quite3.mp3', False)\n",
        "# image = get_mfcc('./data/very_quite4.mp3', False)\n",
        "# image = get_mfcc('./data/very_quite5.mp3', False)\n",
        "# image = get_mfcc('./data/very_quite6.mp3', False)\n",
        "# image = get_mfcc('./data/3223.mp3', False) \n",
        "# image = get_mfcc('./data/3223_record.wav', False) \n",
        "# image = get_mfcc('./data/3223_with_record_app.mp3', False, norm=3) \n",
        "image = get_mfcc('./data/3223_with_record_app.mp3', False, norm=1) \n",
        "# image = get_mfcc('./data/3223_with_record_app.mp3', False) \n"
      ],
      "execution_count": 0,
      "outputs": [
        {
          "output_type": "stream",
          "text": [
            "(441767,) 44100\n",
            "1\n"
          ],
          "name": "stdout"
        }
      ]
    },
    {
      "cell_type": "code",
      "metadata": {
        "id": "EjYT6mV6fmvk",
        "colab_type": "code",
        "outputId": "5cdfbf2f-da48-4ce6-ea84-5b50d97de76b",
        "colab": {
          "base_uri": "https://localhost:8080/",
          "height": 34
        }
      },
      "source": [
        "image.shape"
      ],
      "execution_count": 0,
      "outputs": [
        {
          "output_type": "execute_result",
          "data": {
            "text/plain": [
              "(50, 433)"
            ]
          },
          "metadata": {
            "tags": []
          },
          "execution_count": 197
        }
      ]
    },
    {
      "cell_type": "code",
      "metadata": {
        "id": "amrfMPuiBrRM",
        "colab_type": "code",
        "colab": {}
      },
      "source": [
        "image = np.delete(image, [i for i in range(431,image.shape[1])], 1) # 가끔 row가 안맞아서 생기는 문제 해결"
      ],
      "execution_count": 0,
      "outputs": []
    },
    {
      "cell_type": "code",
      "metadata": {
        "id": "OurK8DITxdfO",
        "colab_type": "code",
        "outputId": "9edc587b-33e9-4259-afab-89117e9802ec",
        "colab": {
          "base_uri": "https://localhost:8080/",
          "height": 34
        }
      },
      "source": [
        "image = spec_to_image(image)### RGB로 바꾸기\n",
        "image = np.expand_dims(image, axis=2)\n",
        "image = np.repeat(image,3,axis=2)\n",
        "image = np.expand_dims(image, axis=0) # 1 50 431 3"
      ],
      "execution_count": 0,
      "outputs": [
        {
          "output_type": "stream",
          "text": [
            "() ()\n"
          ],
          "name": "stdout"
        }
      ]
    },
    {
      "cell_type": "code",
      "metadata": {
        "id": "hwhAO0W7wTRF",
        "colab_type": "code",
        "outputId": "5dd5b2ab-65de-4d93-98e6-3b678ce6c969",
        "colab": {
          "base_uri": "https://localhost:8080/",
          "height": 34
        }
      },
      "source": [
        "wav,sr = librosa.load('./data/very_quite6.mp3')\n",
        "np.min(wav), np.max(wav)"
      ],
      "execution_count": 0,
      "outputs": [
        {
          "output_type": "execute_result",
          "data": {
            "text/plain": [
              "(-0.37566808, 0.8550062)"
            ]
          },
          "metadata": {
            "tags": []
          },
          "execution_count": 171
        }
      ]
    },
    {
      "cell_type": "code",
      "metadata": {
        "id": "vG3IuIVuwW6T",
        "colab_type": "code",
        "outputId": "8866359d-6af7-45e5-d98d-b64dd80caa71",
        "colab": {
          "base_uri": "https://localhost:8080/",
          "height": 34
        }
      },
      "source": [
        "wav = librosa.util.normalize(wav)\n",
        "np.min(wav), np.max(wav)"
      ],
      "execution_count": 0,
      "outputs": [
        {
          "output_type": "execute_result",
          "data": {
            "text/plain": [
              "(-0.4393747, 1.0)"
            ]
          },
          "metadata": {
            "tags": []
          },
          "execution_count": 172
        }
      ]
    },
    {
      "cell_type": "code",
      "metadata": {
        "id": "oqni_yqQvLfs",
        "colab_type": "code",
        "outputId": "38a3afd7-9a3d-4b3e-c0f4-2b58884cf3f9",
        "colab": {
          "base_uri": "https://localhost:8080/",
          "height": 34
        }
      },
      "source": [
        "wav,sr = librosa.load('./data/3223_with_record_app.mp3')\n",
        "np.min(wav), np.max(wav)"
      ],
      "execution_count": 0,
      "outputs": [
        {
          "output_type": "execute_result",
          "data": {
            "text/plain": [
              "(-0.23350148, 0.2620667)"
            ]
          },
          "metadata": {
            "tags": []
          },
          "execution_count": 167
        }
      ]
    },
    {
      "cell_type": "code",
      "metadata": {
        "id": "dKOvyW7l5Gtl",
        "colab_type": "code",
        "outputId": "5b20ff8e-5f34-4f3e-c9c8-76aef0cb1385",
        "colab": {
          "base_uri": "https://localhost:8080/",
          "height": 34
        }
      },
      "source": [
        "# 3223_record_with_app # 2번 정규화 사용\n",
        "predict = model.predict(image)\n",
        "predict"
      ],
      "execution_count": 0,
      "outputs": [
        {
          "output_type": "execute_result",
          "data": {
            "text/plain": [
              "array([[0.9963624 , 0.00363766]], dtype=float32)"
            ]
          },
          "metadata": {
            "tags": []
          },
          "execution_count": 200
        }
      ]
    },
    {
      "cell_type": "code",
      "metadata": {
        "id": "gaHRUl8YCcVM",
        "colab_type": "code",
        "outputId": "7fcb2775-7f10-4aaa-89da-196ae48cf576",
        "colab": {
          "base_uri": "https://localhost:8080/",
          "height": 34
        }
      },
      "source": [
        "# 3223_record_with_app\n",
        "predict = model.predict(image)\n",
        "predict"
      ],
      "execution_count": 0,
      "outputs": [
        {
          "output_type": "execute_result",
          "data": {
            "text/plain": [
              "array([[0.9936433 , 0.00635668]], dtype=float32)"
            ]
          },
          "metadata": {
            "tags": []
          },
          "execution_count": 124
        }
      ]
    },
    {
      "cell_type": "code",
      "metadata": {
        "id": "v_WNteI5vdyA",
        "colab_type": "code",
        "outputId": "380fec24-b428-4593-a2b1-4eebf8f946ac",
        "colab": {
          "base_uri": "https://localhost:8080/",
          "height": 34
        }
      },
      "source": [
        "wav = librosa.util.normalize(wav)\n",
        "np.min(wav), np.max(wav)"
      ],
      "execution_count": 0,
      "outputs": [
        {
          "output_type": "execute_result",
          "data": {
            "text/plain": [
              "(-0.8910002, 1.0)"
            ]
          },
          "metadata": {
            "tags": []
          },
          "execution_count": 168
        }
      ]
    },
    {
      "cell_type": "code",
      "metadata": {
        "id": "F07DDmvZa7ah",
        "colab_type": "code",
        "outputId": "c9eede90-1b6f-4a45-900e-714149c233ab",
        "colab": {
          "base_uri": "https://localhost:8080/",
          "height": 34
        }
      },
      "source": [
        "# 3223_record_with_app # not_norm\n",
        "predict = model.predict(image)\n",
        "predict"
      ],
      "execution_count": 0,
      "outputs": [
        {
          "output_type": "execute_result",
          "data": {
            "text/plain": [
              "array([[0.08031694, 0.9196831 ]], dtype=float32)"
            ]
          },
          "metadata": {
            "tags": []
          },
          "execution_count": 119
        }
      ]
    },
    {
      "cell_type": "code",
      "metadata": {
        "id": "ujjzOoAjvhRG",
        "colab_type": "code",
        "outputId": "f8946a05-be16-436e-852d-8f9b18463504",
        "colab": {
          "base_uri": "https://localhost:8080/",
          "height": 34
        }
      },
      "source": [
        "wav,sr = librosa.load('./data/3223_record.mp3')\n",
        "np.min(wav), np.max(wav)"
      ],
      "execution_count": 0,
      "outputs": [
        {
          "output_type": "execute_result",
          "data": {
            "text/plain": [
              "(-0.37566808, 0.8550062)"
            ]
          },
          "metadata": {
            "tags": []
          },
          "execution_count": 169
        }
      ]
    },
    {
      "cell_type": "code",
      "metadata": {
        "id": "oMqolVsp62YR",
        "colab_type": "code",
        "outputId": "05f29119-98ee-4699-9a7e-bbd0a93cedc9",
        "colab": {
          "base_uri": "https://localhost:8080/",
          "height": 34
        }
      },
      "source": [
        "# 3223_record\n",
        "predict = model.predict(image)\n",
        "predict"
      ],
      "execution_count": 0,
      "outputs": [
        {
          "output_type": "execute_result",
          "data": {
            "text/plain": [
              "array([[0.07974119, 0.9202588 ]], dtype=float32)"
            ]
          },
          "metadata": {
            "tags": []
          },
          "execution_count": 46
        }
      ]
    },
    {
      "cell_type": "code",
      "metadata": {
        "id": "B8LnzzAuv6Vs",
        "colab_type": "code",
        "outputId": "09d7284c-7ae8-4806-ef8d-f140bc8a32d9",
        "colab": {
          "base_uri": "https://localhost:8080/",
          "height": 34
        }
      },
      "source": [
        "wav = librosa.util.normalize(wav)\n",
        "np.min(wav), np.max(wav)"
      ],
      "execution_count": 0,
      "outputs": [
        {
          "output_type": "execute_result",
          "data": {
            "text/plain": [
              "(-0.4393747, 1.0)"
            ]
          },
          "metadata": {
            "tags": []
          },
          "execution_count": 170
        }
      ]
    },
    {
      "cell_type": "code",
      "metadata": {
        "id": "E9T5juzcbvrw",
        "colab_type": "code",
        "outputId": "74f96fe1-f833-4311-c669-0f04731432f0",
        "colab": {
          "base_uri": "https://localhost:8080/",
          "height": 34
        }
      },
      "source": [
        "# 3223_record # not norm\n",
        "predict = model.predict(image)\n",
        "predict"
      ],
      "execution_count": 0,
      "outputs": [
        {
          "output_type": "execute_result",
          "data": {
            "text/plain": [
              "array([[0.06382068, 0.93617934]], dtype=float32)"
            ]
          },
          "metadata": {
            "tags": []
          },
          "execution_count": 51
        }
      ]
    },
    {
      "cell_type": "code",
      "metadata": {
        "id": "ORm33_Qu-2ZE",
        "colab_type": "code",
        "outputId": "07a1df8d-4123-4610-9252-f3caa4c35b49",
        "colab": {
          "base_uri": "https://localhost:8080/",
          "height": 34
        }
      },
      "source": [
        "# very_quite.wav\n",
        "predict = model.predict(image)\n",
        "predict"
      ],
      "execution_count": 0,
      "outputs": [
        {
          "output_type": "execute_result",
          "data": {
            "text/plain": [
              "array([[0.02076071, 0.9792392 ]], dtype=float32)"
            ]
          },
          "metadata": {
            "tags": []
          },
          "execution_count": 64
        }
      ]
    },
    {
      "cell_type": "code",
      "metadata": {
        "id": "G-GHkqiB_UhP",
        "colab_type": "code",
        "outputId": "abeebf32-fe1c-410c-b8fa-1436203f1906",
        "colab": {
          "base_uri": "https://localhost:8080/",
          "height": 34
        }
      },
      "source": [
        "# 3223.mp3\n",
        "predict = model.predict(image)\n",
        "predict"
      ],
      "execution_count": 0,
      "outputs": [
        {
          "output_type": "execute_result",
          "data": {
            "text/plain": [
              "array([[0.9984616 , 0.00153838]], dtype=float32)"
            ]
          },
          "metadata": {
            "tags": []
          },
          "execution_count": 72
        }
      ]
    },
    {
      "cell_type": "markdown",
      "metadata": {
        "id": "njaOS1nL4qlD",
        "colab_type": "text"
      },
      "source": [
        "## android mfcc와 일반 mfcc 일치하는지 확인"
      ]
    },
    {
      "cell_type": "code",
      "metadata": {
        "id": "BupmFZkIodPb",
        "colab_type": "code",
        "colab": {}
      },
      "source": [
        "csv_data = np.loadtxt('./data/test.csv', delimiter=\",\", dtype=np.float32)"
      ],
      "execution_count": 0,
      "outputs": []
    },
    {
      "cell_type": "code",
      "metadata": {
        "id": "lfzx1130rpQl",
        "colab_type": "code",
        "outputId": "87d1445a-977f-41f6-8d7e-8ed0376c60a1",
        "colab": {
          "base_uri": "https://localhost:8080/",
          "height": 35
        }
      },
      "source": [
        "csv_data.shape"
      ],
      "execution_count": 0,
      "outputs": [
        {
          "output_type": "execute_result",
          "data": {
            "text/plain": [
              "(21550,)"
            ]
          },
          "metadata": {
            "tags": []
          },
          "execution_count": 57
        }
      ]
    },
    {
      "cell_type": "code",
      "metadata": {
        "id": "xzjZzKuTViN0",
        "colab_type": "code",
        "outputId": "c0df26e6-4dca-45a5-9a12-1511f8f7fd67",
        "colab": {
          "base_uri": "https://localhost:8080/",
          "height": 279
        }
      },
      "source": [
        "### 정규화하기\n",
        "import matplotlib.pyplot as plt\n",
        "import librosa.display\n",
        "plt.figure(figsize=(10, 4))\n",
        "image = np.transpose(csv_data.reshape((431,50)))\n",
        "# iamge = spec_to_image(image)\n",
        "librosa.display.specshow(image, x_axis='time')\n",
        "\n",
        "plt.show()"
      ],
      "execution_count": 0,
      "outputs": [
        {
          "output_type": "display_data",
          "data": {
            "image/png": "[encoded data removed]",
            "text/plain": [
              "<Figure size 720x288 with 1 Axes>"
            ]
          },
          "metadata": {
            "tags": []
          }
        }
      ]
    },
    {
      "cell_type": "code",
      "metadata": {
        "id": "l39wNQwgZemH",
        "colab_type": "code",
        "outputId": "03c60d77-afd3-4f18-c1a7-961c1e6c54be",
        "colab": {
          "base_uri": "https://localhost:8080/",
          "height": 259
        }
      },
      "source": [
        "print(image)\n",
        "\n",
        "print(np.min(image), np.max(image))"
      ],
      "execution_count": 0,
      "outputs": [
        {
          "output_type": "stream",
          "text": [
            "[[-4.9740234e+02 -4.9522379e+02 -4.8865482e+02 ... -4.7158191e+02\n",
            "  -4.7232809e+02 -4.8117200e+02]\n",
            " [ 1.3408609e+02  1.3189142e+02  1.2218796e+02 ...  7.1909523e+01\n",
            "   6.9584900e+01  6.1027763e+01]\n",
            " [ 2.2793508e+00 -5.0245514e+00 -1.6616850e+01 ... -3.6338791e+01\n",
            "  -3.3423813e+01 -2.2491692e+01]\n",
            " ...\n",
            " [-5.5725698e+00 -7.1012676e-01 -6.3748646e-01 ... -5.3947158e+00\n",
            "  -3.5952375e+00 -2.3553545e+00]\n",
            " [-6.3226247e+00 -5.0972800e+00  1.7469831e-01 ... -1.8669103e+00\n",
            "  -3.1089079e+00 -2.0095837e+00]\n",
            " [ 5.1826441e-01  9.5388401e-01 -1.1979402e+00 ... -1.9878910e+00\n",
            "   7.1867719e-02 -9.2112327e-01]]\n",
            "-615.2001 135.50575\n"
          ],
          "name": "stdout"
        }
      ]
    },
    {
      "cell_type": "code",
      "metadata": {
        "id": "KTeD4dcrWCOx",
        "colab_type": "code",
        "outputId": "8482ac67-677c-42a0-9c72-247c635a0b53",
        "colab": {
          "base_uri": "https://localhost:8080/",
          "height": 296
        }
      },
      "source": [
        "import matplotlib.pyplot as plt\n",
        "import librosa\n",
        "plt.figure(figsize=(10, 4))\n",
        "image = get_mfcc('./data/test.wav',isTrain=False, norm=3) # 일단 정규화 안한 상태로 테스트 \n",
        "# image = spec_to_image(image)\n",
        "librosa.display.specshow(image, x_axis='time')\n",
        "\n",
        "plt.show()"
      ],
      "execution_count": 0,
      "outputs": [
        {
          "output_type": "stream",
          "text": [
            "(441000,) 44100\n"
          ],
          "name": "stdout"
        },
        {
          "output_type": "display_data",
          "data": {
            "image/png": "[encoded data removed]",
            "text/plain": [
              "<Figure size 720x288 with 1 Axes>"
            ]
          },
          "metadata": {
            "tags": []
          }
        }
      ]
    },
    {
      "cell_type": "code",
      "metadata": {
        "id": "W-XIckICZtV5",
        "colab_type": "code",
        "outputId": "59ad9fd4-98ba-486e-a2f7-737f1a2fa2d9",
        "colab": {
          "base_uri": "https://localhost:8080/",
          "height": 259
        }
      },
      "source": [
        "print(image)\n",
        "\n",
        "print(np.min(image), np.max(image))"
      ],
      "execution_count": 0,
      "outputs": [
        {
          "output_type": "stream",
          "text": [
            "[[-497.48555942 -495.84128567 -495.27492286 ... -489.06348763\n",
            "  -489.54136085 -500.15910169]\n",
            " [ 144.71016881  142.26079845  125.85207032 ...   77.58991487\n",
            "    76.73215284   68.72324735]\n",
            " [  -2.45977029   -6.23006209  -17.07404087 ...   -4.2581508\n",
            "    -1.94853322    3.35145006]\n",
            " ...\n",
            " [   1.07964619   -0.69695571   -0.82575174 ...   -1.84961689\n",
            "    -1.40845491   -1.86482703]\n",
            " [  -2.12719414   -2.40849288   -8.85911635 ...   -6.77115018\n",
            "    -4.8839715    -7.99328987]\n",
            " [  -2.40730491   -3.8126846    -7.25844633 ...   -9.73192459\n",
            "    -4.36968367   -2.38027885]]\n",
            "-629.975457578446 155.58386591091866\n"
          ],
          "name": "stdout"
        }
      ]
    },
    {
      "cell_type": "code",
      "metadata": {
        "id": "qJ5WVzc8YiM7",
        "colab_type": "code",
        "outputId": "c89a22e6-843e-44b5-cc6d-d6b7a3d76494",
        "colab": {
          "base_uri": "https://localhost:8080/",
          "height": 314
        }
      },
      "source": [
        "# very quite랑 유사함.\n",
        "import matplotlib.pyplot as plt\n",
        "import librosa\n",
        "plt.figure(figsize=(10, 4))\n",
        "image = get_mfcc('./data/very_quite.wav',isTrain=False)\n",
        "# image = spec_to_image(image)\n",
        "librosa.display.specshow(image, x_axis='time')\n",
        "\n",
        "plt.show()"
      ],
      "execution_count": 0,
      "outputs": [
        {
          "output_type": "stream",
          "text": [
            "(441022,) 44100\n",
            "0\n"
          ],
          "name": "stdout"
        },
        {
          "output_type": "display_data",
          "data": {
            "image/png": "[encoded data removed]",
            "text/plain": [
              "<Figure size 720x288 with 1 Axes>"
            ]
          },
          "metadata": {
            "tags": []
          }
        }
      ]
    },
    {
      "cell_type": "markdown",
      "metadata": {
        "id": "bV7jug_NpUpu",
        "colab_type": "text"
      },
      "source": [
        "## android 에서 얻은 데이터로 잘 판별하는지 확인\n",
        "###(차원 모양도 확인)"
      ]
    },
    {
      "cell_type": "code",
      "metadata": {
        "id": "yu97DmmHtZDe",
        "colab_type": "code",
        "outputId": "a07f6dfb-2e81-4fbc-eb22-304a6cfd48d5",
        "colab": {
          "base_uri": "https://localhost:8080/",
          "height": 279
        }
      },
      "source": [
        "### 정규화하기\n",
        "# image2 = spec_to_image(image)\n",
        "import matplotlib.pyplot as plt\n",
        "import librosa\n",
        "plt.figure(figsize=(10, 4))\n",
        "librosa.display.specshow(csv_data.reshape((431,50)), x_axis='time')\n",
        "\n",
        "plt.show()"
      ],
      "execution_count": 0,
      "outputs": [
        {
          "output_type": "display_data",
          "data": {
            "image/png": "[encoded data removed]",
            "text/plain": [
              "<Figure size 720x288 with 1 Axes>"
            ]
          },
          "metadata": {
            "tags": []
          }
        }
      ]
    },
    {
      "cell_type": "code",
      "metadata": {
        "id": "HVHtIYINxdpP",
        "colab_type": "code",
        "outputId": "b3773cec-18ef-44a8-b4fe-5bc8cd87eea1",
        "colab": {
          "base_uri": "https://localhost:8080/",
          "height": 50
        }
      },
      "source": [
        "csv_data"
      ],
      "execution_count": 0,
      "outputs": [
        {
          "output_type": "execute_result",
          "data": {
            "text/plain": [
              "array([-604.47766  ,   71.982285 ,  -37.712437 , ...,    4.5778613,\n",
              "          2.9321961,    8.038094 ], dtype=float32)"
            ]
          },
          "metadata": {
            "tags": []
          },
          "execution_count": 114
        }
      ]
    },
    {
      "cell_type": "code",
      "metadata": {
        "id": "eP9GEHw7tlin",
        "colab_type": "code",
        "outputId": "ca1c0561-4f40-430b-b415-f12fc461f38b",
        "colab": {
          "base_uri": "https://localhost:8080/",
          "height": 279
        }
      },
      "source": [
        "### 정규화하기\n",
        "image2 = spec_to_image(image)\n",
        "import matplotlib.pyplot as plt\n",
        "import librosa\n",
        "plt.figure(figsize=(10, 4))\n",
        "librosa.display.specshow(csv_data.reshape((50,431)), x_axis='time')\n",
        "\n",
        "plt.show()"
      ],
      "execution_count": 0,
      "outputs": [
        {
          "output_type": "display_data",
          "data": {
            "image/png": "[encoded data removed]",
            "text/plain": [
              "<Figure size 720x288 with 1 Axes>"
            ]
          },
          "metadata": {
            "tags": []
          }
        }
      ]
    },
    {
      "cell_type": "code",
      "metadata": {
        "id": "zPW4sK8Es4C5",
        "colab_type": "code",
        "outputId": "1dd20403-3cb7-444c-c7e5-6fe9a864ee07",
        "colab": {
          "base_uri": "https://localhost:8080/",
          "height": 279
        }
      },
      "source": [
        "### 정규화하기\n",
        "image2 = spec_to_image(image)\n",
        "import matplotlib.pyplot as plt\n",
        "import librosa\n",
        "plt.figure(figsize=(10, 4))\n",
        "\n",
        "librosa.display.specshow(np.transpose(csv_data.reshape((431,50))), x_axis='time')\n",
        "\n",
        "plt.show()"
      ],
      "execution_count": 0,
      "outputs": [
        {
          "output_type": "display_data",
          "data": {
            "image/png": "[encoded data removed]",
            "text/plain": [
              "<Figure size 720x288 with 1 Axes>"
            ]
          },
          "metadata": {
            "tags": []
          }
        }
      ]
    },
    {
      "cell_type": "code",
      "metadata": {
        "id": "3GgoN5H2xGnT",
        "colab_type": "code",
        "colab": {}
      },
      "source": [
        "predict = model.predict(image)"
      ],
      "execution_count": 0,
      "outputs": []
    },
    {
      "cell_type": "code",
      "metadata": {
        "id": "KsL90qjV0af4",
        "colab_type": "code",
        "outputId": "37c0ddc5-7d75-4e58-d5e6-726de69d2695",
        "colab": {
          "base_uri": "https://localhost:8080/",
          "height": 34
        }
      },
      "source": [
        "predict"
      ],
      "execution_count": 0,
      "outputs": [
        {
          "output_type": "execute_result",
          "data": {
            "text/plain": [
              "array([[0.07714189, 0.9228582 ]], dtype=float32)"
            ]
          },
          "metadata": {
            "tags": []
          },
          "execution_count": 76
        }
      ]
    },
    {
      "cell_type": "markdown",
      "metadata": {
        "id": "HWG-Ta8I5DoL",
        "colab_type": "text"
      },
      "source": [
        "# TFLITE 사용하기"
      ]
    },
    {
      "cell_type": "markdown",
      "metadata": {
        "id": "DeO27Ezg7FRC",
        "colab_type": "text"
      },
      "source": [
        "## model tflite export"
      ]
    },
    {
      "cell_type": "code",
      "metadata": {
        "id": "9Sj7U8AVELXM",
        "colab_type": "code",
        "colab": {}
      },
      "source": [
        "model.compile(loss='categorical_crossentropy', optimizer=opt, metrics=[\"accuracy\"])\n",
        "model.load_weights(\"./model/20-0.9916_weight.hdf5\")"
      ],
      "execution_count": 0,
      "outputs": []
    },
    {
      "cell_type": "code",
      "metadata": {
        "id": "u-Yq23rED5tK",
        "colab_type": "code",
        "colab": {}
      },
      "source": [
        "model.save('./model/whole_model.hdf5')"
      ],
      "execution_count": 0,
      "outputs": []
    },
    {
      "cell_type": "code",
      "metadata": {
        "id": "qL4eqv509BmT",
        "colab_type": "code",
        "colab": {}
      },
      "source": [
        "import tensorflow as tf\n",
        "\n",
        "# Convert the model.\n",
        "# tf.contrib.lite.TFLiteConverter.from_keras_model_file\n",
        "converter = tf.lite.TFLiteConverter.from_keras_model_file('./model/whole_model.hdf5')\n",
        "tflite_model = converter.convert()\n",
        "open(\"converted_model.tflite\", \"wb\").write(tflite_model)"
      ],
      "execution_count": 0,
      "outputs": []
    },
    {
      "cell_type": "markdown",
      "metadata": {
        "id": "qlwR_xU58QFy",
        "colab_type": "text"
      },
      "source": [
        "## tfLite로 evaluate"
      ]
    },
    {
      "cell_type": "code",
      "metadata": {
        "id": "OoTLCYx48zZj",
        "colab_type": "code",
        "colab": {}
      },
      "source": [
        "import tensorflow as tf\n",
        "# model_content, model_path\n",
        "# Load TFLite model and allocate tensors.\n",
        "interpreter = tf.lite.Interpreter(model_path=\"converted_model.tflite\")\n",
        "interpreter.allocate_tensors()"
      ],
      "execution_count": 0,
      "outputs": []
    },
    {
      "cell_type": "code",
      "metadata": {
        "id": "rKBGBqo0g6mm",
        "colab_type": "code",
        "colab": {}
      },
      "source": [
        "# Get input and output tensors.\n",
        "input_details = interpreter.get_input_details()\n",
        "output_details = interpreter.get_output_details()"
      ],
      "execution_count": 0,
      "outputs": []
    },
    {
      "cell_type": "code",
      "metadata": {
        "id": "KRbySjz1jwC3",
        "colab_type": "code",
        "outputId": "12aead63-f1e5-4f69-e717-2b032c6ca57a",
        "colab": {
          "base_uri": "https://localhost:8080/",
          "height": 34
        }
      },
      "source": [
        "input_details[0]['shape']"
      ],
      "execution_count": 0,
      "outputs": [
        {
          "output_type": "execute_result",
          "data": {
            "text/plain": [
              "array([  1,  50, 431,   3], dtype=int32)"
            ]
          },
          "metadata": {
            "tags": []
          },
          "execution_count": 176
        }
      ]
    },
    {
      "cell_type": "code",
      "metadata": {
        "id": "eTke0WfQN07H",
        "colab_type": "code",
        "outputId": "31c6a849-53f6-4c8d-fd8a-f17cc49cc15c",
        "colab": {
          "base_uri": "https://localhost:8080/",
          "height": 34
        }
      },
      "source": [
        "output_details[0]['shape']"
      ],
      "execution_count": 0,
      "outputs": [
        {
          "output_type": "execute_result",
          "data": {
            "text/plain": [
              "array([1, 2], dtype=int32)"
            ]
          },
          "metadata": {
            "tags": []
          },
          "execution_count": 177
        }
      ]
    },
    {
      "cell_type": "code",
      "metadata": {
        "id": "stlyN2zOmE5j",
        "colab_type": "code",
        "outputId": "6df66ae6-d04c-4c3e-bc98-f895271a60e1",
        "colab": {
          "base_uri": "https://localhost:8080/",
          "height": 298
        }
      },
      "source": [
        "image = get_mfcc('./data/very_quite6.mp3', False)\n",
        "### 정규화하기\n",
        "image = spec_to_image(image)\n",
        "print(image)\n",
        "print(image.shape)\n",
        "### RGB로 바꾸기\n",
        "image = np.expand_dims(image, axis=2)\n",
        "image = np.repeat(image,3,axis=2)\n",
        "image = np.expand_dims(image, axis=0) # expand_dim\n",
        "image = image.astype(np.float32)"
      ],
      "execution_count": 0,
      "outputs": [
        {
          "output_type": "stream",
          "text": [
            "(441022,) 44100\n",
            "0\n",
            "() ()\n",
            "[[-7.56269724 -7.50316704 -7.41646226 ... -6.70680786 -6.86761729\n",
            "  -7.15366569]\n",
            " [ 0.58351546  0.59352758  0.59194443 ...  0.73821561  0.6480466\n",
            "   0.80116199]\n",
            " [ 0.37370802  0.27695705  0.21454185 ...  0.21741167  0.23740846\n",
            "   0.39684281]\n",
            " ...\n",
            " [ 0.04672019  0.07721898  0.10422908 ...  0.11576044  0.07371875\n",
            "   0.06589987]\n",
            " [ 0.11321696  0.10531586  0.10274185 ...  0.16986385  0.09189162\n",
            "   0.12276868]\n",
            " [ 0.03952404  0.04054482  0.06958317 ...  0.16673717  0.10776987\n",
            "   0.13233425]]\n",
            "(50, 431)\n"
          ],
          "name": "stdout"
        }
      ]
    },
    {
      "cell_type": "code",
      "metadata": {
        "id": "6OB0rJLNYpU_",
        "colab_type": "code",
        "outputId": "af2bfc3f-5be0-466b-e816-d342dc52d2cd",
        "colab": {
          "base_uri": "https://localhost:8080/",
          "height": 34
        }
      },
      "source": [
        "image.shape"
      ],
      "execution_count": 0,
      "outputs": [
        {
          "output_type": "execute_result",
          "data": {
            "text/plain": [
              "(1, 50, 431, 3)"
            ]
          },
          "metadata": {
            "tags": []
          },
          "execution_count": 191
        }
      ]
    },
    {
      "cell_type": "code",
      "metadata": {
        "id": "75CM4ZF0mcQt",
        "colab_type": "code",
        "outputId": "190c1890-7fc0-44f7-96ae-0a2d873eec75",
        "colab": {
          "base_uri": "https://localhost:8080/",
          "height": 34
        }
      },
      "source": [
        "type(image)"
      ],
      "execution_count": 0,
      "outputs": [
        {
          "output_type": "execute_result",
          "data": {
            "text/plain": [
              "numpy.ndarray"
            ]
          },
          "metadata": {
            "tags": []
          },
          "execution_count": 192
        }
      ]
    },
    {
      "cell_type": "code",
      "metadata": {
        "id": "4HH5AwTQhbsj",
        "colab_type": "code",
        "colab": {}
      },
      "source": [
        "import numpy as np\n",
        "# Test the TensorFlow Lite model on random input data.\n",
        "input_shape = input_details[0]['shape']\n",
        "# input_data = np.array(np.random.random_sample(input_shape), dtype=np.float32)\n",
        "interpreter.set_tensor(input_details[0]['index'], image)\n",
        "\n",
        "interpreter.invoke()\n"
      ],
      "execution_count": 0,
      "outputs": []
    },
    {
      "cell_type": "code",
      "metadata": {
        "id": "zznLrd4ihh5l",
        "colab_type": "code",
        "colab": {}
      },
      "source": [
        "# The function `get_tensor()` returns a copy of the tensor data.\n",
        "# Use `tensor()` in order to get a pointer to the tensor.\n",
        "tflite_results = interpreter.get_tensor(output_details[0]['index'])"
      ],
      "execution_count": 0,
      "outputs": []
    },
    {
      "cell_type": "code",
      "metadata": {
        "id": "6YzQ9XgNkKzD",
        "colab_type": "code",
        "outputId": "36d32c54-d4c0-48cf-8902-38181f26c6b5",
        "colab": {
          "base_uri": "https://localhost:8080/",
          "height": 34
        }
      },
      "source": [
        "tflite_results"
      ],
      "execution_count": 0,
      "outputs": [
        {
          "output_type": "execute_result",
          "data": {
            "text/plain": [
              "array([[0.07587358, 0.92412645]], dtype=float32)"
            ]
          },
          "metadata": {
            "tags": []
          },
          "execution_count": 195
        }
      ]
    },
    {
      "cell_type": "code",
      "metadata": {
        "colab_type": "code",
        "outputId": "b4b033ef-ff3b-40d7-a091-931f1a59dbe7",
        "id": "NVPV8UkcisMh",
        "colab": {
          "base_uri": "https://localhost:8080/",
          "height": 34
        }
      },
      "source": [
        "# 원래 모델과 비교\n",
        "tf_results = model.predict(image)\n",
        "tf_results"
      ],
      "execution_count": 0,
      "outputs": [
        {
          "output_type": "execute_result",
          "data": {
            "text/plain": [
              "array([[0.07714189, 0.9228582 ]], dtype=float32)"
            ]
          },
          "metadata": {
            "tags": []
          },
          "execution_count": 148
        }
      ]
    },
    {
      "cell_type": "markdown",
      "metadata": {
        "id": "YXH40sTB5UHR",
        "colab_type": "text"
      },
      "source": [
        "## 안드로이드에서 얻은 CSV 파일 tflite evaluate로 체크"
      ]
    },
    {
      "cell_type": "code",
      "metadata": {
        "id": "J_kXfpAf5ZAi",
        "colab_type": "code",
        "colab": {}
      },
      "source": [
        "csv_data = np.loadtxt('./data/test.csv', delimiter=\",\", dtype=np.float32)\n",
        "np.transpose(csv_data.reshape((431,50)))"
      ],
      "execution_count": 0,
      "outputs": []
    },
    {
      "cell_type": "code",
      "metadata": {
        "id": "tIjKLWiw5f4X",
        "colab_type": "code",
        "colab": {}
      },
      "source": [
        "image = np.transpose(csv_data.reshape((431,50)))\n",
        "### 정규화하기\n",
        "image = spec_to_image(image)\n",
        "print(image)\n",
        "print(image.shape)\n",
        "### RGB로 바꾸기\n",
        "image = np.expand_dims(image, axis=2)\n",
        "image = np.repeat(image,3,axis=2)\n",
        "image = np.expand_dims(image, axis=0) # expand_dim\n",
        "image = image.astype(np.float32)"
      ],
      "execution_count": 0,
      "outputs": []
    }
  ]
}