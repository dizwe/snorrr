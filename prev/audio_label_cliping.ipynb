{
 "cells": [
  {
   "cell_type": "code",
   "execution_count": 1,
   "metadata": {},
   "outputs": [],
   "source": [
    "## pip install moviepy==1.0.0\n",
    "\n",
    "import os\n",
    "import librosa\n",
    "import pandas as pd\n",
    "from moviepy.editor import *\n",
    "from tqdm import tqdm_notebook\n",
    "import numpy as np"
   ]
  },
  {
   "cell_type": "code",
   "execution_count": 2,
   "metadata": {},
   "outputs": [],
   "source": [
    "#from utils import make_dir\n",
    "def make_dir(dir_):\n",
    "    if not os.path.isdir(dir_):\n",
    "        os.mkdir(dir_)"
   ]
  },
  {
   "cell_type": "code",
   "execution_count": 3,
   "metadata": {},
   "outputs": [],
   "source": [
    "audio_label_clip_dir = os.path.join('.', 'data', 'audio_label_clip')\n",
    "make_dir(audio_label_clip_dir)"
   ]
  },
  {
   "cell_type": "code",
   "execution_count": 4,
   "metadata": {},
   "outputs": [],
   "source": [
    "def save(audios, label):\n",
    "    data = pd.DataFrame({\n",
    "        'audios':audio, 'label':label })\n",
    "    data.to_csv(audio_label_clip_dir+'/audio_label_clip.csv', index=False, encoding='euc-kr')"
   ]
  },
  {
   "cell_type": "code",
   "execution_count": 5,
   "metadata": {},
   "outputs": [],
   "source": [
    "## 레이블링 데이터 위치 : ./data/label\n",
    "files = []\n",
    "for file in os.listdir(os.path.join('.', 'data', 'label')):\n",
    "    _, file_id = os.path.split(file)\n",
    "    if file_id.endswith('txt'):\n",
    "        name = file_id.split(\".\")[0]\n",
    "        if(name not in files):\n",
    "            files.append(name)"
   ]
  },
  {
   "cell_type": "code",
   "execution_count": 6,
   "metadata": {
    "scrolled": true
   },
   "outputs": [
    {
     "name": "stdout",
     "output_type": "stream",
     "text": [
      "file name:27_es\n",
      "read new file\n",
      "       start        end  label\n",
      "0   2.013742   2.444622   12.0\n",
      "1   5.158099   5.669102   12.0\n",
      "2   7.467403   7.948137   12.0\n",
      "3  10.277027  10.754200    9.0\n",
      "4  31.107058  32.013331    9.0\n",
      "5  32.031136  32.515431    9.0\n",
      "2.0137419999999997 2.4446220000000003 12.0\n"
     ]
    },
    {
     "name": "stderr",
     "output_type": "stream",
     "text": [
      "                                                       "
     ]
    },
    {
     "name": "stdout",
     "output_type": "stream",
     "text": [
      "MoviePy - Writing audio in ./data/audio_label_clip/sha_0.wav\n",
      "MoviePy - Done.\n",
      "dd\n",
      "5.158099 5.669102 12.0\n",
      "MoviePy - Writing audio in ./data/audio_label_clip/sha_1.wav\n",
      "MoviePy - Done.\n",
      "dd\n",
      "7.467403 7.948136999999999 12.0\n",
      "MoviePy - Writing audio in ./data/audio_label_clip/sha_2.wav\n",
      "MoviePy - Done.\n",
      "dd\n",
      "10.277027 10.7542 9.0\n"
     ]
    },
    {
     "name": "stderr",
     "output_type": "stream",
     "text": [
      "                                                       "
     ]
    },
    {
     "name": "stdout",
     "output_type": "stream",
     "text": [
      "MoviePy - Writing audio in ./data/audio_label_clip/background_0.wav\n",
      "MoviePy - Done.\n",
      "dd\n",
      "31.107058000000002 32.013331 9.0\n",
      "MoviePy - Writing audio in ./data/audio_label_clip/background_1.wav\n",
      "MoviePy - Done.\n",
      "dd\n",
      "32.031136 32.515431 9.0\n"
     ]
    },
    {
     "name": "stderr",
     "output_type": "stream",
     "text": [
      "                                                       "
     ]
    },
    {
     "name": "stdout",
     "output_type": "stream",
     "text": [
      "MoviePy - Writing audio in ./data/audio_label_clip/background_2.wav\n",
      "MoviePy - Done.\n",
      "dd\n",
      "file name:4_jh\n",
      "read new file\n",
      "      start       end  label\n",
      "0  1.232053  1.487479     12\n",
      "1  2.168614  2.398998     12\n",
      "2  2.704508  5.424040      0\n",
      "3  5.424040  5.674457     11\n",
      "1.232053 1.487479 12\n",
      "MoviePy - Writing audio in ./data/audio_label_clip/sha_3.wav\n",
      "MoviePy - Done.\n",
      "dd\n",
      "2.168614 2.3989979999999997 12\n"
     ]
    },
    {
     "name": "stderr",
     "output_type": "stream",
     "text": [
      "                                                       "
     ]
    },
    {
     "name": "stdout",
     "output_type": "stream",
     "text": [
      "MoviePy - Writing audio in ./data/audio_label_clip/sha_4.wav\n",
      "MoviePy - Done.\n",
      "dd\n",
      "2.704508 5.42404 0\n",
      "MoviePy - Writing audio in ./data/audio_label_clip/negative_0.wav\n",
      "MoviePy - Done.\n",
      "dd\n",
      "5.42404 5.674457 11\n"
     ]
    },
    {
     "name": "stderr",
     "output_type": "stream",
     "text": [
      "                                                       "
     ]
    },
    {
     "name": "stdout",
     "output_type": "stream",
     "text": [
      "MoviePy - Writing audio in ./data/audio_label_clip/jon_0.wav\n",
      "MoviePy - Done.\n",
      "dd\n",
      "file name:44_es\n",
      "read new file\n",
      "       start        end  label\n",
      "0   2.349160   2.945215   10.0\n",
      "1   7.292915   8.905771    9.0\n",
      "2  14.153397  14.679328   12.0\n",
      "2.34916 2.945215 10.0\n",
      "MoviePy - Writing audio in ./data/audio_label_clip/shi_0.wav\n",
      "MoviePy - Done.\n",
      "dd\n",
      "7.292915 8.905771000000003 9.0\n",
      "MoviePy - Writing audio in ./data/audio_label_clip/background_3.wav\n",
      "MoviePy - Done.\n",
      "dd\n",
      "14.153397 14.679328 12.0\n"
     ]
    },
    {
     "name": "stderr",
     "output_type": "stream",
     "text": [
      "chunk:   0%|          | 0/9 [00:00<?, ?it/s, now=None] "
     ]
    },
    {
     "name": "stdout",
     "output_type": "stream",
     "text": [
      "MoviePy - Writing audio in ./data/audio_label_clip/sha_5.wav\n",
      "MoviePy - Done.\n",
      "dd\n",
      "file name:39_es\n",
      "read new file\n",
      "       start        end  label\n",
      "0  12.436633  12.931337    0.0\n",
      "1  13.027210  13.403031    9.0\n",
      "2  14.860299  15.117239   12.0\n",
      "12.436633 12.931337 0.0\n",
      "MoviePy - Writing audio in ./data/audio_label_clip/negative_1.wav\n",
      "MoviePy - Done.\n",
      "dd\n",
      "13.02721 13.403031 9.0\n",
      "MoviePy - Writing audio in ./data/audio_label_clip/background_4.wav\n"
     ]
    },
    {
     "name": "stderr",
     "output_type": "stream",
     "text": [
      "                                                       \r"
     ]
    },
    {
     "name": "stdout",
     "output_type": "stream",
     "text": [
      "MoviePy - Done.\n",
      "dd\n",
      "14.860299 15.117239000000001 12.0\n",
      "MoviePy - Writing audio in ./data/audio_label_clip/sha_6.wav\n",
      "MoviePy - Done.\n",
      "dd\n",
      "file name:1cmlJNN5-_U_26\n",
      "read new file\n",
      "      start       end  label\n",
      "0  1.746656  3.996853      9\n",
      "1  6.632573  7.261998     12\n",
      "2  7.301338  7.859953      0\n",
      "3  8.851298  9.850511      9\n",
      "1.7466560000000002 3.9968529999999998 9\n",
      "MoviePy - Writing audio in ./data/audio_label_clip/background_5.wav\n",
      "MoviePy - Done.\n",
      "dd\n",
      "6.632573 7.261997999999999 12\n"
     ]
    },
    {
     "name": "stderr",
     "output_type": "stream",
     "text": [
      "                                                       "
     ]
    },
    {
     "name": "stdout",
     "output_type": "stream",
     "text": [
      "MoviePy - Writing audio in ./data/audio_label_clip/sha_7.wav\n",
      "MoviePy - Done.\n",
      "dd\n",
      "7.301338 7.859953 0\n",
      "MoviePy - Writing audio in ./data/audio_label_clip/negative_2.wav\n",
      "MoviePy - Done.\n",
      "dd\n",
      "8.851298 9.850511000000001 9\n",
      "MoviePy - Writing audio in ./data/audio_label_clip/background_6.wav\n",
      "MoviePy - Done.\n",
      "dd\n",
      "file name:48_es\n",
      "read new file\n",
      "       start        end  label\n",
      "0   2.747991   4.821037    9.0\n",
      "1  20.525566  20.899196   10.0\n",
      "2  21.815194  23.635135    9.0\n",
      "3  27.238860  29.456538    9.0\n",
      "2.747991 4.8210370000000005 9.0\n"
     ]
    },
    {
     "name": "stderr",
     "output_type": "stream",
     "text": [
      "                                                       "
     ]
    },
    {
     "name": "stdout",
     "output_type": "stream",
     "text": [
      "MoviePy - Writing audio in ./data/audio_label_clip/background_7.wav\n",
      "MoviePy - Done.\n",
      "dd\n",
      "20.525566 20.899196 10.0\n",
      "MoviePy - Writing audio in ./data/audio_label_clip/shi_1.wav\n",
      "MoviePy - Done.\n",
      "dd\n",
      "21.815194 23.635135000000002 9.0\n"
     ]
    },
    {
     "name": "stderr",
     "output_type": "stream",
     "text": [
      "                                                       \r"
     ]
    },
    {
     "name": "stdout",
     "output_type": "stream",
     "text": [
      "MoviePy - Writing audio in ./data/audio_label_clip/background_8.wav\n",
      "MoviePy - Done.\n",
      "dd\n",
      "27.23886 29.456538000000002 9.0\n",
      "MoviePy - Writing audio in ./data/audio_label_clip/background_9.wav\n",
      "MoviePy - Done.\n",
      "dd\n",
      "file name:35_es\n",
      "read new file\n",
      "       start        end  label\n",
      "0   2.629657   3.900657    0.0\n",
      "1   9.335281   9.948868   10.0\n",
      "2  10.803506  11.285610   12.0\n",
      "3  12.688093  13.761870    0.0\n",
      "2.629657 3.900657 0.0\n"
     ]
    },
    {
     "name": "stderr",
     "output_type": "stream",
     "text": [
      "                                                       "
     ]
    },
    {
     "name": "stdout",
     "output_type": "stream",
     "text": [
      "MoviePy - Writing audio in ./data/audio_label_clip/negative_3.wav\n",
      "MoviePy - Done.\n",
      "dd\n",
      "9.335281 9.948868 10.0\n",
      "MoviePy - Writing audio in ./data/audio_label_clip/shi_2.wav\n",
      "MoviePy - Done.\n",
      "dd\n",
      "10.803506 11.28561 12.0\n",
      "MoviePy - Writing audio in ./data/audio_label_clip/sha_8.wav\n",
      "MoviePy - Done.\n",
      "dd\n",
      "12.688092999999999 13.761870000000002 0.0\n"
     ]
    },
    {
     "name": "stderr",
     "output_type": "stream",
     "text": [
      "                                                       "
     ]
    },
    {
     "name": "stdout",
     "output_type": "stream",
     "text": [
      "MoviePy - Writing audio in ./data/audio_label_clip/negative_4.wav\n",
      "MoviePy - Done.\n",
      "dd\n",
      "file name:8_jh\n",
      "read new file\n",
      "      start       end  label\n",
      "0  0.000000  2.512521      0\n",
      "1  2.576795  3.207846     10\n",
      "2  3.511686  6.000835      0\n",
      "3  6.030050  7.000000     10\n",
      "0.0 2.512521 0\n",
      "MoviePy - Writing audio in ./data/audio_label_clip/negative_5.wav\n",
      "MoviePy - Done.\n",
      "dd\n",
      "2.576795 3.207846 10\n"
     ]
    },
    {
     "name": "stderr",
     "output_type": "stream",
     "text": [
      "                                                       "
     ]
    },
    {
     "name": "stdout",
     "output_type": "stream",
     "text": [
      "MoviePy - Writing audio in ./data/audio_label_clip/shi_3.wav\n",
      "MoviePy - Done.\n",
      "dd\n",
      "3.511686 6.0008349999999995 0\n",
      "MoviePy - Writing audio in ./data/audio_label_clip/negative_6.wav\n",
      "MoviePy - Done.\n",
      "dd\n",
      "6.03005 7.0 10\n",
      "MoviePy - Writing audio in ./data/audio_label_clip/shi_4.wav\n"
     ]
    },
    {
     "name": "stderr",
     "output_type": "stream",
     "text": [
      "                                                      \r"
     ]
    },
    {
     "name": "stdout",
     "output_type": "stream",
     "text": [
      "MoviePy - Done.\n",
      "dd\n",
      "file name:_kfXW1JXUhA_3\n",
      "read new file\n",
      "       start        end  label\n",
      "0  28.817860  29.163061     10\n",
      "1  35.888080  36.322777     12\n",
      "2  41.385720  41.973839      0\n",
      "3  45.847758  47.036782      0\n",
      "4  53.889654  56.894178      9\n",
      "5  58.824744  60.895948      9\n",
      "28.817859999999996 29.163061 10\n",
      "MoviePy - Writing audio in ./data/audio_label_clip/shi_5.wav\n",
      "MoviePy - Done.\n",
      "dd\n",
      "35.88808 36.322777 12\n"
     ]
    },
    {
     "name": "stderr",
     "output_type": "stream",
     "text": [
      "                                                       "
     ]
    },
    {
     "name": "stdout",
     "output_type": "stream",
     "text": [
      "MoviePy - Writing audio in ./data/audio_label_clip/sha_9.wav\n",
      "MoviePy - Done.\n",
      "dd\n",
      "41.38572 41.973839 0\n",
      "MoviePy - Writing audio in ./data/audio_label_clip/negative_7.wav\n",
      "MoviePy - Done.\n",
      "dd\n",
      "45.847758 47.036782 0\n"
     ]
    },
    {
     "name": "stderr",
     "output_type": "stream",
     "text": [
      "                                                       "
     ]
    },
    {
     "name": "stdout",
     "output_type": "stream",
     "text": [
      "MoviePy - Writing audio in ./data/audio_label_clip/negative_8.wav\n",
      "MoviePy - Done.\n",
      "dd\n",
      "53.88965400000001 56.894178000000004 9\n",
      "MoviePy - Writing audio in ./data/audio_label_clip/background_10.wav\n",
      "MoviePy - Done.\n",
      "dd\n",
      "58.824743999999995 60.895948 9\n"
     ]
    },
    {
     "name": "stderr",
     "output_type": "stream",
     "text": [
      "                                                       "
     ]
    },
    {
     "name": "stdout",
     "output_type": "stream",
     "text": [
      "MoviePy - Writing audio in ./data/audio_label_clip/background_11.wav\n",
      "MoviePy - Done.\n",
      "dd\n",
      "file name:0_VHNwx8XVE_72\n",
      "read new file\n",
      "       start        end  label\n",
      "0  12.096774  14.614477      9\n",
      "1  22.088906  22.777341     10\n",
      "2  23.387097  23.800157      0\n",
      "3  24.036192  24.429583      0\n",
      "12.096774 14.614476999999999 9\n",
      "MoviePy - Writing audio in ./data/audio_label_clip/background_12.wav\n",
      "MoviePy - Done.\n",
      "dd\n",
      "22.088906 22.777341 10\n"
     ]
    },
    {
     "name": "stderr",
     "output_type": "stream",
     "text": [
      "                                                       \r"
     ]
    },
    {
     "name": "stdout",
     "output_type": "stream",
     "text": [
      "MoviePy - Writing audio in ./data/audio_label_clip/shi_6.wav\n",
      "MoviePy - Done.\n",
      "dd\n",
      "23.387097 23.800157000000002 0\n",
      "MoviePy - Writing audio in ./data/audio_label_clip/negative_9.wav\n",
      "MoviePy - Done.\n",
      "dd\n",
      "24.036192 24.429582999999997 0\n"
     ]
    },
    {
     "name": "stderr",
     "output_type": "stream",
     "text": [
      "chunk:   0%|          | 0/35 [00:00<?, ?it/s, now=None]"
     ]
    },
    {
     "name": "stdout",
     "output_type": "stream",
     "text": [
      "MoviePy - Writing audio in ./data/audio_label_clip/negative_10.wav\n",
      "MoviePy - Done.\n",
      "dd\n",
      "file name:11_es\n",
      "read new file\n",
      "       start        end  label\n",
      "0   1.290482   1.957973   12.0\n",
      "1   2.514215   4.093943    0.0\n",
      "2   4.561187   5.228677    0.0\n",
      "3  12.504326  13.972806    0.0\n",
      "1.290482 1.957973 12.0\n",
      "MoviePy - Writing audio in ./data/audio_label_clip/sha_10.wav\n",
      "MoviePy - Done.\n",
      "dd\n",
      "2.514215 4.093943 0.0\n",
      "MoviePy - Writing audio in ./data/audio_label_clip/negative_11.wav\n"
     ]
    },
    {
     "name": "stderr",
     "output_type": "stream",
     "text": [
      "                                                       \r"
     ]
    },
    {
     "name": "stdout",
     "output_type": "stream",
     "text": [
      "MoviePy - Done.\n",
      "dd\n",
      "4.561187 5.2286769999999985 0.0\n",
      "MoviePy - Writing audio in ./data/audio_label_clip/negative_12.wav\n",
      "MoviePy - Done.\n",
      "dd\n",
      "12.504325999999999 13.972806 0.0\n",
      "MoviePy - Writing audio in ./data/audio_label_clip/negative_13.wav\n",
      "MoviePy - Done.\n",
      "dd\n",
      "file name:27_jh\n",
      "read new file\n",
      "      start       end  label\n",
      "0  1.843072  2.170284     13\n",
      "1  2.424040  3.579299      0\n",
      "2  3.739566  5.689482      9\n",
      "3  5.796327  6.016694     13\n",
      "4  6.283806  6.904841      0\n",
      "5  6.984975  7.926544      0\n",
      "1.843072 2.170284 13\n"
     ]
    },
    {
     "name": "stderr",
     "output_type": "stream",
     "text": [
      "                                                       "
     ]
    },
    {
     "name": "stdout",
     "output_type": "stream",
     "text": [
      "MoviePy - Writing audio in ./data/audio_label_clip/byoung_0.wav\n",
      "MoviePy - Done.\n",
      "dd\n",
      "2.42404 3.579299 0\n",
      "MoviePy - Writing audio in ./data/audio_label_clip/negative_14.wav\n",
      "MoviePy - Done.\n",
      "dd\n",
      "3.7395660000000004 5.689482 9\n",
      "MoviePy - Writing audio in ./data/audio_label_clip/background_13.wav\n",
      "MoviePy - Done.\n",
      "dd\n",
      "5.796327 6.016694 13\n"
     ]
    },
    {
     "name": "stderr",
     "output_type": "stream",
     "text": [
      "                                                       "
     ]
    },
    {
     "name": "stdout",
     "output_type": "stream",
     "text": [
      "MoviePy - Writing audio in ./data/audio_label_clip/byoung_1.wav\n",
      "MoviePy - Done.\n",
      "dd\n",
      "6.283805999999999 6.904841 0\n",
      "MoviePy - Writing audio in ./data/audio_label_clip/negative_15.wav\n",
      "MoviePy - Done.\n",
      "dd\n",
      "6.984975 7.926544 0\n",
      "MoviePy - Writing audio in ./data/audio_label_clip/negative_16.wav\n",
      "MoviePy - Done.\n",
      "dd\n",
      "file name:4_es\n",
      "read new file\n",
      "      start        end  label\n",
      "0   1.68750   1.953125   11.0\n",
      "1   2.50000   3.140625    0.0\n",
      "2   3.65625   4.843750    9.0\n",
      "3  12.50000  13.000000    0.0\n",
      "1.6875 1.953125 11.0\n"
     ]
    },
    {
     "name": "stderr",
     "output_type": "stream",
     "text": [
      "                                                       "
     ]
    },
    {
     "name": "stdout",
     "output_type": "stream",
     "text": [
      "MoviePy - Writing audio in ./data/audio_label_clip/jon_1.wav\n",
      "MoviePy - Done.\n",
      "dd\n",
      "2.5 3.140625 0.0\n",
      "MoviePy - Writing audio in ./data/audio_label_clip/negative_17.wav\n",
      "MoviePy - Done.\n",
      "dd\n",
      "3.65625 4.84375 9.0\n",
      "MoviePy - Writing audio in ./data/audio_label_clip/background_14.wav\n",
      "MoviePy - Done.\n",
      "dd\n",
      "12.5 13.0 0.0\n"
     ]
    },
    {
     "name": "stderr",
     "output_type": "stream",
     "text": [
      "                                                       "
     ]
    },
    {
     "name": "stdout",
     "output_type": "stream",
     "text": [
      "MoviePy - Writing audio in ./data/audio_label_clip/negative_18.wav\n",
      "MoviePy - Done.\n",
      "dd\n",
      "file name:39_jh\n",
      "read new file\n",
      "      start       end  label\n",
      "0  0.000000  0.608514      0\n",
      "1  0.668614  0.909015     12\n",
      "2  1.029215  1.555092      0\n",
      "3  1.637730  2.238731      9\n",
      "4  2.253756  2.809683      0\n",
      "0.0 0.608514 0\n",
      "MoviePy - Writing audio in ./data/audio_label_clip/negative_19.wav\n",
      "MoviePy - Done.\n",
      "dd\n",
      "0.668614 0.909015 12\n",
      "MoviePy - Writing audio in ./data/audio_label_clip/sha_11.wav\n"
     ]
    },
    {
     "name": "stderr",
     "output_type": "stream",
     "text": [
      "                                                       \r"
     ]
    },
    {
     "name": "stdout",
     "output_type": "stream",
     "text": [
      "MoviePy - Done.\n",
      "dd\n",
      "1.029215 1.555092 0\n",
      "MoviePy - Writing audio in ./data/audio_label_clip/negative_20.wav\n",
      "MoviePy - Done.\n",
      "dd\n",
      "1.63773 2.238731 9\n",
      "MoviePy - Writing audio in ./data/audio_label_clip/background_15.wav\n",
      "MoviePy - Done.\n",
      "dd\n",
      "2.253756 2.809683 0\n"
     ]
    },
    {
     "name": "stderr",
     "output_type": "stream",
     "text": [
      "                                                       "
     ]
    },
    {
     "name": "stdout",
     "output_type": "stream",
     "text": [
      "MoviePy - Writing audio in ./data/audio_label_clip/negative_21.wav\n",
      "MoviePy - Done.\n",
      "dd\n",
      "file name:0s8RyIomOi0_10\n",
      "read new file\n",
      "      start       end  label\n",
      "0  0.435090  0.848151      0\n",
      "1  2.040519  2.368214     11\n",
      "2  2.753737  3.409127      9\n",
      "3  4.929190  5.353265     10\n",
      "4  6.239969  6.553895     11\n",
      "5  6.553895  6.691581      0\n",
      "6  6.691581  7.027537      0\n",
      "0.43509 0.848151 0\n",
      "MoviePy - Writing audio in ./data/audio_label_clip/negative_22.wav\n",
      "MoviePy - Done.\n",
      "dd\n",
      "2.0405189999999997 2.368214 11\n",
      "MoviePy - Writing audio in ./data/audio_label_clip/jon_2.wav\n"
     ]
    },
    {
     "name": "stderr",
     "output_type": "stream",
     "text": [
      "                                                       \r"
     ]
    },
    {
     "name": "stdout",
     "output_type": "stream",
     "text": [
      "MoviePy - Done.\n",
      "dd\n",
      "2.753737 3.409127 9\n",
      "MoviePy - Writing audio in ./data/audio_label_clip/background_16.wav\n",
      "MoviePy - Done.\n",
      "dd\n",
      "4.92919 5.353265 10\n",
      "MoviePy - Writing audio in ./data/audio_label_clip/shi_7.wav\n",
      "MoviePy - Done.\n",
      "dd\n",
      "6.239969 6.553895 11\n"
     ]
    },
    {
     "name": "stderr",
     "output_type": "stream",
     "text": [
      "                                                      "
     ]
    },
    {
     "name": "stdout",
     "output_type": "stream",
     "text": [
      "MoviePy - Writing audio in ./data/audio_label_clip/jon_3.wav\n",
      "MoviePy - Done.\n",
      "dd\n",
      "6.553895 6.691580999999999 0\n",
      "MoviePy - Writing audio in ./data/audio_label_clip/negative_23.wav\n",
      "MoviePy - Done.\n",
      "dd\n",
      "6.691580999999999 7.027537 0\n",
      "MoviePy - Writing audio in ./data/audio_label_clip/negative_24.wav\n",
      "MoviePy - Done.\n",
      "dd\n",
      "file name:35_jh\n",
      "read new file\n",
      "      start       end  label\n",
      "0  0.000000  0.460938      9\n",
      "1  0.476563  0.945313     10\n",
      "2  1.023438  1.695313      0\n",
      "3  1.726563  1.960938     12\n",
      "4  2.125000  3.234375      0\n",
      "5  3.273438  3.414063     11\n",
      "6  3.437500  3.992188      0\n",
      "0.0 0.460938 9\n"
     ]
    },
    {
     "name": "stderr",
     "output_type": "stream",
     "text": [
      "                                                       "
     ]
    },
    {
     "name": "stdout",
     "output_type": "stream",
     "text": [
      "MoviePy - Writing audio in ./data/audio_label_clip/background_17.wav\n",
      "MoviePy - Done.\n",
      "dd\n",
      "0.476563 0.945313 10\n",
      "MoviePy - Writing audio in ./data/audio_label_clip/shi_8.wav\n",
      "MoviePy - Done.\n",
      "dd\n",
      "1.0234379999999998 1.695313 0\n",
      "MoviePy - Writing audio in ./data/audio_label_clip/negative_25.wav\n",
      "MoviePy - Done.\n",
      "dd\n",
      "1.726563 1.960938 12\n"
     ]
    },
    {
     "name": "stderr",
     "output_type": "stream",
     "text": [
      "                                                       "
     ]
    },
    {
     "name": "stdout",
     "output_type": "stream",
     "text": [
      "MoviePy - Writing audio in ./data/audio_label_clip/sha_12.wav\n",
      "MoviePy - Done.\n",
      "dd\n",
      "2.125 3.234375 0\n",
      "MoviePy - Writing audio in ./data/audio_label_clip/negative_26.wav\n",
      "MoviePy - Done.\n",
      "dd\n",
      "3.273438 3.4140629999999996 11\n",
      "MoviePy - Writing audio in ./data/audio_label_clip/jon_4.wav\n",
      "MoviePy - Done.\n",
      "dd\n",
      "3.4375 3.9921879999999996 0\n"
     ]
    },
    {
     "name": "stderr",
     "output_type": "stream",
     "text": [
      "                                                       "
     ]
    },
    {
     "name": "stdout",
     "output_type": "stream",
     "text": [
      "MoviePy - Writing audio in ./data/audio_label_clip/negative_27.wav\n",
      "MoviePy - Done.\n",
      "dd\n",
      "file name:_nZDvoRWsYg_28\n",
      "read new file\n",
      "      start       end  label\n",
      "0  2.202990  2.903226     12\n",
      "1  6.247050  7.922895      9\n",
      "2  8.048780  9.040126      0\n",
      "3  9.040126  9.913454      0\n",
      "2.2029900000000002 2.9032259999999996 12\n",
      "MoviePy - Writing audio in ./data/audio_label_clip/sha_13.wav\n",
      "MoviePy - Done.\n",
      "dd\n",
      "6.24705 7.922895 9\n",
      "MoviePy - Writing audio in ./data/audio_label_clip/background_18.wav\n",
      "MoviePy - Done.\n",
      "dd\n",
      "8.04878 9.040125999999999 0\n"
     ]
    },
    {
     "name": "stderr",
     "output_type": "stream",
     "text": [
      "                                                       "
     ]
    },
    {
     "name": "stdout",
     "output_type": "stream",
     "text": [
      "MoviePy - Writing audio in ./data/audio_label_clip/negative_28.wav\n",
      "MoviePy - Done.\n",
      "dd\n",
      "9.040125999999999 9.913454 0\n",
      "MoviePy - Writing audio in ./data/audio_label_clip/negative_29.wav\n",
      "MoviePy - Done.\n",
      "dd\n",
      "file name:1cmlJNN5-_U_25\n",
      "read new file\n",
      "      start       end  label\n",
      "0  0.110149  0.743509     12\n",
      "1  0.864673  1.564123      9\n",
      "2  1.608183  1.845004      0\n",
      "3  2.836349  3.332022      0\n",
      "4  4.240755  4.681353      9\n",
      "5  5.386310  5.733281     10\n",
      "6  5.689221  5.948072     12\n",
      "0.110149 0.743509 12\n",
      "MoviePy - Writing audio in ./data/audio_label_clip/sha_14.wav\n",
      "MoviePy - Done.\n",
      "dd\n",
      "0.8646729999999999 1.564123 9\n"
     ]
    },
    {
     "name": "stderr",
     "output_type": "stream",
     "text": [
      "                                                       "
     ]
    },
    {
     "name": "stdout",
     "output_type": "stream",
     "text": [
      "MoviePy - Writing audio in ./data/audio_label_clip/background_19.wav\n",
      "MoviePy - Done.\n",
      "dd\n",
      "1.608183 1.845004 0\n",
      "MoviePy - Writing audio in ./data/audio_label_clip/negative_30.wav\n",
      "MoviePy - Done.\n",
      "dd\n",
      "2.8363490000000002 3.3320220000000003 0\n",
      "MoviePy - Writing audio in ./data/audio_label_clip/negative_31.wav\n",
      "MoviePy - Done.\n",
      "dd\n",
      "4.240755 4.681353 9\n"
     ]
    },
    {
     "name": "stderr",
     "output_type": "stream",
     "text": [
      "                                                       "
     ]
    },
    {
     "name": "stdout",
     "output_type": "stream",
     "text": [
      "MoviePy - Writing audio in ./data/audio_label_clip/background_20.wav\n",
      "MoviePy - Done.\n",
      "dd\n",
      "5.38631 5.733281 10\n",
      "MoviePy - Writing audio in ./data/audio_label_clip/shi_9.wav\n",
      "MoviePy - Done.\n",
      "dd\n",
      "5.689221 5.948072 12\n",
      "MoviePy - Writing audio in ./data/audio_label_clip/sha_15.wav\n",
      "MoviePy - Done.\n",
      "dd\n",
      "file name:8_es\n",
      "read new file\n",
      "       start        end  label\n",
      "0  10.959825  13.257852    9.0\n",
      "1  17.853908  18.127100   12.0\n",
      "10.959825 13.257852 9.0\n"
     ]
    },
    {
     "name": "stderr",
     "output_type": "stream",
     "text": [
      "                                                       "
     ]
    },
    {
     "name": "stdout",
     "output_type": "stream",
     "text": [
      "MoviePy - Writing audio in ./data/audio_label_clip/background_21.wav\n",
      "MoviePy - Done.\n",
      "dd\n",
      "17.853907999999997 18.1271 12.0\n",
      "MoviePy - Writing audio in ./data/audio_label_clip/sha_16.wav\n",
      "MoviePy - Done.\n",
      "dd\n",
      "file name:11_jh\n",
      "read new file\n",
      "      start       end  label\n",
      "0  0.093178  0.477537     12\n",
      "1  0.931780  4.233777      9\n",
      "2  4.379368  7.000000      0\n",
      "0.093178 0.477537 12\n",
      "MoviePy - Writing audio in ./data/audio_label_clip/sha_17.wav\n"
     ]
    },
    {
     "name": "stderr",
     "output_type": "stream",
     "text": [
      "chunk:   0%|          | 0/58 [00:00<?, ?it/s, now=None]"
     ]
    },
    {
     "name": "stdout",
     "output_type": "stream",
     "text": [
      "MoviePy - Done.\n",
      "dd\n",
      "0.9317799999999999 4.233777 9\n",
      "MoviePy - Writing audio in ./data/audio_label_clip/background_22.wav\n",
      "MoviePy - Done.\n",
      "dd\n",
      "4.379368 7.0 0\n",
      "MoviePy - Writing audio in ./data/audio_label_clip/negative_32.wav\n"
     ]
    },
    {
     "name": "stderr",
     "output_type": "stream",
     "text": [
      "                                                       \r"
     ]
    },
    {
     "name": "stdout",
     "output_type": "stream",
     "text": [
      "MoviePy - Done.\n",
      "dd\n",
      "file name:29_jh\n",
      "read new file\n",
      "      start       end  label\n",
      "0  0.000000  2.103506      0\n",
      "1  2.214524  3.593489      9\n",
      "2  6.000835  6.287145     10\n",
      "3  6.479967  7.000000      0\n",
      "0.0 2.1035060000000003 0\n",
      "MoviePy - Writing audio in ./data/audio_label_clip/negative_33.wav\n",
      "MoviePy - Done.\n",
      "dd\n",
      "2.2145240000000004 3.593489 9\n",
      "MoviePy - Writing audio in ./data/audio_label_clip/background_23.wav\n",
      "MoviePy - Done.\n",
      "dd\n",
      "6.0008349999999995 6.287145 10\n"
     ]
    },
    {
     "name": "stderr",
     "output_type": "stream",
     "text": [
      "                                                       "
     ]
    },
    {
     "name": "stdout",
     "output_type": "stream",
     "text": [
      "MoviePy - Writing audio in ./data/audio_label_clip/shi_10.wav\n",
      "MoviePy - Done.\n",
      "dd\n",
      "6.479967 7.0 0\n",
      "MoviePy - Writing audio in ./data/audio_label_clip/negative_34.wav\n",
      "MoviePy - Done.\n",
      "dd\n",
      "file name:37_jh\n",
      "read new file\n",
      "      start       end  label\n",
      "0  0.000000  0.770270      0\n",
      "1  0.932432  1.229730     12\n",
      "2  1.689189  2.310811      0\n",
      "0.0 0.77027 0\n",
      "MoviePy - Writing audio in ./data/audio_label_clip/negative_35.wav\n",
      "MoviePy - Done.\n",
      "dd\n",
      "0.9324319999999999 1.22973 12\n"
     ]
    },
    {
     "name": "stderr",
     "output_type": "stream",
     "text": [
      "                                                       "
     ]
    },
    {
     "name": "stdout",
     "output_type": "stream",
     "text": [
      "MoviePy - Writing audio in ./data/audio_label_clip/sha_18.wav\n",
      "MoviePy - Done.\n",
      "dd\n",
      "1.689189 2.310811 0\n",
      "MoviePy - Writing audio in ./data/audio_label_clip/negative_36.wav\n",
      "MoviePy - Done.\n",
      "dd\n",
      "file name:6_es\n",
      "read new file\n",
      "      start       end  label\n",
      "0  0.579985  0.908692      0\n",
      "1  1.032871  1.292915     11\n",
      "2  1.357195  1.792549      0\n",
      "0.5799850000000001 0.908692 0\n",
      "MoviePy - Writing audio in ./data/audio_label_clip/negative_37.wav\n",
      "MoviePy - Done.\n",
      "dd\n",
      "1.032871 1.292915 11\n"
     ]
    },
    {
     "name": "stderr",
     "output_type": "stream",
     "text": [
      "                                                       "
     ]
    },
    {
     "name": "stdout",
     "output_type": "stream",
     "text": [
      "MoviePy - Writing audio in ./data/audio_label_clip/jon_5.wav\n",
      "MoviePy - Done.\n",
      "dd\n",
      "1.3571950000000002 1.7925490000000002 0\n",
      "MoviePy - Writing audio in ./data/audio_label_clip/negative_38.wav\n",
      "MoviePy - Done.\n",
      "dd\n",
      "file name:25_jh\n",
      "read new file\n",
      "      start        end  label\n",
      "0  0.320534   0.520868     12\n",
      "1  1.282137   3.335559      0\n",
      "2  3.826377  12.000000      9\n",
      "0.32053400000000004 0.520868 12\n",
      "MoviePy - Writing audio in ./data/audio_label_clip/sha_19.wav\n",
      "MoviePy - Done.\n",
      "dd\n",
      "1.282137 3.3355589999999995 0\n"
     ]
    },
    {
     "name": "stderr",
     "output_type": "stream",
     "text": [
      "                                                        "
     ]
    },
    {
     "name": "stdout",
     "output_type": "stream",
     "text": [
      "MoviePy - Writing audio in ./data/audio_label_clip/negative_39.wav\n",
      "MoviePy - Done.\n",
      "dd\n",
      "3.8263769999999995 12.0 9\n",
      "MoviePy - Writing audio in ./data/audio_label_clip/background_24.wav\n",
      "MoviePy - Done.\n",
      "dd\n",
      "file name:13_jh\n",
      "read new file\n",
      "      start       end  label\n",
      "0  0.000000  1.815526      0\n",
      "1  1.848915  3.096828      9\n",
      "2  3.151085  4.136060      0\n",
      "3  4.181970  4.407346     11\n",
      "0.0 1.8155259999999998 0\n"
     ]
    },
    {
     "name": "stderr",
     "output_type": "stream",
     "text": [
      "                                                       "
     ]
    },
    {
     "name": "stdout",
     "output_type": "stream",
     "text": [
      "MoviePy - Writing audio in ./data/audio_label_clip/negative_40.wav\n",
      "MoviePy - Done.\n",
      "dd\n",
      "1.848915 3.096828 9\n",
      "MoviePy - Writing audio in ./data/audio_label_clip/background_25.wav\n",
      "MoviePy - Done.\n",
      "dd\n",
      "3.1510849999999997 4.13606 0\n",
      "MoviePy - Writing audio in ./data/audio_label_clip/negative_41.wav\n"
     ]
    },
    {
     "name": "stderr",
     "output_type": "stream",
     "text": [
      "                                                       \r"
     ]
    },
    {
     "name": "stdout",
     "output_type": "stream",
     "text": [
      "MoviePy - Done.\n",
      "dd\n",
      "4.18197 4.4073459999999995 11\n",
      "MoviePy - Writing audio in ./data/audio_label_clip/jon_6.wav\n",
      "MoviePy - Done.\n",
      "dd\n",
      "file name:29_es\n",
      "read new file\n",
      "      start       end  label\n",
      "0  1.023375  1.604091     12\n",
      "1  1.821037  2.590212      9\n",
      "1.023375 1.604091 12\n",
      "MoviePy - Writing audio in ./data/audio_label_clip/sha_20.wav\n",
      "MoviePy - Done.\n",
      "dd\n",
      "1.821037 2.590212 9\n"
     ]
    },
    {
     "name": "stderr",
     "output_type": "stream",
     "text": [
      "                                                       "
     ]
    },
    {
     "name": "stdout",
     "output_type": "stream",
     "text": [
      "MoviePy - Writing audio in ./data/audio_label_clip/background_26.wav\n",
      "MoviePy - Done.\n",
      "dd\n",
      "file name:37_es\n",
      "read new file\n",
      "      start       end  label\n",
      "0  2.058072  2.293280     12\n",
      "1  3.857925  4.440833      0\n",
      "2  6.956538  7.245435     12\n",
      "3  7.700511  7.917823     12\n",
      "4  8.311541  8.508400     12\n",
      "2.058072 2.29328 12\n",
      "MoviePy - Writing audio in ./data/audio_label_clip/sha_21.wav\n",
      "MoviePy - Done.\n",
      "dd\n",
      "3.857925 4.4408330000000005 0\n",
      "MoviePy - Writing audio in ./data/audio_label_clip/negative_42.wav\n",
      "MoviePy - Done.\n",
      "dd\n",
      "6.956538 7.245435 12\n"
     ]
    },
    {
     "name": "stderr",
     "output_type": "stream",
     "text": [
      "                                                      "
     ]
    },
    {
     "name": "stdout",
     "output_type": "stream",
     "text": [
      "MoviePy - Writing audio in ./data/audio_label_clip/sha_22.wav\n",
      "MoviePy - Done.\n",
      "dd\n",
      "7.700511 7.9178229999999985 12\n",
      "MoviePy - Writing audio in ./data/audio_label_clip/sha_23.wav\n",
      "MoviePy - Done.\n",
      "dd\n",
      "8.311541 8.5084 12\n",
      "MoviePy - Writing audio in ./data/audio_label_clip/sha_24.wav\n",
      "MoviePy - Done.\n",
      "dd\n",
      "file name:46_es\n",
      "read new file\n",
      "       start        end  label\n",
      "0   1.176041   1.629657   10.0\n",
      "1   6.905040   7.358656   10.0\n",
      "2  11.390796  12.566837    0.0\n",
      "3  20.379109  21.269540    9.0\n",
      "1.176041 1.629657 10.0\n"
     ]
    },
    {
     "name": "stderr",
     "output_type": "stream",
     "text": [
      "chunk:   0%|          | 0/26 [00:00<?, ?it/s, now=None]"
     ]
    },
    {
     "name": "stdout",
     "output_type": "stream",
     "text": [
      "MoviePy - Writing audio in ./data/audio_label_clip/shi_11.wav\n",
      "MoviePy - Done.\n",
      "dd\n",
      "6.90504 7.358656 10.0\n",
      "MoviePy - Writing audio in ./data/audio_label_clip/shi_12.wav\n",
      "MoviePy - Done.\n",
      "dd\n",
      "11.390796 12.566837 0.0\n",
      "MoviePy - Writing audio in ./data/audio_label_clip/negative_43.wav\n"
     ]
    },
    {
     "name": "stderr",
     "output_type": "stream",
     "text": [
      "                                                       \r"
     ]
    },
    {
     "name": "stdout",
     "output_type": "stream",
     "text": [
      "MoviePy - Done.\n",
      "dd\n",
      "20.379109 21.26954 9.0\n",
      "MoviePy - Writing audio in ./data/audio_label_clip/background_27.wav\n",
      "MoviePy - Done.\n",
      "dd\n",
      "file name:_nZDvoRWsYg_12\n",
      "read new file\n",
      "       start        end  label\n",
      "0   1.439024   1.984461     13\n",
      "1   2.593725   2.999902     12\n",
      "2   5.257081   5.628442     11\n",
      "3   5.628442   6.754131      0\n",
      "4  18.614477  19.113493     12\n",
      "5  30.097659  31.023161      9\n",
      "6  53.684894  55.379229      9\n",
      "7  66.148702  67.216365      0\n",
      "8  75.014949  76.686074      9\n",
      "9  85.598741  86.666404      0\n",
      "1.439024 1.984461 13\n",
      "MoviePy - Writing audio in ./data/audio_label_clip/byoung_2.wav\n",
      "MoviePy - Done.\n",
      "dd\n",
      "2.593725 2.999902 12\n"
     ]
    },
    {
     "name": "stderr",
     "output_type": "stream",
     "text": [
      "                                                       "
     ]
    },
    {
     "name": "stdout",
     "output_type": "stream",
     "text": [
      "MoviePy - Writing audio in ./data/audio_label_clip/sha_25.wav\n",
      "MoviePy - Done.\n",
      "dd\n",
      "5.2570809999999994 5.628442 11\n",
      "MoviePy - Writing audio in ./data/audio_label_clip/jon_7.wav\n",
      "MoviePy - Done.\n",
      "dd\n",
      "5.628442 6.754131 0\n",
      "MoviePy - Writing audio in ./data/audio_label_clip/negative_44.wav\n",
      "MoviePy - Done.\n",
      "dd\n",
      "18.614476999999997 19.113493 12\n"
     ]
    },
    {
     "name": "stderr",
     "output_type": "stream",
     "text": [
      "                                                       \r"
     ]
    },
    {
     "name": "stdout",
     "output_type": "stream",
     "text": [
      "MoviePy - Writing audio in ./data/audio_label_clip/sha_26.wav\n",
      "MoviePy - Done.\n",
      "dd\n",
      "30.097659000000004 31.023160999999998 9\n",
      "MoviePy - Writing audio in ./data/audio_label_clip/background_28.wav\n",
      "MoviePy - Done.\n",
      "dd\n",
      "53.68489399999999 55.379229 9\n",
      "MoviePy - Writing audio in ./data/audio_label_clip/background_29.wav\n"
     ]
    },
    {
     "name": "stderr",
     "output_type": "stream",
     "text": [
      "chunk:   0%|          | 0/37 [00:00<?, ?it/s, now=None]"
     ]
    },
    {
     "name": "stdout",
     "output_type": "stream",
     "text": [
      "MoviePy - Done.\n",
      "dd\n",
      "66.148702 67.216365 0\n",
      "MoviePy - Writing audio in ./data/audio_label_clip/negative_45.wav\n",
      "MoviePy - Done.\n",
      "dd\n",
      "75.014949 76.686074 9\n",
      "MoviePy - Writing audio in ./data/audio_label_clip/background_30.wav\n"
     ]
    },
    {
     "name": "stderr",
     "output_type": "stream",
     "text": [
      "                                                       \r"
     ]
    },
    {
     "name": "stdout",
     "output_type": "stream",
     "text": [
      "MoviePy - Done.\n",
      "dd\n",
      "85.598741 86.666404 0\n",
      "MoviePy - Writing audio in ./data/audio_label_clip/negative_46.wav\n",
      "MoviePy - Done.\n",
      "dd\n",
      "file name:6_jh\n",
      "read new file\n",
      "      start       end  label\n",
      "0  0.440735  1.075125     12\n",
      "1  1.896494  2.363940     12\n",
      "2  2.550918  4.594324      0\n",
      "3  4.701169  5.115192     12\n",
      "4  5.529215  8.000000      0\n",
      "0.44073500000000004 1.075125 12\n",
      "MoviePy - Writing audio in ./data/audio_label_clip/sha_27.wav\n",
      "MoviePy - Done.\n",
      "dd\n",
      "1.896494 2.36394 12\n"
     ]
    },
    {
     "name": "stderr",
     "output_type": "stream",
     "text": [
      "                                                       "
     ]
    },
    {
     "name": "stdout",
     "output_type": "stream",
     "text": [
      "MoviePy - Writing audio in ./data/audio_label_clip/sha_28.wav\n",
      "MoviePy - Done.\n",
      "dd\n",
      "2.5509180000000002 4.594323999999999 0\n",
      "MoviePy - Writing audio in ./data/audio_label_clip/negative_47.wav\n",
      "MoviePy - Done.\n",
      "dd\n",
      "4.701169 5.1151919999999995 12\n",
      "MoviePy - Writing audio in ./data/audio_label_clip/sha_29.wav\n",
      "MoviePy - Done.\n",
      "dd\n",
      "5.529215 8.0 0\n"
     ]
    },
    {
     "name": "stderr",
     "output_type": "stream",
     "text": [
      "                                                       \r"
     ]
    },
    {
     "name": "stdout",
     "output_type": "stream",
     "text": [
      "MoviePy - Writing audio in ./data/audio_label_clip/negative_48.wav\n",
      "MoviePy - Done.\n",
      "dd\n",
      "file name:25_es\n",
      "read new file\n",
      "      start       end  label\n",
      "0  0.845188  1.490002     12\n",
      "0.8451879999999999 1.490002 12\n",
      "MoviePy - Writing audio in ./data/audio_label_clip/sha_30.wav\n",
      "MoviePy - Done.\n",
      "dd\n",
      "file name:13_es\n",
      "read new file\n",
      "      start       end  label\n",
      "0  0.479182  2.086194      9\n",
      "1  2.284879  2.728999      0\n",
      "2  3.517896  4.014609     12\n",
      "3  4.832725  5.539810      9\n",
      "4  5.586560  6.299489      0\n",
      "0.479182 2.086194 9\n"
     ]
    },
    {
     "name": "stderr",
     "output_type": "stream",
     "text": [
      "                                                       "
     ]
    },
    {
     "name": "stdout",
     "output_type": "stream",
     "text": [
      "MoviePy - Writing audio in ./data/audio_label_clip/background_31.wav\n",
      "MoviePy - Done.\n",
      "dd\n",
      "2.284879 2.728999 0\n",
      "MoviePy - Writing audio in ./data/audio_label_clip/negative_49.wav\n",
      "MoviePy - Done.\n",
      "dd\n",
      "3.517896 4.014609 12\n",
      "MoviePy - Writing audio in ./data/audio_label_clip/sha_31.wav\n",
      "MoviePy - Done.\n",
      "dd\n",
      "4.832725 5.53981 9\n"
     ]
    },
    {
     "name": "stderr",
     "output_type": "stream",
     "text": [
      "                                                       "
     ]
    },
    {
     "name": "stdout",
     "output_type": "stream",
     "text": [
      "MoviePy - Writing audio in ./data/audio_label_clip/background_32.wav\n",
      "MoviePy - Done.\n",
      "dd\n",
      "5.58656 6.299489 0\n",
      "MoviePy - Writing audio in ./data/audio_label_clip/negative_50.wav\n",
      "MoviePy - Done.\n",
      "dd\n",
      "file name:_wL69OdUSgA_26\n",
      "read new file\n",
      "      start        end  label\n",
      "0  0.527685   0.824056     12\n",
      "1  3.093824   3.397423     12\n",
      "2  4.327498   4.847954      0\n",
      "3  4.847954   5.638277      0\n",
      "4  6.708104  11.498230      9\n",
      "0.5276850000000001 0.8240559999999999 12\n",
      "MoviePy - Writing audio in ./data/audio_label_clip/sha_32.wav\n",
      "MoviePy - Done.\n",
      "dd\n",
      "3.093824 3.3974230000000003 12\n"
     ]
    },
    {
     "name": "stderr",
     "output_type": "stream",
     "text": [
      "                                                       "
     ]
    },
    {
     "name": "stdout",
     "output_type": "stream",
     "text": [
      "MoviePy - Writing audio in ./data/audio_label_clip/sha_33.wav\n",
      "MoviePy - Done.\n",
      "dd\n",
      "4.327498 4.847954 0\n",
      "MoviePy - Writing audio in ./data/audio_label_clip/negative_51.wav\n",
      "MoviePy - Done.\n",
      "dd\n",
      "4.847954 5.6382769999999995 0\n",
      "MoviePy - Writing audio in ./data/audio_label_clip/negative_52.wav\n",
      "MoviePy - Done.\n",
      "dd\n",
      "6.708104 11.49823 9\n"
     ]
    },
    {
     "name": "stderr",
     "output_type": "stream",
     "text": [
      "                                                        \r"
     ]
    },
    {
     "name": "stdout",
     "output_type": "stream",
     "text": [
      "MoviePy - Writing audio in ./data/audio_label_clip/background_33.wav\n",
      "MoviePy - Done.\n",
      "dd\n",
      "file name:0WpR_WuNYc8_12\n",
      "read new file\n",
      "      start       end  label\n",
      "0  1.619197  2.957514      9\n",
      "1  3.519276  4.130606      0\n",
      "2  6.840283  9.384736      9\n",
      "1.619197 2.9575139999999998 9\n",
      "MoviePy - Writing audio in ./data/audio_label_clip/background_34.wav\n",
      "MoviePy - Done.\n",
      "dd\n",
      "3.519276 4.130605999999999 0\n",
      "MoviePy - Writing audio in ./data/audio_label_clip/negative_53.wav\n"
     ]
    },
    {
     "name": "stderr",
     "output_type": "stream",
     "text": [
      "                                                       \r"
     ]
    },
    {
     "name": "stdout",
     "output_type": "stream",
     "text": [
      "MoviePy - Done.\n",
      "dd\n",
      "6.840283 9.384736 9\n",
      "MoviePy - Writing audio in ./data/audio_label_clip/background_35.wav\n",
      "MoviePy - Done.\n",
      "dd\n",
      "file name:17_jh\n",
      "read new file\n",
      "      start       end  label\n",
      "0  0.000000  0.263773      9\n",
      "1  0.320534  0.707846      0\n",
      "2  0.727880  0.879800      1\n",
      "3  0.958264  1.178631      0\n",
      "4  1.196995  2.000000      9\n",
      "0.0 0.263773 9\n",
      "MoviePy - Writing audio in ./data/audio_label_clip/background_36.wav\n",
      "MoviePy - Done.\n",
      "dd\n",
      "0.32053400000000004 0.707846 0\n"
     ]
    },
    {
     "name": "stderr",
     "output_type": "stream",
     "text": [
      "                                                      "
     ]
    },
    {
     "name": "stdout",
     "output_type": "stream",
     "text": [
      "MoviePy - Writing audio in ./data/audio_label_clip/negative_54.wav\n",
      "MoviePy - Done.\n",
      "dd\n",
      "0.72788 0.8798 1\n",
      "MoviePy - Writing audio in ./data/audio_label_clip/./data/audio_label_clip/negative_54.wav.wav\n",
      "MoviePy - Done.\n",
      "dd\n",
      "0.9582639999999999 1.178631 0\n",
      "MoviePy - Writing audio in ./data/audio_label_clip/negative_55.wav\n",
      "MoviePy - Done.\n",
      "dd\n",
      "1.196995 2.0 9\n"
     ]
    },
    {
     "name": "stderr",
     "output_type": "stream",
     "text": [
      "                                                       "
     ]
    },
    {
     "name": "stdout",
     "output_type": "stream",
     "text": [
      "MoviePy - Writing audio in ./data/audio_label_clip/background_37.wav\n",
      "MoviePy - Done.\n",
      "dd\n",
      "file name:2_es\n",
      "read new file\n",
      "       start        end  label\n",
      "0   7.893362   8.422198   13.0\n",
      "1  10.361262  10.870511   12.0\n",
      "7.893362 8.422198 13.0\n",
      "MoviePy - Writing audio in ./data/audio_label_clip/byoung_3.wav\n",
      "MoviePy - Done.\n",
      "dd\n",
      "10.361262 10.870511 12.0\n",
      "MoviePy - Writing audio in ./data/audio_label_clip/sha_34.wav\n",
      "MoviePy - Done.\n",
      "dd\n",
      "file name:_nZDvoRWsYg_61\n",
      "read new file\n",
      "      start       end  label\n",
      "0  0.828482  1.125885     12\n",
      "1  1.770260  2.138474      0\n",
      "2  2.138474  3.441385      9\n",
      "3  4.740755  5.165618     10\n",
      "0.8284819999999999 1.125885 12\n"
     ]
    },
    {
     "name": "stderr",
     "output_type": "stream",
     "text": [
      "                                                       "
     ]
    },
    {
     "name": "stdout",
     "output_type": "stream",
     "text": [
      "MoviePy - Writing audio in ./data/audio_label_clip/sha_35.wav\n",
      "MoviePy - Done.\n",
      "dd\n",
      "1.77026 2.138474 0\n",
      "MoviePy - Writing audio in ./data/audio_label_clip/negative_56.wav\n",
      "MoviePy - Done.\n",
      "dd\n",
      "2.138474 3.441385 9\n",
      "MoviePy - Writing audio in ./data/audio_label_clip/background_38.wav\n",
      "MoviePy - Done.\n",
      "dd\n",
      "4.740755 5.165618 10\n"
     ]
    },
    {
     "name": "stderr",
     "output_type": "stream",
     "text": [
      "                                                       "
     ]
    },
    {
     "name": "stdout",
     "output_type": "stream",
     "text": [
      "MoviePy - Writing audio in ./data/audio_label_clip/shi_13.wav\n",
      "MoviePy - Done.\n",
      "dd\n",
      "file name:21_jh\n",
      "read new file\n",
      "      start       end  label\n",
      "0  0.023295  0.314476      0\n",
      "1  0.448419  0.972546     11\n",
      "2  1.089018  2.000000      0\n",
      "0.023295 0.31447600000000003 0\n",
      "MoviePy - Writing audio in ./data/audio_label_clip/negative_57.wav\n",
      "MoviePy - Done.\n",
      "dd\n",
      "0.44841899999999996 0.9725459999999999 11\n",
      "MoviePy - Writing audio in ./data/audio_label_clip/jon_8.wav\n",
      "MoviePy - Done.\n",
      "dd\n",
      "1.089018 2.0 0\n"
     ]
    },
    {
     "name": "stderr",
     "output_type": "stream",
     "text": [
      "                                                       "
     ]
    },
    {
     "name": "stdout",
     "output_type": "stream",
     "text": [
      "MoviePy - Writing audio in ./data/audio_label_clip/negative_58.wav\n",
      "MoviePy - Done.\n",
      "dd\n",
      "file name:_wL69OdUSgA_27\n",
      "read new file\n",
      "      start        end  label\n",
      "0  0.067663   0.407553     11\n",
      "1  0.413847   0.706530      0\n",
      "2  7.905586  10.335169      9\n",
      "0.067663 0.407553 11\n",
      "MoviePy - Writing audio in ./data/audio_label_clip/jon_9.wav\n",
      "MoviePy - Done.\n",
      "dd\n",
      "0.413847 0.70653 0\n",
      "MoviePy - Writing audio in ./data/audio_label_clip/negative_59.wav\n"
     ]
    },
    {
     "name": "stderr",
     "output_type": "stream",
     "text": [
      "                                                       \r"
     ]
    },
    {
     "name": "stdout",
     "output_type": "stream",
     "text": [
      "MoviePy - Done.\n",
      "dd\n",
      "7.9055860000000004 10.335169 9\n",
      "MoviePy - Writing audio in ./data/audio_label_clip/background_39.wav\n",
      "MoviePy - Done.\n",
      "dd\n",
      "file name:33_jh\n",
      "read new file\n",
      "      start       end  label\n",
      "0  0.000000  0.562500      0\n",
      "1  0.601563  0.835938     12\n",
      "2  1.015625  1.609375      0\n",
      "3  1.750000  1.984375      9\n",
      "0.0 0.5625 0\n"
     ]
    },
    {
     "name": "stderr",
     "output_type": "stream",
     "text": [
      "                                                       "
     ]
    },
    {
     "name": "stdout",
     "output_type": "stream",
     "text": [
      "MoviePy - Writing audio in ./data/audio_label_clip/negative_60.wav\n",
      "MoviePy - Done.\n",
      "dd\n",
      "0.601563 0.835938 12\n",
      "MoviePy - Writing audio in ./data/audio_label_clip/sha_36.wav\n",
      "MoviePy - Done.\n",
      "dd\n",
      "1.015625 1.609375 0\n",
      "MoviePy - Writing audio in ./data/audio_label_clip/negative_61.wav\n",
      "MoviePy - Done.\n",
      "dd\n",
      "1.75 1.984375 9\n"
     ]
    },
    {
     "name": "stderr",
     "output_type": "stream",
     "text": [
      "                                                       \r"
     ]
    },
    {
     "name": "stdout",
     "output_type": "stream",
     "text": [
      "MoviePy - Writing audio in ./data/audio_label_clip/background_40.wav\n",
      "MoviePy - Done.\n",
      "dd\n",
      "file name:17_es\n",
      "read new file\n",
      "      start       end  label\n",
      "0  0.420745  0.929145     10\n",
      "1  1.823229  2.498174      0\n",
      "2  3.120526  3.751644     10\n",
      "3  5.241782  6.013148      0\n",
      "0.420745 0.929145 10\n",
      "MoviePy - Writing audio in ./data/audio_label_clip/shi_14.wav\n",
      "MoviePy - Done.\n",
      "dd\n",
      "1.823229 2.498174 0\n"
     ]
    },
    {
     "name": "stderr",
     "output_type": "stream",
     "text": [
      "                                                       "
     ]
    },
    {
     "name": "stdout",
     "output_type": "stream",
     "text": [
      "MoviePy - Writing audio in ./data/audio_label_clip/negative_62.wav\n",
      "MoviePy - Done.\n",
      "dd\n",
      "3.120526 3.751644 10\n",
      "MoviePy - Writing audio in ./data/audio_label_clip/shi_15.wav\n",
      "MoviePy - Done.\n",
      "dd\n",
      "5.241782 6.013148 0\n",
      "MoviePy - Writing audio in ./data/audio_label_clip/negative_63.wav\n",
      "MoviePy - Done.\n",
      "dd\n",
      "file name:_6IQorW2b80_17\n",
      "read new file\n",
      "       start        end  label\n",
      "0  14.346971  29.299764      9\n",
      "1  29.162077  30.456334      0\n",
      "2  34.631688  34.972463     12\n",
      "14.346971 29.299764 9\n"
     ]
    },
    {
     "name": "stderr",
     "output_type": "stream",
     "text": [
      "                                                        "
     ]
    },
    {
     "name": "stdout",
     "output_type": "stream",
     "text": [
      "MoviePy - Writing audio in ./data/audio_label_clip/background_41.wav\n",
      "MoviePy - Done.\n",
      "dd\n",
      "29.162077000000004 30.456334000000002 0\n",
      "MoviePy - Writing audio in ./data/audio_label_clip/negative_64.wav\n"
     ]
    },
    {
     "name": "stderr",
     "output_type": "stream",
     "text": [
      "chunk:   0%|          | 0/163 [00:00<?, ?it/s, now=None]"
     ]
    },
    {
     "name": "stdout",
     "output_type": "stream",
     "text": [
      "MoviePy - Done.\n",
      "dd\n",
      "34.631688 34.972463 12\n",
      "MoviePy - Writing audio in ./data/audio_label_clip/sha_37.wav\n",
      "MoviePy - Done.\n",
      "dd\n",
      "file name:42_es\n",
      "read new file\n",
      "       start        end  label\n",
      "0   1.533966   8.882396    9.0\n",
      "1  10.387144  10.650110   11.0\n",
      "2  11.855369  12.227904    0.0\n",
      "3  16.479182  17.297297    0.0\n",
      "1.533966 8.882396 9.0\n",
      "MoviePy - Writing audio in ./data/audio_label_clip/background_42.wav\n"
     ]
    },
    {
     "name": "stderr",
     "output_type": "stream",
     "text": [
      "                                                        \r"
     ]
    },
    {
     "name": "stdout",
     "output_type": "stream",
     "text": [
      "MoviePy - Done.\n",
      "dd\n",
      "10.387144000000001 10.65011 11.0\n",
      "MoviePy - Writing audio in ./data/audio_label_clip/jon_10.wav\n",
      "MoviePy - Done.\n",
      "dd\n",
      "11.855369 12.227903999999999 0.0\n",
      "MoviePy - Writing audio in ./data/audio_label_clip/negative_65.wav\n",
      "MoviePy - Done.\n",
      "dd\n",
      "16.479182 17.297297 0.0\n",
      "MoviePy - Writing audio in ./data/audio_label_clip/negative_66.wav\n"
     ]
    },
    {
     "name": "stderr",
     "output_type": "stream",
     "text": [
      "                                                       \r"
     ]
    },
    {
     "name": "stdout",
     "output_type": "stream",
     "text": [
      "MoviePy - Done.\n",
      "dd\n",
      "file name:2_jh\n",
      "read new file\n",
      "      start       end  label\n",
      "0  1.096828  1.472454     10\n",
      "1  1.472454  1.833055     10\n",
      "2  2.043406  5.198664      0\n",
      "1.0968280000000001 1.4724540000000002 10\n",
      "MoviePy - Writing audio in ./data/audio_label_clip/shi_16.wav\n",
      "MoviePy - Done.\n",
      "dd\n",
      "1.4724540000000002 1.8330549999999999 10\n",
      "MoviePy - Writing audio in ./data/audio_label_clip/shi_17.wav\n",
      "MoviePy - Done.\n",
      "dd\n",
      "2.043406 5.198664 0\n"
     ]
    },
    {
     "name": "stderr",
     "output_type": "stream",
     "text": [
      "                                                       "
     ]
    },
    {
     "name": "stdout",
     "output_type": "stream",
     "text": [
      "MoviePy - Writing audio in ./data/audio_label_clip/negative_67.wav\n",
      "oserror\n",
      "file name:21_es\n",
      "read new file\n",
      "      start       end  label\n",
      "0  0.241107  0.636364      0\n",
      "1  2.841897  3.403162     10\n",
      "2  3.561265  4.213439      9\n",
      "0.241107 0.636364 0\n",
      "MoviePy - Writing audio in ./data/audio_label_clip/negative_68.wav\n",
      "MoviePy - Done.\n",
      "dd\n",
      "2.841897 3.4031620000000005 10\n"
     ]
    },
    {
     "name": "stderr",
     "output_type": "stream",
     "text": [
      "                                                       "
     ]
    },
    {
     "name": "stdout",
     "output_type": "stream",
     "text": [
      "MoviePy - Writing audio in ./data/audio_label_clip/shi_18.wav\n",
      "MoviePy - Done.\n",
      "dd\n",
      "3.561265 4.213439 9\n",
      "MoviePy - Writing audio in ./data/audio_label_clip/background_43.wav\n",
      "MoviePy - Done.\n",
      "dd\n",
      "file name:50_es\n",
      "read new file\n",
      "      start       end  label\n",
      "0  3.221329  3.536888     12\n",
      "1  4.897736  5.259313     12\n",
      "2  5.952885  6.508400     12\n",
      "3  7.987582  8.293280     12\n",
      "3.221329 3.536888 12\n",
      "MoviePy - Writing audio in ./data/audio_label_clip/sha_38.wav\n",
      "MoviePy - Done.\n",
      "dd\n",
      "4.897736 5.259313 12\n"
     ]
    },
    {
     "name": "stderr",
     "output_type": "stream",
     "text": [
      "                                                       "
     ]
    },
    {
     "name": "stdout",
     "output_type": "stream",
     "text": [
      "MoviePy - Writing audio in ./data/audio_label_clip/sha_39.wav\n",
      "MoviePy - Done.\n",
      "dd\n",
      "5.952885 6.5084 12\n",
      "MoviePy - Writing audio in ./data/audio_label_clip/sha_40.wav\n",
      "MoviePy - Done.\n",
      "dd\n",
      "7.9875820000000015 8.293280000000001 12\n",
      "MoviePy - Writing audio in ./data/audio_label_clip/sha_41.wav\n",
      "MoviePy - Done.\n",
      "dd\n",
      "file name:33_es\n",
      "read new file\n",
      "       start        end  label\n",
      "0   1.490139   1.962016   10.0\n",
      "1   4.395909   5.848795    0.0\n",
      "2  11.933528  12.877283    0.0\n",
      "3  13.386413  15.013148    9.0\n",
      "4  16.639883  17.000000   10.0\n",
      "1.4901389999999999 1.962016 10.0\n"
     ]
    },
    {
     "name": "stderr",
     "output_type": "stream",
     "text": [
      "chunk:   0%|          | 0/21 [00:00<?, ?it/s, now=None]"
     ]
    },
    {
     "name": "stdout",
     "output_type": "stream",
     "text": [
      "MoviePy - Writing audio in ./data/audio_label_clip/shi_19.wav\n",
      "MoviePy - Done.\n",
      "dd\n",
      "4.395909 5.848795 0.0\n",
      "MoviePy - Writing audio in ./data/audio_label_clip/negative_69.wav\n",
      "MoviePy - Done.\n",
      "dd\n",
      "11.933527999999999 12.877283 0.0\n",
      "MoviePy - Writing audio in ./data/audio_label_clip/negative_70.wav\n"
     ]
    },
    {
     "name": "stderr",
     "output_type": "stream",
     "text": [
      "                                                       "
     ]
    },
    {
     "name": "stdout",
     "output_type": "stream",
     "text": [
      "MoviePy - Done.\n",
      "dd\n",
      "13.386413000000001 15.013148000000001 9.0\n",
      "MoviePy - Writing audio in ./data/audio_label_clip/background_44.wav\n",
      "MoviePy - Done.\n",
      "dd\n",
      "16.639882999999998 17.0 10.0\n",
      "MoviePy - Writing audio in ./data/audio_label_clip/shi_20.wav\n"
     ]
    },
    {
     "name": "stderr",
     "output_type": "stream",
     "text": [
      "                                                      \r"
     ]
    },
    {
     "name": "stdout",
     "output_type": "stream",
     "text": [
      "MoviePy - Done.\n",
      "dd\n",
      "file name:15_es\n",
      "read new file\n",
      "      start       end  label\n",
      "0  1.257852  1.590942     12\n",
      "1  3.186267  3.541271     12\n",
      "2  3.576333  4.185537      9\n",
      "3  4.260044  4.689554      0\n",
      "1.257852 1.590942 12\n",
      "MoviePy - Writing audio in ./data/audio_label_clip/sha_42.wav\n",
      "MoviePy - Done.\n",
      "dd\n",
      "3.186267 3.541271 12\n",
      "MoviePy - Writing audio in ./data/audio_label_clip/sha_43.wav\n",
      "MoviePy - Done.\n",
      "dd\n",
      "3.576333 4.185537 9\n"
     ]
    },
    {
     "name": "stderr",
     "output_type": "stream",
     "text": [
      "                                                       "
     ]
    },
    {
     "name": "stdout",
     "output_type": "stream",
     "text": [
      "MoviePy - Writing audio in ./data/audio_label_clip/background_45.wav\n",
      "MoviePy - Done.\n",
      "dd\n",
      "4.2600440000000015 4.689554 0\n",
      "MoviePy - Writing audio in ./data/audio_label_clip/negative_71.wav\n",
      "MoviePy - Done.\n",
      "dd\n",
      "file name:1c-AdpVDMpM_1\n",
      "read new file\n",
      "      start       end  label\n",
      "0  0.558615  1.345397      0\n",
      "1  1.345397  2.966168      9\n",
      "2  3.249410  4.933124      9\n",
      "3  5.362139  5.787441     10\n",
      "4  5.787441  6.529634      0\n",
      "5  6.529634  7.313524      9\n",
      "0.558615 1.345397 0\n",
      "MoviePy - Writing audio in ./data/audio_label_clip/negative_72.wav\n",
      "MoviePy - Done.\n",
      "dd\n",
      "1.345397 2.966168 9\n"
     ]
    },
    {
     "name": "stderr",
     "output_type": "stream",
     "text": [
      "                                                       "
     ]
    },
    {
     "name": "stdout",
     "output_type": "stream",
     "text": [
      "MoviePy - Writing audio in ./data/audio_label_clip/background_46.wav\n",
      "MoviePy - Done.\n",
      "dd\n",
      "3.2494099999999997 4.933123999999999 9\n",
      "MoviePy - Writing audio in ./data/audio_label_clip/background_47.wav\n",
      "MoviePy - Done.\n",
      "dd\n",
      "5.362139 5.787441 10\n",
      "MoviePy - Writing audio in ./data/audio_label_clip/shi_21.wav\n",
      "MoviePy - Done.\n",
      "dd\n",
      "5.787441 6.529634 0\n"
     ]
    },
    {
     "name": "stderr",
     "output_type": "stream",
     "text": [
      "                                                       "
     ]
    },
    {
     "name": "stdout",
     "output_type": "stream",
     "text": [
      "MoviePy - Writing audio in ./data/audio_label_clip/negative_73.wav\n",
      "MoviePy - Done.\n",
      "dd\n",
      "6.529634 7.313524 9\n",
      "MoviePy - Writing audio in ./data/audio_label_clip/background_48.wav\n",
      "MoviePy - Done.\n",
      "dd\n",
      "file name:19_es\n",
      "read new file\n",
      "      start       end  label\n",
      "0  0.179693  0.486486      0\n",
      "1  1.139518  1.777210     12\n",
      "2  1.812272  2.443389      9\n",
      "3  2.498174  3.010957      0\n",
      "0.17969300000000002 0.486486 0\n",
      "MoviePy - Writing audio in ./data/audio_label_clip/negative_74.wav\n",
      "MoviePy - Done.\n",
      "dd\n",
      "1.139518 1.77721 12\n"
     ]
    },
    {
     "name": "stderr",
     "output_type": "stream",
     "text": [
      "                                                       "
     ]
    },
    {
     "name": "stdout",
     "output_type": "stream",
     "text": [
      "MoviePy - Writing audio in ./data/audio_label_clip/sha_44.wav\n",
      "MoviePy - Done.\n",
      "dd\n",
      "1.812272 2.443389 9\n",
      "MoviePy - Writing audio in ./data/audio_label_clip/background_49.wav\n",
      "MoviePy - Done.\n",
      "dd\n",
      "2.498174 3.010957 0\n",
      "MoviePy - Writing audio in ./data/audio_label_clip/negative_75.wav\n",
      "MoviePy - Done.\n",
      "dd\n",
      "file name:31_es\n",
      "read new file\n",
      "      start       end  label\n",
      "0  0.000000  0.165084     11\n",
      "1  0.310446  0.480643      0\n",
      "2  0.505478  0.741417     11\n",
      "0.0 0.16508399999999998 11\n"
     ]
    },
    {
     "name": "stderr",
     "output_type": "stream",
     "text": [
      "                                                      "
     ]
    },
    {
     "name": "stdout",
     "output_type": "stream",
     "text": [
      "MoviePy - Writing audio in ./data/audio_label_clip/jon_11.wav\n",
      "MoviePy - Done.\n",
      "dd\n",
      "0.310446 0.480643 0\n",
      "MoviePy - Writing audio in ./data/audio_label_clip/negative_76.wav\n",
      "MoviePy - Done.\n",
      "dd\n",
      "0.505478 0.741417 11\n",
      "MoviePy - Writing audio in ./data/audio_label_clip/jon_12.wav\n",
      "MoviePy - Done.\n",
      "dd\n",
      "file name:1c-AdpVDMpM_0\n",
      "read new file\n",
      "       start        end  label\n",
      "0  19.398899  19.869394     10\n",
      "1  19.869394  20.629426     12\n",
      "2  27.071597  27.795437     12\n",
      "3  33.839496  34.780488      0\n",
      "4  34.744296  36.372935      0\n",
      "5  36.372935  39.413061      0\n",
      "19.398899 19.869394 10\n"
     ]
    },
    {
     "name": "stderr",
     "output_type": "stream",
     "text": [
      "chunk:   0%|          | 0/16 [00:00<?, ?it/s, now=None]"
     ]
    },
    {
     "name": "stdout",
     "output_type": "stream",
     "text": [
      "MoviePy - Writing audio in ./data/audio_label_clip/shi_22.wav\n",
      "MoviePy - Done.\n",
      "dd\n",
      "19.869394 20.629426000000002 12\n",
      "MoviePy - Writing audio in ./data/audio_label_clip/sha_45.wav\n",
      "MoviePy - Done.\n",
      "dd\n",
      "27.071596999999997 27.795437 12\n",
      "MoviePy - Writing audio in ./data/audio_label_clip/sha_46.wav\n"
     ]
    },
    {
     "name": "stderr",
     "output_type": "stream",
     "text": [
      "chunk:   0%|          | 0/36 [00:00<?, ?it/s, now=None]"
     ]
    },
    {
     "name": "stdout",
     "output_type": "stream",
     "text": [
      "MoviePy - Done.\n",
      "dd\n",
      "33.839496000000004 34.780488 0\n",
      "MoviePy - Writing audio in ./data/audio_label_clip/negative_77.wav\n",
      "MoviePy - Done.\n",
      "dd\n",
      "34.744296000000006 36.372935 0\n",
      "MoviePy - Writing audio in ./data/audio_label_clip/negative_78.wav\n"
     ]
    },
    {
     "name": "stderr",
     "output_type": "stream",
     "text": [
      "chunk:   0%|          | 0/27 [00:00<?, ?it/s, now=None]"
     ]
    },
    {
     "name": "stdout",
     "output_type": "stream",
     "text": [
      "MoviePy - Done.\n",
      "dd\n",
      "36.372935 39.413061 0\n",
      "MoviePy - Writing audio in ./data/audio_label_clip/negative_79.wav\n",
      "MoviePy - Done.\n",
      "dd\n",
      "file name:52_es\n",
      "read new file\n",
      "       start        end  label\n",
      "0   0.162162   1.378378    9.0\n",
      "1   1.513514   3.918919    0.0\n",
      "2  15.256757  15.574324   11.0\n",
      "3  16.081081  16.452703    9.0\n",
      "0.162162 1.378378 9.0\n",
      "MoviePy - Writing audio in ./data/audio_label_clip/background_50.wav\n"
     ]
    },
    {
     "name": "stderr",
     "output_type": "stream",
     "text": [
      "                                                       \r"
     ]
    },
    {
     "name": "stdout",
     "output_type": "stream",
     "text": [
      "MoviePy - Done.\n",
      "dd\n",
      "1.513514 3.918919 0.0\n",
      "MoviePy - Writing audio in ./data/audio_label_clip/negative_80.wav\n",
      "MoviePy - Done.\n",
      "dd\n",
      "15.256757 15.574323999999999 11.0\n",
      "MoviePy - Writing audio in ./data/audio_label_clip/jon_13.wav\n",
      "MoviePy - Done.\n",
      "dd\n",
      "16.081081 16.452703 9.0\n"
     ]
    },
    {
     "name": "stderr",
     "output_type": "stream",
     "text": [
      "                                                       "
     ]
    },
    {
     "name": "stdout",
     "output_type": "stream",
     "text": [
      "MoviePy - Writing audio in ./data/audio_label_clip/background_51.wav\n",
      "MoviePy - Done.\n",
      "dd\n",
      "file name:23_es\n",
      "read new file\n",
      "      start       end  label\n",
      "0  0.823959  1.652301     12\n",
      "1  1.652301  2.055515      9\n",
      "2  3.348430  4.378378     12\n",
      "3  5.684441  6.000000     12\n",
      "0.823959 1.6523009999999998 12\n",
      "MoviePy - Writing audio in ./data/audio_label_clip/sha_47.wav\n",
      "MoviePy - Done.\n",
      "dd\n",
      "1.6523009999999998 2.055515 9\n",
      "MoviePy - Writing audio in ./data/audio_label_clip/background_52.wav\n",
      "MoviePy - Done.\n",
      "dd\n",
      "3.3484300000000005 4.378378 12\n"
     ]
    },
    {
     "name": "stderr",
     "output_type": "stream",
     "text": [
      "                                                       "
     ]
    },
    {
     "name": "stdout",
     "output_type": "stream",
     "text": [
      "MoviePy - Writing audio in ./data/audio_label_clip/sha_48.wav\n",
      "MoviePy - Done.\n",
      "dd\n",
      "5.6844410000000005 6.0 12\n",
      "MoviePy - Writing audio in ./data/audio_label_clip/sha_49.wav\n",
      "MoviePy - Done.\n",
      "dd\n",
      "file name:40_es\n",
      "read new file\n",
      "      start       end  label\n",
      "0  1.058437  1.365230      1\n",
      "1  1.395909  1.799854      0\n",
      "2  1.835646  2.515705      9\n",
      "3  2.587290  2.771366      0\n",
      "4  4.688824  5.195033      0\n",
      "1.058437 1.36523 1\n",
      "MoviePy - Writing audio in ./data/audio_label_clip/./data/audio_label_clip/sha_49.wav.wav\n",
      "MoviePy - Done.\n",
      "dd\n",
      "1.395909 1.799854 0\n"
     ]
    },
    {
     "name": "stderr",
     "output_type": "stream",
     "text": [
      "                                                       "
     ]
    },
    {
     "name": "stdout",
     "output_type": "stream",
     "text": [
      "MoviePy - Writing audio in ./data/audio_label_clip/negative_81.wav\n",
      "MoviePy - Done.\n",
      "dd\n",
      "1.835646 2.515705 9\n",
      "MoviePy - Writing audio in ./data/audio_label_clip/background_53.wav\n",
      "MoviePy - Done.\n",
      "dd\n",
      "2.5872900000000003 2.771366 0\n",
      "MoviePy - Writing audio in ./data/audio_label_clip/negative_82.wav\n",
      "MoviePy - Done.\n",
      "dd\n",
      "4.6888239999999985 5.1950330000000005 0\n"
     ]
    },
    {
     "name": "stderr",
     "output_type": "stream",
     "text": [
      "                                                       "
     ]
    },
    {
     "name": "stdout",
     "output_type": "stream",
     "text": [
      "MoviePy - Writing audio in ./data/audio_label_clip/negative_83.wav\n",
      "MoviePy - Done.\n",
      "dd\n",
      "file name:15_jh\n",
      "read new file\n",
      "      start       end  label\n",
      "0  0.000000  0.901503      0\n",
      "1  0.922371  2.967446      9\n",
      "2  3.013356  4.970785      0\n",
      "0.0 0.901503 0\n",
      "MoviePy - Writing audio in ./data/audio_label_clip/negative_84.wav\n",
      "MoviePy - Done.\n",
      "dd\n",
      "0.9223709999999999 2.967446 9\n"
     ]
    },
    {
     "name": "stderr",
     "output_type": "stream",
     "text": [
      "                                                       \r"
     ]
    },
    {
     "name": "stdout",
     "output_type": "stream",
     "text": [
      "MoviePy - Writing audio in ./data/audio_label_clip/background_54.wav\n",
      "MoviePy - Done.\n",
      "dd\n",
      "3.013356 4.970785 0\n",
      "MoviePy - Writing audio in ./data/audio_label_clip/negative_85.wav\n",
      "MoviePy - Done.\n",
      "dd\n",
      "file name:19_jh\n",
      "read new file\n",
      "      start       end  label\n",
      "0  0.000000  2.362270      0\n",
      "1  2.562604  3.180301      9\n",
      "2  3.722871  4.000000     11\n",
      "0.0 2.36227 0\n"
     ]
    },
    {
     "name": "stderr",
     "output_type": "stream",
     "text": [
      "                                                       "
     ]
    },
    {
     "name": "stdout",
     "output_type": "stream",
     "text": [
      "MoviePy - Writing audio in ./data/audio_label_clip/negative_86.wav\n",
      "MoviePy - Done.\n",
      "dd\n",
      "2.562604 3.180301 9\n",
      "MoviePy - Writing audio in ./data/audio_label_clip/background_55.wav\n",
      "MoviePy - Done.\n",
      "dd\n",
      "3.722871 4.0 11\n",
      "MoviePy - Writing audio in ./data/audio_label_clip/jon_14.wav\n",
      "MoviePy - Done.\n",
      "dd\n",
      "file name:_6IQorW2b80_11\n",
      "read new file\n",
      "        start         end  label\n",
      "0    0.000000    3.368421      9\n",
      "1    3.368421    5.894737      0\n",
      "2    8.421053   36.631579      9\n",
      "3   36.631579   39.368421      0\n",
      "4   40.131579   54.657895      9\n",
      "5   54.671053   55.157895     10\n",
      "6   55.157895   56.756579      0\n",
      "7   59.917132   60.656147      0\n",
      "8   60.816354   62.077332      0\n",
      "9   62.077332   62.656141      0\n",
      "10  62.666477   65.250449      9\n",
      "11  65.250449   88.475185      9\n",
      "12  89.384743  100.216751      9\n",
      "0.0 3.368421 9\n"
     ]
    },
    {
     "name": "stderr",
     "output_type": "stream",
     "text": [
      "chunk:   0%|          | 0/623 [00:00<?, ?it/s, now=None]"
     ]
    },
    {
     "name": "stdout",
     "output_type": "stream",
     "text": [
      "MoviePy - Writing audio in ./data/audio_label_clip/background_56.wav\n",
      "MoviePy - Done.\n",
      "dd\n",
      "3.368421 5.894737 0\n",
      "MoviePy - Writing audio in ./data/audio_label_clip/negative_87.wav\n",
      "MoviePy - Done.\n",
      "dd\n",
      "8.421053 36.631578999999995 9\n",
      "MoviePy - Writing audio in ./data/audio_label_clip/background_57.wav\n"
     ]
    },
    {
     "name": "stderr",
     "output_type": "stream",
     "text": [
      "chunk:   0%|          | 0/321 [00:00<?, ?it/s, now=None]            "
     ]
    },
    {
     "name": "stdout",
     "output_type": "stream",
     "text": [
      "MoviePy - Done.\n",
      "dd\n",
      "36.631578999999995 39.368421000000005 0\n",
      "MoviePy - Writing audio in ./data/audio_label_clip/negative_88.wav\n",
      "MoviePy - Done.\n",
      "dd\n",
      "40.131578999999995 54.657894999999996 9\n",
      "MoviePy - Writing audio in ./data/audio_label_clip/background_58.wav\n"
     ]
    },
    {
     "name": "stderr",
     "output_type": "stream",
     "text": [
      "chunk:   0%|          | 0/36 [00:00<?, ?it/s, now=None]             "
     ]
    },
    {
     "name": "stdout",
     "output_type": "stream",
     "text": [
      "MoviePy - Done.\n",
      "dd\n",
      "54.671053 55.157894999999996 10\n",
      "MoviePy - Writing audio in ./data/audio_label_clip/shi_23.wav\n",
      "MoviePy - Done.\n",
      "dd\n",
      "55.157894999999996 56.756579 0\n",
      "MoviePy - Writing audio in ./data/audio_label_clip/negative_89.wav\n"
     ]
    },
    {
     "name": "stderr",
     "output_type": "stream",
     "text": [
      "chunk:   0%|          | 0/28 [00:00<?, ?it/s, now=None]"
     ]
    },
    {
     "name": "stdout",
     "output_type": "stream",
     "text": [
      "MoviePy - Done.\n",
      "dd\n",
      "59.917131999999995 60.656147 0\n",
      "MoviePy - Writing audio in ./data/audio_label_clip/negative_90.wav\n",
      "MoviePy - Done.\n",
      "dd\n",
      "60.816354000000004 62.077332 0\n",
      "MoviePy - Writing audio in ./data/audio_label_clip/negative_91.wav\n"
     ]
    },
    {
     "name": "stderr",
     "output_type": "stream",
     "text": [
      "chunk:   0%|          | 0/57 [00:00<?, ?it/s, now=None]"
     ]
    },
    {
     "name": "stdout",
     "output_type": "stream",
     "text": [
      "MoviePy - Done.\n",
      "dd\n",
      "62.077332 62.656141000000005 0\n",
      "MoviePy - Writing audio in ./data/audio_label_clip/negative_92.wav\n",
      "MoviePy - Done.\n",
      "dd\n",
      "62.666477 65.250449 9\n",
      "MoviePy - Writing audio in ./data/audio_label_clip/background_59.wav\n"
     ]
    },
    {
     "name": "stderr",
     "output_type": "stream",
     "text": [
      "chunk:  47%|████▋     | 239/513 [00:00<00:00, 2385.13it/s, now=None]"
     ]
    },
    {
     "name": "stdout",
     "output_type": "stream",
     "text": [
      "MoviePy - Done.\n",
      "dd\n",
      "65.250449 88.475185 9\n",
      "MoviePy - Writing audio in ./data/audio_label_clip/background_60.wav\n"
     ]
    },
    {
     "name": "stderr",
     "output_type": "stream",
     "text": [
      "                                                                    \r"
     ]
    },
    {
     "name": "stdout",
     "output_type": "stream",
     "text": [
      "MoviePy - Done.\n",
      "dd\n",
      "89.384743 100.216751 9\n",
      "MoviePy - Writing audio in ./data/audio_label_clip/background_61.wav\n",
      "MoviePy - Done.\n",
      "dd\n",
      "file name:31_jh\n",
      "read new file\n",
      "      start       end  label\n",
      "0  0.000000  0.247913      0\n",
      "1  0.503339  0.711185      0\n",
      "2  0.811352  1.114357     11\n",
      "3  1.174457  1.512521      0\n",
      "4  1.570117  3.000000      0\n",
      "0.0 0.24791300000000002 0\n"
     ]
    },
    {
     "name": "stderr",
     "output_type": "stream",
     "text": [
      "                                                      "
     ]
    },
    {
     "name": "stdout",
     "output_type": "stream",
     "text": [
      "MoviePy - Writing audio in ./data/audio_label_clip/negative_93.wav\n",
      "MoviePy - Done.\n",
      "dd\n",
      "0.503339 0.7111850000000001 0\n",
      "MoviePy - Writing audio in ./data/audio_label_clip/negative_94.wav\n",
      "MoviePy - Done.\n",
      "dd\n",
      "0.8113520000000001 1.114357 11\n",
      "MoviePy - Writing audio in ./data/audio_label_clip/jon_15.wav\n",
      "MoviePy - Done.\n",
      "dd\n",
      "1.1744569999999999 1.512521 0\n"
     ]
    },
    {
     "name": "stderr",
     "output_type": "stream",
     "text": [
      "                                                       "
     ]
    },
    {
     "name": "stdout",
     "output_type": "stream",
     "text": [
      "MoviePy - Writing audio in ./data/audio_label_clip/negative_95.wav\n",
      "MoviePy - Done.\n",
      "dd\n",
      "1.570117 3.0 0\n",
      "MoviePy - Writing audio in ./data/audio_label_clip/negative_96.wav\n",
      "MoviePy - Done.\n",
      "dd\n",
      "file name:_nZDvoRWsYg_70\n",
      "read new file\n",
      "       start        end  label\n",
      "0   9.946597  10.406275     12\n",
      "1  17.467742  18.132966      9\n",
      "2  18.222659  18.506688      0\n",
      "3  18.506688  18.895358      0\n",
      "9.946597 10.406275 12\n",
      "MoviePy - Writing audio in ./data/audio_label_clip/sha_50.wav\n"
     ]
    },
    {
     "name": "stderr",
     "output_type": "stream",
     "text": [
      "                                                       \r"
     ]
    },
    {
     "name": "stdout",
     "output_type": "stream",
     "text": [
      "MoviePy - Done.\n",
      "dd\n",
      "17.467742 18.132966 9\n",
      "MoviePy - Writing audio in ./data/audio_label_clip/background_62.wav\n",
      "MoviePy - Done.\n",
      "dd\n",
      "18.222659 18.506688 0\n",
      "MoviePy - Writing audio in ./data/audio_label_clip/negative_97.wav\n",
      "MoviePy - Done.\n",
      "dd\n",
      "18.506688 18.895357999999998 0\n"
     ]
    },
    {
     "name": "stderr",
     "output_type": "stream",
     "text": [
      "                                                       "
     ]
    },
    {
     "name": "stdout",
     "output_type": "stream",
     "text": [
      "MoviePy - Writing audio in ./data/audio_label_clip/negative_98.wav\n",
      "MoviePy - Done.\n",
      "dd\n",
      "file name:23_jh\n",
      "read new file\n",
      "      start       end  label\n",
      "0  0.000000  0.741235      0\n",
      "1  0.801336  1.222037      9\n",
      "2  1.368948  3.338898      0\n",
      "3  3.626043  6.363940      9\n",
      "4  6.444073  6.944908      0\n",
      "5  7.031720  7.352254     12\n",
      "0.0 0.7412350000000001 0\n",
      "MoviePy - Writing audio in ./data/audio_label_clip/negative_99.wav\n",
      "MoviePy - Done.\n",
      "dd\n",
      "0.8013359999999999 1.222037 9\n",
      "MoviePy - Writing audio in ./data/audio_label_clip/background_63.wav\n",
      "MoviePy - Done.\n",
      "dd\n",
      "1.368948 3.3388980000000004 0\n"
     ]
    },
    {
     "name": "stderr",
     "output_type": "stream",
     "text": [
      "                                                       "
     ]
    },
    {
     "name": "stdout",
     "output_type": "stream",
     "text": [
      "MoviePy - Writing audio in ./data/audio_label_clip/negative_100.wav\n",
      "MoviePy - Done.\n",
      "dd\n",
      "3.626043 6.36394 9\n",
      "MoviePy - Writing audio in ./data/audio_label_clip/background_64.wav\n",
      "MoviePy - Done.\n",
      "dd\n",
      "6.444073 6.944908 0\n",
      "MoviePy - Writing audio in ./data/audio_label_clip/negative_101.wav\n",
      "MoviePy - Done.\n",
      "dd\n",
      "7.03172 7.352253999999999 12\n"
     ]
    },
    {
     "name": "stderr",
     "output_type": "stream",
     "text": [
      "                                                       "
     ]
    },
    {
     "name": "stdout",
     "output_type": "stream",
     "text": [
      "MoviePy - Writing audio in ./data/audio_label_clip/sha_51.wav\n",
      "MoviePy - Done.\n",
      "dd\n",
      "file name:40_jh\n",
      "read new file\n",
      "      start       end  label\n",
      "0  0.000000  1.630616      0\n",
      "1  1.688852  2.113977     12\n",
      "2  2.253744  3.000000      0\n",
      "0.0 1.630616 0\n",
      "MoviePy - Writing audio in ./data/audio_label_clip/negative_102.wav\n",
      "MoviePy - Done.\n",
      "dd\n",
      "1.688852 2.113977 12\n",
      "MoviePy - Writing audio in ./data/audio_label_clip/sha_52.wav\n",
      "MoviePy - Done.\n",
      "dd\n",
      "2.2537439999999997 3.0 0\n"
     ]
    },
    {
     "name": "stderr",
     "output_type": "stream",
     "text": [
      "                                                       "
     ]
    },
    {
     "name": "stdout",
     "output_type": "stream",
     "text": [
      "MoviePy - Writing audio in ./data/audio_label_clip/negative_103.wav\n",
      "MoviePy - Done.\n",
      "dd\n",
      "file name:_nZDvoRWsYg_96\n",
      "read new file\n",
      "      start       end  label\n",
      "0  0.000000  0.398112      0\n",
      "1  0.398112  0.830842      0\n",
      "2  1.722266  2.942565      9\n",
      "3  4.413847  4.734068     12\n",
      "4  5.487018  6.196696      0\n",
      "5  8.412274  9.840283      9\n",
      "0.0 0.39811199999999997 0\n",
      "MoviePy - Writing audio in ./data/audio_label_clip/negative_104.wav\n",
      "MoviePy - Done.\n",
      "dd\n",
      "0.39811199999999997 0.830842 0\n",
      "MoviePy - Writing audio in ./data/audio_label_clip/negative_105.wav\n",
      "MoviePy - Done.\n",
      "dd\n",
      "1.722266 2.942565 9\n"
     ]
    },
    {
     "name": "stderr",
     "output_type": "stream",
     "text": [
      "                                                       "
     ]
    },
    {
     "name": "stdout",
     "output_type": "stream",
     "text": [
      "MoviePy - Writing audio in ./data/audio_label_clip/background_65.wav\n",
      "MoviePy - Done.\n",
      "dd\n",
      "4.4138470000000005 4.734068 12\n",
      "MoviePy - Writing audio in ./data/audio_label_clip/sha_53.wav\n",
      "MoviePy - Done.\n",
      "dd\n",
      "5.487018 6.196696 0\n",
      "MoviePy - Writing audio in ./data/audio_label_clip/negative_106.wav\n",
      "MoviePy - Done.\n",
      "dd\n",
      "8.412274 9.840283 9\n"
     ]
    },
    {
     "name": "stderr",
     "output_type": "stream",
     "text": [
      "chunk:   0%|          | 0/132 [00:00<?, ?it/s, now=None]"
     ]
    },
    {
     "name": "stdout",
     "output_type": "stream",
     "text": [
      "MoviePy - Writing audio in ./data/audio_label_clip/background_66.wav\n",
      "MoviePy - Done.\n",
      "dd\n",
      "file name:10_jh\n",
      "read new file\n",
      "      start       end  label\n",
      "0  0.712855  0.899833     12\n",
      "1  0.958264  6.935726      0\n",
      "0.712855 0.899833 12\n",
      "MoviePy - Writing audio in ./data/audio_label_clip/sha_54.wav\n",
      "MoviePy - Done.\n",
      "dd\n",
      "0.9582639999999999 6.935726 0\n",
      "MoviePy - Writing audio in ./data/audio_label_clip/negative_107.wav\n"
     ]
    },
    {
     "name": "stderr",
     "output_type": "stream",
     "text": [
      "                                                        \r"
     ]
    },
    {
     "name": "stdout",
     "output_type": "stream",
     "text": [
      "MoviePy - Done.\n",
      "dd\n",
      "file name:38_jh\n",
      "read new file\n",
      "      start       end  label\n",
      "0  0.000000  0.573359      0\n",
      "1  0.677606  0.886100     11\n",
      "2  3.318533  3.752896     11\n",
      "3  4.291506  5.490347      0\n",
      "4  5.698842  9.000000      9\n",
      "0.0 0.5733590000000001 0\n",
      "MoviePy - Writing audio in ./data/audio_label_clip/negative_108.wav\n",
      "MoviePy - Done.\n",
      "dd\n",
      "0.677606 0.8861 11\n",
      "MoviePy - Writing audio in ./data/audio_label_clip/jon_16.wav\n",
      "MoviePy - Done.\n",
      "dd\n",
      "3.318533 3.752896 11\n"
     ]
    },
    {
     "name": "stderr",
     "output_type": "stream",
     "text": [
      "                                                       "
     ]
    },
    {
     "name": "stdout",
     "output_type": "stream",
     "text": [
      "MoviePy - Writing audio in ./data/audio_label_clip/jon_17.wav\n",
      "MoviePy - Done.\n",
      "dd\n",
      "4.291506 5.490347 0\n",
      "MoviePy - Writing audio in ./data/audio_label_clip/negative_109.wav\n",
      "MoviePy - Done.\n",
      "dd\n",
      "5.698842 9.0 9\n",
      "MoviePy - Writing audio in ./data/audio_label_clip/background_67.wav\n",
      "MoviePy - Done.\n",
      "dd\n",
      "file name:26_jh\n",
      "read new file\n"
     ]
    },
    {
     "name": "stderr",
     "output_type": "stream",
     "text": [
      "                                                       \r"
     ]
    },
    {
     "name": "stdout",
     "output_type": "stream",
     "text": [
      "      start       end  label\n",
      "0  0.000000  0.886477      9\n",
      "1  0.911519  4.332220      0\n",
      "2  4.427379  5.534224      9\n",
      "3  5.639399  6.020033     10\n",
      "0.0 0.8864770000000001 9\n",
      "MoviePy - Writing audio in ./data/audio_label_clip/background_68.wav\n",
      "MoviePy - Done.\n",
      "dd\n",
      "0.9115190000000001 4.3322199999999995 0\n",
      "MoviePy - Writing audio in ./data/audio_label_clip/negative_110.wav\n",
      "MoviePy - Done.\n",
      "dd\n",
      "4.427379 5.534224 9\n"
     ]
    },
    {
     "name": "stderr",
     "output_type": "stream",
     "text": [
      "                                                       "
     ]
    },
    {
     "name": "stdout",
     "output_type": "stream",
     "text": [
      "MoviePy - Writing audio in ./data/audio_label_clip/background_69.wav\n",
      "MoviePy - Done.\n",
      "dd\n",
      "5.639399 6.020033 10\n",
      "MoviePy - Writing audio in ./data/audio_label_clip/shi_24.wav\n",
      "MoviePy - Done.\n",
      "dd\n",
      "file name:5_es\n",
      "read new file\n",
      "       start        end  label\n",
      "0   1.276844   1.568298   12.0\n",
      "1   1.785142   2.435543   10.0\n",
      "2   4.165331   5.604516    0.0\n",
      "3   6.628551   7.140568   11.0\n",
      "4   8.358339   8.994902    0.0\n",
      "5  10.018937  11.721049    9.0\n",
      "1.276844 1.568298 12.0\n",
      "MoviePy - Writing audio in ./data/audio_label_clip/sha_55.wav\n",
      "MoviePy - Done.\n",
      "dd\n",
      "1.7851419999999998 2.435543 10.0\n"
     ]
    },
    {
     "name": "stderr",
     "output_type": "stream",
     "text": [
      "                                                       "
     ]
    },
    {
     "name": "stdout",
     "output_type": "stream",
     "text": [
      "MoviePy - Writing audio in ./data/audio_label_clip/shi_25.wav\n",
      "MoviePy - Done.\n",
      "dd\n",
      "4.165331 5.604516 0.0\n",
      "MoviePy - Writing audio in ./data/audio_label_clip/negative_111.wav\n",
      "MoviePy - Done.\n",
      "dd\n",
      "6.628551 7.140567999999999 11.0\n",
      "MoviePy - Writing audio in ./data/audio_label_clip/jon_18.wav\n",
      "MoviePy - Done.\n",
      "dd\n",
      "8.358338999999999 8.994902 0.0\n"
     ]
    },
    {
     "name": "stderr",
     "output_type": "stream",
     "text": [
      "                                                       "
     ]
    },
    {
     "name": "stdout",
     "output_type": "stream",
     "text": [
      "MoviePy - Writing audio in ./data/audio_label_clip/negative_112.wav\n",
      "MoviePy - Done.\n",
      "dd\n",
      "10.018937 11.721049 9.0\n",
      "MoviePy - Writing audio in ./data/audio_label_clip/background_70.wav\n",
      "MoviePy - Done.\n",
      "dd\n",
      "file name:0H7M3FvRfRM_27\n",
      "read new file\n",
      "      start       end  label\n",
      "0  0.000000  0.283242      9\n",
      "1  0.443745  0.880409      0\n",
      "2  1.092840  1.428009      0\n",
      "3  1.555468  1.926042     12\n",
      "0.0 0.283242 9\n",
      "MoviePy - Writing audio in ./data/audio_label_clip/background_71.wav\n",
      "MoviePy - Done.\n",
      "dd\n",
      "0.443745 0.880409 0\n"
     ]
    },
    {
     "name": "stderr",
     "output_type": "stream",
     "text": [
      "                                                       "
     ]
    },
    {
     "name": "stdout",
     "output_type": "stream",
     "text": [
      "MoviePy - Writing audio in ./data/audio_label_clip/negative_113.wav\n",
      "MoviePy - Done.\n",
      "dd\n",
      "1.09284 1.428009 0\n",
      "MoviePy - Writing audio in ./data/audio_label_clip/negative_114.wav\n",
      "MoviePy - Done.\n",
      "dd\n",
      "1.555468 1.9260419999999998 12\n",
      "MoviePy - Writing audio in ./data/audio_label_clip/sha_56.wav\n",
      "MoviePy - Done.\n",
      "dd\n",
      "file name:9_es\n",
      "read new file\n",
      "      start       end  label\n",
      "0  0.548422  0.914037      0\n",
      "1  1.482046  2.193689      0\n",
      "2  3.669206  4.100109     12\n",
      "3  5.562568  5.895539     12\n",
      "0.5484220000000001 0.914037 0\n"
     ]
    },
    {
     "name": "stderr",
     "output_type": "stream",
     "text": [
      "                                                       "
     ]
    },
    {
     "name": "stdout",
     "output_type": "stream",
     "text": [
      "MoviePy - Writing audio in ./data/audio_label_clip/negative_115.wav\n",
      "MoviePy - Done.\n",
      "dd\n",
      "1.482046 2.193689 0\n",
      "MoviePy - Writing audio in ./data/audio_label_clip/negative_116.wav\n",
      "MoviePy - Done.\n",
      "dd\n",
      "3.669206 4.100109 12\n",
      "MoviePy - Writing audio in ./data/audio_label_clip/sha_57.wav\n",
      "MoviePy - Done.\n",
      "dd\n",
      "5.562568 5.895539 12\n"
     ]
    },
    {
     "name": "stderr",
     "output_type": "stream",
     "text": [
      "chunk:   0%|          | 0/268 [00:00<?, ?it/s, now=None]"
     ]
    },
    {
     "name": "stdout",
     "output_type": "stream",
     "text": [
      "MoviePy - Writing audio in ./data/audio_label_clip/sha_58.wav\n",
      "MoviePy - Done.\n",
      "dd\n",
      "file name:_wL69OdUSgA_12\n",
      "read new file\n",
      "       start        end  label\n",
      "0   8.988198  10.593234      0\n",
      "1  10.593234  22.711251      9\n",
      "2  29.011015  31.619197      0\n",
      "3  41.309599  41.600511     12\n",
      "4  45.121558  45.743509      0\n",
      "5  46.214988  46.957317      0\n",
      "6  47.107789  48.181157      0\n",
      "8.988197999999999 10.593233999999999 0\n",
      "MoviePy - Writing audio in ./data/audio_label_clip/negative_117.wav\n",
      "MoviePy - Done.\n",
      "dd\n",
      "10.593233999999999 22.711251 9\n",
      "MoviePy - Writing audio in ./data/audio_label_clip/background_72.wav\n"
     ]
    },
    {
     "name": "stderr",
     "output_type": "stream",
     "text": [
      "chunk:   0%|          | 0/7 [00:00<?, ?it/s, now=None]  "
     ]
    },
    {
     "name": "stdout",
     "output_type": "stream",
     "text": [
      "MoviePy - Done.\n",
      "dd\n",
      "29.011015000000004 31.619196999999996 0\n",
      "MoviePy - Writing audio in ./data/audio_label_clip/negative_118.wav\n",
      "MoviePy - Done.\n",
      "dd\n",
      "41.309599 41.600511 12\n",
      "MoviePy - Writing audio in ./data/audio_label_clip/sha_59.wav\n"
     ]
    },
    {
     "name": "stderr",
     "output_type": "stream",
     "text": [
      "chunk:   0%|          | 0/17 [00:00<?, ?it/s, now=None]"
     ]
    },
    {
     "name": "stdout",
     "output_type": "stream",
     "text": [
      "MoviePy - Done.\n",
      "dd\n",
      "45.121558 45.743509 0\n",
      "MoviePy - Writing audio in ./data/audio_label_clip/negative_119.wav\n",
      "MoviePy - Done.\n",
      "dd\n",
      "46.214988 46.957316999999996 0\n",
      "MoviePy - Writing audio in ./data/audio_label_clip/negative_120.wav\n"
     ]
    },
    {
     "name": "stderr",
     "output_type": "stream",
     "text": [
      "                                                       "
     ]
    },
    {
     "name": "stdout",
     "output_type": "stream",
     "text": [
      "MoviePy - Done.\n",
      "dd\n",
      "47.107789000000004 48.181157 0\n",
      "MoviePy - Writing audio in ./data/audio_label_clip/negative_121.wav\n",
      "MoviePy - Done.\n",
      "dd\n",
      "file name:_nZDvoRWsYg_56\n",
      "read new file\n",
      "      start        end  label\n",
      "0  0.603462   1.278521     12\n",
      "1  7.221086   7.845004      0\n",
      "2  7.845004   8.100708      0\n",
      "3  8.100708   8.560976      0\n",
      "4  8.560976   8.918961      0\n",
      "5  9.788356  11.793076      9\n",
      "0.6034619999999999 1.278521 12\n",
      "MoviePy - Writing audio in ./data/audio_label_clip/sha_60.wav\n"
     ]
    },
    {
     "name": "stderr",
     "output_type": "stream",
     "text": [
      "                                                       \r"
     ]
    },
    {
     "name": "stdout",
     "output_type": "stream",
     "text": [
      "MoviePy - Done.\n",
      "dd\n",
      "7.221086 7.845003999999999 0\n",
      "MoviePy - Writing audio in ./data/audio_label_clip/negative_122.wav\n",
      "MoviePy - Done.\n",
      "dd\n",
      "7.845003999999999 8.100708000000001 0\n",
      "MoviePy - Writing audio in ./data/audio_label_clip/negative_123.wav\n",
      "MoviePy - Done.\n",
      "dd\n",
      "8.100708000000001 8.560976 0\n"
     ]
    },
    {
     "name": "stderr",
     "output_type": "stream",
     "text": [
      "                                                       "
     ]
    },
    {
     "name": "stdout",
     "output_type": "stream",
     "text": [
      "MoviePy - Writing audio in ./data/audio_label_clip/negative_124.wav\n",
      "MoviePy - Done.\n",
      "dd\n",
      "8.560976 8.918961 0\n",
      "MoviePy - Writing audio in ./data/audio_label_clip/negative_125.wav\n",
      "MoviePy - Done.\n",
      "dd\n",
      "9.788356 11.793076 9\n",
      "MoviePy - Writing audio in ./data/audio_label_clip/background_73.wav\n",
      "MoviePy - Done.\n",
      "dd\n",
      "file name:10_es\n",
      "read new file\n",
      "      start       end  label\n",
      "0  0.807825  1.097814     10\n",
      "1  1.097814  1.618557      0\n",
      "2  5.134021  5.443299      0\n",
      "3  6.886598  7.505155      9\n",
      "0.807825 1.0978139999999998 10\n"
     ]
    },
    {
     "name": "stderr",
     "output_type": "stream",
     "text": [
      "                                                       "
     ]
    },
    {
     "name": "stdout",
     "output_type": "stream",
     "text": [
      "MoviePy - Writing audio in ./data/audio_label_clip/shi_26.wav\n",
      "MoviePy - Done.\n",
      "dd\n",
      "1.0978139999999998 1.618557 0\n",
      "MoviePy - Writing audio in ./data/audio_label_clip/negative_126.wav\n",
      "MoviePy - Done.\n",
      "dd\n",
      "5.134021 5.443299 0\n",
      "MoviePy - Writing audio in ./data/audio_label_clip/negative_127.wav\n",
      "MoviePy - Done.\n",
      "dd\n",
      "6.886597999999998 7.505155 9\n"
     ]
    },
    {
     "name": "stderr",
     "output_type": "stream",
     "text": [
      "                                                       "
     ]
    },
    {
     "name": "stdout",
     "output_type": "stream",
     "text": [
      "MoviePy - Writing audio in ./data/audio_label_clip/background_74.wav\n",
      "MoviePy - Done.\n",
      "dd\n",
      "file name:_6IQorW2b80_36\n",
      "read new file\n",
      "       start        end  label\n",
      "0   0.679632   0.897817     11\n",
      "1   0.900325   1.421961      0\n",
      "2   1.926042   8.714841      9\n",
      "3  21.507474  39.965382      9\n",
      "4  50.237608  52.645161      0\n",
      "5  54.731707  87.955940      9\n",
      "6  94.697089  96.302124      0\n",
      "0.679632 0.897817 11\n",
      "MoviePy - Writing audio in ./data/audio_label_clip/jon_19.wav\n",
      "MoviePy - Done.\n",
      "dd\n",
      "0.900325 1.421961 0\n",
      "MoviePy - Writing audio in ./data/audio_label_clip/negative_128.wav\n",
      "MoviePy - Done.\n",
      "dd\n",
      "1.9260419999999998 8.714841 9\n"
     ]
    },
    {
     "name": "stderr",
     "output_type": "stream",
     "text": [
      "chunk:   0%|          | 0/407 [00:00<?, ?it/s, now=None]"
     ]
    },
    {
     "name": "stdout",
     "output_type": "stream",
     "text": [
      "MoviePy - Writing audio in ./data/audio_label_clip/background_75.wav\n",
      "MoviePy - Done.\n",
      "dd\n",
      "21.507474 39.965382 9\n",
      "MoviePy - Writing audio in ./data/audio_label_clip/background_76.wav\n"
     ]
    },
    {
     "name": "stderr",
     "output_type": "stream",
     "text": [
      "chunk:   0%|          | 0/733 [00:00<?, ?it/s, now=None]            "
     ]
    },
    {
     "name": "stdout",
     "output_type": "stream",
     "text": [
      "MoviePy - Done.\n",
      "dd\n",
      "50.237608 52.645161 0\n",
      "MoviePy - Writing audio in ./data/audio_label_clip/negative_129.wav\n",
      "MoviePy - Done.\n",
      "dd\n",
      "54.73170699999999 87.95594 9\n",
      "MoviePy - Writing audio in ./data/audio_label_clip/background_77.wav\n"
     ]
    },
    {
     "name": "stderr",
     "output_type": "stream",
     "text": [
      "                                                                    "
     ]
    },
    {
     "name": "stdout",
     "output_type": "stream",
     "text": [
      "MoviePy - Done.\n",
      "dd\n",
      "94.697089 96.30212399999999 0\n",
      "MoviePy - Writing audio in ./data/audio_label_clip/negative_130.wav\n",
      "MoviePy - Done.\n",
      "dd\n",
      "file name:38_es\n",
      "read new file\n",
      "       start        end  label\n",
      "0   1.084003   1.718042   12.0\n",
      "1   5.522279   5.788167   12.0\n",
      "2  13.171658  14.991965    9.0\n",
      "3  15.462381  16.075968    0.0\n",
      "4  20.064280  21.495982    0.0\n",
      "1.084003 1.7180419999999998 12.0\n",
      "MoviePy - Writing audio in ./data/audio_label_clip/sha_61.wav\n"
     ]
    },
    {
     "name": "stderr",
     "output_type": "stream",
     "text": [
      "                                                       \r"
     ]
    },
    {
     "name": "stdout",
     "output_type": "stream",
     "text": [
      "MoviePy - Done.\n",
      "dd\n",
      "5.522279 5.788167 12.0\n",
      "MoviePy - Writing audio in ./data/audio_label_clip/sha_62.wav\n",
      "MoviePy - Done.\n",
      "dd\n",
      "13.171657999999999 14.991964999999999 9.0\n",
      "MoviePy - Writing audio in ./data/audio_label_clip/background_78.wav\n",
      "MoviePy - Done.\n",
      "dd\n",
      "15.462381 16.075968 0.0\n"
     ]
    },
    {
     "name": "stderr",
     "output_type": "stream",
     "text": [
      "                                                       \r"
     ]
    },
    {
     "name": "stdout",
     "output_type": "stream",
     "text": [
      "MoviePy - Writing audio in ./data/audio_label_clip/negative_131.wav\n",
      "MoviePy - Done.\n",
      "dd\n",
      "20.06428 21.495982 0.0\n"
     ]
    },
    {
     "name": "stderr",
     "output_type": "stream",
     "text": [
      "chunk:   0%|          | 0/143 [00:00<?, ?it/s, now=None]"
     ]
    },
    {
     "name": "stdout",
     "output_type": "stream",
     "text": [
      "MoviePy - Writing audio in ./data/audio_label_clip/negative_132.wav\n",
      "MoviePy - Done.\n",
      "dd\n",
      "file name:45_es\n",
      "read new file\n",
      "       start        end  label\n",
      "0   3.576333  10.058437    0.0\n",
      "1  14.044558  15.981738    0.0\n",
      "3.576333 10.058437 0.0\n",
      "MoviePy - Writing audio in ./data/audio_label_clip/negative_133.wav\n"
     ]
    },
    {
     "name": "stderr",
     "output_type": "stream",
     "text": [
      "                                                        \r"
     ]
    },
    {
     "name": "stdout",
     "output_type": "stream",
     "text": [
      "MoviePy - Done.\n",
      "dd\n",
      "14.044557999999999 15.981738 0.0\n",
      "MoviePy - Writing audio in ./data/audio_label_clip/negative_134.wav\n",
      "MoviePy - Done.\n",
      "dd\n",
      "file name:26_es\n",
      "read new file\n",
      "       start        end  label\n",
      "0   0.227904   0.674215   12.0\n",
      "1   1.050983   1.751639    9.0\n",
      "2   3.010925   3.380189   12.0\n",
      "3   4.478514   5.917698    9.0\n",
      "4   6.002913   6.457393    0.0\n",
      "5   7.319009   7.801894    0.0\n",
      "6  11.617626  12.299345    9.0\n",
      "0.227904 0.674215 12.0\n",
      "MoviePy - Writing audio in ./data/audio_label_clip/sha_63.wav\n",
      "MoviePy - Done.\n",
      "dd\n",
      "1.050983 1.751639 9.0\n"
     ]
    },
    {
     "name": "stderr",
     "output_type": "stream",
     "text": [
      "                                                       "
     ]
    },
    {
     "name": "stdout",
     "output_type": "stream",
     "text": [
      "MoviePy - Writing audio in ./data/audio_label_clip/background_79.wav\n",
      "MoviePy - Done.\n",
      "dd\n",
      "3.010925 3.380189 12.0\n",
      "MoviePy - Writing audio in ./data/audio_label_clip/sha_64.wav\n",
      "MoviePy - Done.\n",
      "dd\n",
      "4.478514 5.9176980000000015 9.0\n",
      "MoviePy - Writing audio in ./data/audio_label_clip/background_80.wav\n",
      "MoviePy - Done.\n",
      "dd\n",
      "6.0029129999999995 6.457393 0.0\n"
     ]
    },
    {
     "name": "stderr",
     "output_type": "stream",
     "text": [
      "                                                       "
     ]
    },
    {
     "name": "stdout",
     "output_type": "stream",
     "text": [
      "MoviePy - Writing audio in ./data/audio_label_clip/negative_135.wav\n",
      "MoviePy - Done.\n",
      "dd\n",
      "7.319008999999999 7.801894 0.0\n",
      "MoviePy - Writing audio in ./data/audio_label_clip/negative_136.wav\n",
      "MoviePy - Done.\n",
      "dd\n",
      "11.617626 12.299344999999999 9.0\n",
      "MoviePy - Writing audio in ./data/audio_label_clip/background_81.wav\n",
      "MoviePy - Done.\n",
      "dd\n",
      "file name:5_jh\n",
      "read new file\n",
      "      start       end  label\n",
      "0  0.000000  1.512521      0\n",
      "1  1.662771  2.333890     12\n",
      "2  4.858097  7.402337      0\n",
      "3  8.343907  8.774624     10\n",
      "0.0 1.512521 0\n"
     ]
    },
    {
     "name": "stderr",
     "output_type": "stream",
     "text": [
      "                                                       "
     ]
    },
    {
     "name": "stdout",
     "output_type": "stream",
     "text": [
      "MoviePy - Writing audio in ./data/audio_label_clip/negative_137.wav\n",
      "MoviePy - Done.\n",
      "dd\n",
      "1.662771 2.3338900000000002 12\n",
      "MoviePy - Writing audio in ./data/audio_label_clip/sha_65.wav\n",
      "MoviePy - Done.\n",
      "dd\n",
      "4.858097 7.402336999999999 0\n",
      "MoviePy - Writing audio in ./data/audio_label_clip/negative_138.wav\n",
      "MoviePy - Done.\n",
      "dd\n",
      "8.343907000000002 8.774624000000001 10\n"
     ]
    },
    {
     "name": "stderr",
     "output_type": "stream",
     "text": [
      "                                                       "
     ]
    },
    {
     "name": "stdout",
     "output_type": "stream",
     "text": [
      "MoviePy - Writing audio in ./data/audio_label_clip/shi_27.wav\n",
      "MoviePy - Done.\n",
      "dd\n",
      "file name:9_jh\n",
      "read new file\n",
      "      start       end  label\n",
      "0  0.720466  0.966722     12\n",
      "1  1.006656  2.000000      0\n",
      "0.7204659999999999 0.966722 12\n",
      "MoviePy - Writing audio in ./data/audio_label_clip/sha_66.wav\n",
      "MoviePy - Done.\n",
      "dd\n",
      "1.006656 2.0 0\n",
      "MoviePy - Writing audio in ./data/audio_label_clip/negative_139.wav\n",
      "MoviePy - Done.\n",
      "dd\n",
      "file name:_Xdb7jekZw0_8\n",
      "read new file\n",
      "     start       end  label\n",
      "0  6.18096  7.924469      9\n",
      "6.18096 7.924469 9\n"
     ]
    },
    {
     "name": "stderr",
     "output_type": "stream",
     "text": [
      "                                                       "
     ]
    },
    {
     "name": "stdout",
     "output_type": "stream",
     "text": [
      "MoviePy - Writing audio in ./data/audio_label_clip/background_82.wav\n",
      "MoviePy - Done.\n",
      "dd\n",
      "file name:34_es\n",
      "read new file\n",
      "       start        end  label\n",
      "0   0.775749   1.367421   13.0\n",
      "1   2.813733   3.168736    0.0\n",
      "2   3.116143   3.813002   13.0\n",
      "3   5.022644   5.680058    0.0\n",
      "4  11.465303  13.831994    9.0\n",
      "5  26.559533  30.346238    0.0\n",
      "0.775749 1.367421 13.0\n",
      "MoviePy - Writing audio in ./data/audio_label_clip/byoung_4.wav\n",
      "MoviePy - Done.\n",
      "dd\n",
      "2.813733 3.168736 0.0\n",
      "MoviePy - Writing audio in ./data/audio_label_clip/negative_140.wav\n"
     ]
    },
    {
     "name": "stderr",
     "output_type": "stream",
     "text": [
      "                                                       \r"
     ]
    },
    {
     "name": "stdout",
     "output_type": "stream",
     "text": [
      "MoviePy - Done.\n",
      "dd\n",
      "3.116143 3.813002 13.0\n",
      "MoviePy - Writing audio in ./data/audio_label_clip/byoung_5.wav\n",
      "MoviePy - Done.\n",
      "dd\n",
      "5.0226440000000006 5.680058 0.0\n",
      "MoviePy - Writing audio in ./data/audio_label_clip/negative_141.wav\n",
      "MoviePy - Done.\n",
      "dd\n",
      "11.465303 13.831994 9.0\n"
     ]
    },
    {
     "name": "stderr",
     "output_type": "stream",
     "text": [
      "                                                       "
     ]
    },
    {
     "name": "stdout",
     "output_type": "stream",
     "text": [
      "MoviePy - Writing audio in ./data/audio_label_clip/background_83.wav\n",
      "MoviePy - Done.\n",
      "dd\n",
      "26.559533000000002 30.346238 0.0\n",
      "MoviePy - Writing audio in ./data/audio_label_clip/negative_142.wav\n",
      "MoviePy - Done.\n",
      "dd\n",
      "file name:49_es\n",
      "read new file\n",
      "       start        end  label\n",
      "0   1.623083   2.956903    0.0\n",
      "1   7.153214   7.420380   12.0\n",
      "2  10.630387  11.000000    0.0\n",
      "1.623083 2.956903 0.0\n"
     ]
    },
    {
     "name": "stderr",
     "output_type": "stream",
     "text": [
      "                                                       "
     ]
    },
    {
     "name": "stdout",
     "output_type": "stream",
     "text": [
      "MoviePy - Writing audio in ./data/audio_label_clip/negative_143.wav\n",
      "MoviePy - Done.\n",
      "dd\n",
      "7.153214 7.4203800000000015 12.0\n",
      "MoviePy - Writing audio in ./data/audio_label_clip/sha_67.wav\n",
      "MoviePy - Done.\n",
      "dd\n",
      "10.630386999999999 11.0 0.0\n",
      "MoviePy - Writing audio in ./data/audio_label_clip/negative_144.wav\n",
      "MoviePy - Done.\n",
      "dd\n",
      "file name:12_es\n",
      "read new file\n",
      "      start       end  label\n",
      "0  3.730867  4.221939      0\n",
      "1  7.270408  7.531888     12\n",
      "2  9.304847  9.725765      0\n",
      "3.730867 4.221939 0\n"
     ]
    },
    {
     "name": "stderr",
     "output_type": "stream",
     "text": [
      "                                                       "
     ]
    },
    {
     "name": "stdout",
     "output_type": "stream",
     "text": [
      "MoviePy - Writing audio in ./data/audio_label_clip/negative_145.wav\n",
      "MoviePy - Done.\n",
      "dd\n",
      "7.270408 7.531888 12\n",
      "MoviePy - Writing audio in ./data/audio_label_clip/sha_68.wav\n",
      "MoviePy - Done.\n",
      "dd\n",
      "9.304847 9.725765 0\n",
      "MoviePy - Writing audio in ./data/audio_label_clip/negative_146.wav\n",
      "MoviePy - Done.\n",
      "dd\n",
      "file name:_nZDvoRWsYg_47\n",
      "read new file\n",
      "      start       end  label\n",
      "0  0.885130  1.140834     12\n",
      "1  1.140834  1.612903      0\n",
      "2  1.652242  2.033832      9\n",
      "3  3.469709  3.721479      0\n",
      "4  3.764752  4.228954      0\n",
      "5  4.307632  4.964595      9\n",
      "0.88513 1.140834 12\n"
     ]
    },
    {
     "name": "stderr",
     "output_type": "stream",
     "text": [
      "                                                       "
     ]
    },
    {
     "name": "stdout",
     "output_type": "stream",
     "text": [
      "MoviePy - Writing audio in ./data/audio_label_clip/sha_69.wav\n",
      "MoviePy - Done.\n",
      "dd\n",
      "1.140834 1.612903 0\n",
      "MoviePy - Writing audio in ./data/audio_label_clip/negative_147.wav\n",
      "MoviePy - Done.\n",
      "dd\n",
      "1.6522419999999998 2.033832 9\n",
      "MoviePy - Writing audio in ./data/audio_label_clip/background_84.wav\n",
      "MoviePy - Done.\n",
      "dd\n",
      "3.4697089999999995 3.721479 0\n"
     ]
    },
    {
     "name": "stderr",
     "output_type": "stream",
     "text": [
      "                                                       "
     ]
    },
    {
     "name": "stdout",
     "output_type": "stream",
     "text": [
      "MoviePy - Writing audio in ./data/audio_label_clip/negative_148.wav\n",
      "MoviePy - Done.\n",
      "dd\n",
      "3.7647519999999997 4.228954 0\n",
      "MoviePy - Writing audio in ./data/audio_label_clip/negative_149.wav\n",
      "MoviePy - Done.\n",
      "dd\n",
      "4.307632 4.964595 9\n",
      "MoviePy - Writing audio in ./data/audio_label_clip/background_85.wav\n",
      "MoviePy - Done.\n",
      "dd\n",
      "file name:_6IQorW2b80_32\n",
      "read new file\n",
      "       start        end  label\n",
      "0   0.152159   0.338131      0\n",
      "1   0.338131   1.115834      0\n",
      "2   1.115834   1.724471      0\n",
      "3   1.722438   1.953307     11\n",
      "4  20.627756  28.555123      9\n",
      "0.152159 0.338131 0\n"
     ]
    },
    {
     "name": "stderr",
     "output_type": "stream",
     "text": [
      "                                                       "
     ]
    },
    {
     "name": "stdout",
     "output_type": "stream",
     "text": [
      "MoviePy - Writing audio in ./data/audio_label_clip/negative_150.wav\n",
      "MoviePy - Done.\n",
      "dd\n",
      "0.338131 1.115834 0\n",
      "MoviePy - Writing audio in ./data/audio_label_clip/negative_151.wav\n",
      "MoviePy - Done.\n",
      "dd\n",
      "1.115834 1.7244709999999999 0\n",
      "MoviePy - Writing audio in ./data/audio_label_clip/negative_152.wav\n",
      "MoviePy - Done.\n",
      "dd\n",
      "1.7224380000000001 1.953307 11\n"
     ]
    },
    {
     "name": "stderr",
     "output_type": "stream",
     "text": [
      "                                                        "
     ]
    },
    {
     "name": "stdout",
     "output_type": "stream",
     "text": [
      "MoviePy - Writing audio in ./data/audio_label_clip/jon_20.wav\n",
      "MoviePy - Done.\n",
      "dd\n",
      "20.627756 28.555123 9\n",
      "MoviePy - Writing audio in ./data/audio_label_clip/background_86.wav\n",
      "MoviePy - Done.\n",
      "dd\n",
      "file name:36_es\n",
      "read new file\n",
      "      start        end  label\n",
      "0  0.538349   1.317750    0.0\n",
      "1  1.566837   1.815924   12.0\n",
      "2  9.368882  10.590212    0.0\n",
      "0.538349 1.31775 0.0\n"
     ]
    },
    {
     "name": "stderr",
     "output_type": "stream",
     "text": [
      "                                                       "
     ]
    },
    {
     "name": "stdout",
     "output_type": "stream",
     "text": [
      "MoviePy - Writing audio in ./data/audio_label_clip/negative_153.wav\n",
      "MoviePy - Done.\n",
      "dd\n",
      "1.566837 1.815924 12.0\n",
      "MoviePy - Writing audio in ./data/audio_label_clip/sha_70.wav\n",
      "MoviePy - Done.\n",
      "dd\n",
      "9.368882 10.590212 0.0\n",
      "MoviePy - Writing audio in ./data/audio_label_clip/negative_154.wav\n",
      "MoviePy - Done.\n",
      "dd\n",
      "file name:28_es\n",
      "read new file\n",
      "      start       end  label\n",
      "0  2.286340  2.636961      0\n",
      "1  2.965668  4.039445      9\n",
      "2  4.755296  5.390796     12\n",
      "3  5.967860  6.347699     12\n",
      "4  7.830533  8.385683     12\n",
      "5  9.561724  9.963477     12\n",
      "2.28634 2.636961 0\n"
     ]
    },
    {
     "name": "stderr",
     "output_type": "stream",
     "text": [
      "                                                       "
     ]
    },
    {
     "name": "stdout",
     "output_type": "stream",
     "text": [
      "MoviePy - Writing audio in ./data/audio_label_clip/negative_155.wav\n",
      "MoviePy - Done.\n",
      "dd\n",
      "2.965668 4.039445 9\n",
      "MoviePy - Writing audio in ./data/audio_label_clip/background_87.wav\n",
      "MoviePy - Done.\n",
      "dd\n",
      "4.755296 5.390796 12\n",
      "MoviePy - Writing audio in ./data/audio_label_clip/sha_71.wav\n",
      "MoviePy - Done.\n",
      "dd\n",
      "5.96786 6.347699 12\n"
     ]
    },
    {
     "name": "stderr",
     "output_type": "stream",
     "text": [
      "                                                       "
     ]
    },
    {
     "name": "stdout",
     "output_type": "stream",
     "text": [
      "MoviePy - Writing audio in ./data/audio_label_clip/sha_72.wav\n",
      "MoviePy - Done.\n",
      "dd\n",
      "7.830533 8.385683 12\n",
      "MoviePy - Writing audio in ./data/audio_label_clip/sha_73.wav\n",
      "MoviePy - Done.\n",
      "dd\n",
      "9.561724 9.963477 12\n",
      "MoviePy - Writing audio in ./data/audio_label_clip/sha_74.wav\n",
      "MoviePy - Done.\n",
      "dd\n",
      "file name:_nZDvoRWsYg_85\n",
      "read new file\n",
      "      start       end  label\n",
      "0  0.133753  0.479937      0\n",
      "1  0.479937  1.290323      0\n",
      "2  1.628639  3.870968      9\n",
      "3  4.405980  4.956727     11\n",
      "4  5.830055  7.309205      9\n",
      "5  8.308419  8.686074     12\n",
      "0.133753 0.479937 0\n"
     ]
    },
    {
     "name": "stderr",
     "output_type": "stream",
     "text": [
      "                                                       "
     ]
    },
    {
     "name": "stdout",
     "output_type": "stream",
     "text": [
      "MoviePy - Writing audio in ./data/audio_label_clip/negative_156.wav\n",
      "MoviePy - Done.\n",
      "dd\n",
      "0.479937 1.2903229999999999 0\n",
      "MoviePy - Writing audio in ./data/audio_label_clip/negative_157.wav\n",
      "MoviePy - Done.\n",
      "dd\n",
      "1.628639 3.870968 9\n",
      "MoviePy - Writing audio in ./data/audio_label_clip/background_88.wav\n",
      "MoviePy - Done.\n",
      "dd\n",
      "4.4059800000000005 4.956727 11\n"
     ]
    },
    {
     "name": "stderr",
     "output_type": "stream",
     "text": [
      "                                                       "
     ]
    },
    {
     "name": "stdout",
     "output_type": "stream",
     "text": [
      "MoviePy - Writing audio in ./data/audio_label_clip/jon_21.wav\n",
      "MoviePy - Done.\n",
      "dd\n",
      "5.830055000000001 7.309205 9\n",
      "MoviePy - Writing audio in ./data/audio_label_clip/background_89.wav\n",
      "MoviePy - Done.\n",
      "dd\n",
      "8.308419 8.686074000000001 12\n",
      "MoviePy - Writing audio in ./data/audio_label_clip/sha_75.wav\n"
     ]
    },
    {
     "name": "stderr",
     "output_type": "stream",
     "text": [
      "                                                        \r"
     ]
    },
    {
     "name": "stdout",
     "output_type": "stream",
     "text": [
      "MoviePy - Done.\n",
      "dd\n",
      "file name:7_jh\n",
      "read new file\n",
      "      start       end  label\n",
      "0  0.718698  0.940735     11\n",
      "1  1.045910  7.000000      0\n",
      "0.718698 0.940735 11\n",
      "MoviePy - Writing audio in ./data/audio_label_clip/jon_22.wav\n",
      "MoviePy - Done.\n",
      "dd\n",
      "1.0459100000000001 7.0 0\n",
      "MoviePy - Writing audio in ./data/audio_label_clip/negative_158.wav\n",
      "MoviePy - Done.\n",
      "dd\n",
      "file name:24_es\n",
      "read new file\n",
      "      start       end  label\n",
      "0  1.092038  1.442659      9\n",
      "1  3.816654  4.298758     12"
     ]
    },
    {
     "name": "stderr",
     "output_type": "stream",
     "text": [
      "                                                       \r"
     ]
    },
    {
     "name": "stdout",
     "output_type": "stream",
     "text": [
      "\n",
      "1.0920379999999998 1.442659 9\n",
      "MoviePy - Writing audio in ./data/audio_label_clip/background_90.wav\n",
      "MoviePy - Done.\n",
      "dd\n",
      "3.816654 4.298758 12\n",
      "MoviePy - Writing audio in ./data/audio_label_clip/sha_76.wav\n",
      "MoviePy - Done.\n",
      "dd\n",
      "file name:_wL69OdUSgA_28\n",
      "read new file\n",
      "       start        end  label\n",
      "0   0.000000   5.243116      9\n",
      "1   9.770653  11.241935      9\n",
      "2  11.586349  11.927419     11\n",
      "3  11.927419  12.462431      0\n",
      "4  12.462431  13.067663      0\n",
      "5  15.936664  16.485051      0\n",
      "0.0 5.2431160000000006 9\n"
     ]
    },
    {
     "name": "stderr",
     "output_type": "stream",
     "text": [
      "chunk:   0%|          | 0/8 [00:00<?, ?it/s, now=None]  "
     ]
    },
    {
     "name": "stdout",
     "output_type": "stream",
     "text": [
      "MoviePy - Writing audio in ./data/audio_label_clip/background_91.wav\n",
      "MoviePy - Done.\n",
      "dd\n",
      "9.770653 11.241935 9\n",
      "MoviePy - Writing audio in ./data/audio_label_clip/background_92.wav\n",
      "MoviePy - Done.\n",
      "dd\n",
      "11.586349 11.927419 11\n",
      "MoviePy - Writing audio in ./data/audio_label_clip/jon_23.wav\n"
     ]
    },
    {
     "name": "stderr",
     "output_type": "stream",
     "text": [
      "                                                       \r"
     ]
    },
    {
     "name": "stdout",
     "output_type": "stream",
     "text": [
      "MoviePy - Done.\n",
      "dd\n",
      "11.927419 12.462431 0\n",
      "MoviePy - Writing audio in ./data/audio_label_clip/negative_159.wav\n",
      "MoviePy - Done.\n",
      "dd\n",
      "12.462431 13.067663 0\n",
      "MoviePy - Writing audio in ./data/audio_label_clip/negative_160.wav\n",
      "MoviePy - Done.\n",
      "dd\n",
      "15.936664000000002 16.485051000000002 0\n"
     ]
    },
    {
     "name": "stderr",
     "output_type": "stream",
     "text": [
      "chunk:   0%|          | 0/13 [00:00<?, ?it/s, now=None]"
     ]
    },
    {
     "name": "stdout",
     "output_type": "stream",
     "text": [
      "MoviePy - Writing audio in ./data/audio_label_clip/negative_161.wav\n",
      "MoviePy - Done.\n",
      "dd\n",
      "file name:_kfXW1JXUhA_11\n",
      "read new file\n",
      "         start         end  label\n",
      "0     4.727577    5.157356   12.0\n",
      "1     5.157356    5.745476    0.0\n",
      "2     5.926436    8.867034    9.0\n",
      "3    18.932927   19.317467   12.0\n",
      "4    19.294847   20.131786    0.0\n",
      "5    20.131786   21.059205    9.0\n",
      "6    25.198662   25.537962   12.0\n",
      "7    34.382376   34.993116    0.0\n",
      "8    34.993116   35.626475    0.0\n",
      "9    37.051534   46.755507    9.0\n",
      "10   58.970299   59.400079   12.0\n",
      "11   63.149341   63.446228   12.0\n",
      "12   63.644153   64.458473    0.0\n",
      "13   73.280267   73.568671   12.0\n",
      "14   73.568671   74.153963    0.0\n",
      "15   74.170928   74.733601    0.0\n",
      "16   75.388166   75.713329   12.0\n",
      "17   76.104937   76.369308   12.0\n",
      "18   76.776468   77.053563   10.0\n",
      "19   77.699646   78.096909    9.0\n",
      "20   78.137908   78.491345   12.0\n",
      "21   81.152021   81.659557   12.0\n",
      "22   82.465394   82.759454   12.0\n",
      "23   83.132683   83.408364    0.0\n",
      "24   83.446536   83.804214    0.0\n",
      "25   86.334825   87.369689    0.0\n",
      "26   87.935189   88.415863   12.0\n",
      "27   88.879573   89.258458   12.0\n",
      "28   99.126426   99.703236    0.0\n",
      "29   99.782406  101.631589    9.0\n",
      "30  101.919994  102.694729    0.0\n",
      "31  105.194237  105.691876   12.0\n",
      "32  107.314860  107.688090   10.0\n",
      "33  110.317663  110.639998   10.0\n",
      "34  112.828482  113.541011   12.0\n",
      "35  113.795486  115.000000    0.0\n",
      "36  115.452400  115.452400    NaN\n",
      "4.727576999999999 5.157356 12.0\n",
      "MoviePy - Writing audio in ./data/audio_label_clip/sha_77.wav\n",
      "MoviePy - Done.\n",
      "dd\n",
      "5.157356 5.745476 0.0\n",
      "MoviePy - Writing audio in ./data/audio_label_clip/negative_162.wav\n"
     ]
    },
    {
     "name": "stderr",
     "output_type": "stream",
     "text": [
      "                                                       \r"
     ]
    },
    {
     "name": "stdout",
     "output_type": "stream",
     "text": [
      "MoviePy - Done.\n",
      "dd\n",
      "5.926436 8.867034 9.0\n",
      "MoviePy - Writing audio in ./data/audio_label_clip/background_93.wav\n",
      "MoviePy - Done.\n",
      "dd\n",
      "18.932927 19.317467 12.0\n",
      "MoviePy - Writing audio in ./data/audio_label_clip/sha_78.wav\n",
      "MoviePy - Done.\n",
      "dd\n",
      "19.294847 20.131785999999998 0.0\n"
     ]
    },
    {
     "name": "stderr",
     "output_type": "stream",
     "text": [
      "                                                       "
     ]
    },
    {
     "name": "stdout",
     "output_type": "stream",
     "text": [
      "MoviePy - Writing audio in ./data/audio_label_clip/negative_163.wav\n",
      "MoviePy - Done.\n",
      "dd\n",
      "20.131785999999998 21.059205 9.0\n",
      "MoviePy - Writing audio in ./data/audio_label_clip/background_94.wav\n",
      "MoviePy - Done.\n",
      "dd\n",
      "25.198662 25.537962 12.0\n",
      "MoviePy - Writing audio in ./data/audio_label_clip/sha_79.wav\n",
      "MoviePy - Done.\n",
      "dd\n",
      "34.382376 34.993116 0.0\n"
     ]
    },
    {
     "name": "stderr",
     "output_type": "stream",
     "text": [
      "                                                       "
     ]
    },
    {
     "name": "stdout",
     "output_type": "stream",
     "text": [
      "MoviePy - Writing audio in ./data/audio_label_clip/negative_164.wav\n",
      "MoviePy - Done.\n",
      "dd\n",
      "34.993116 35.626475 0.0\n",
      "MoviePy - Writing audio in ./data/audio_label_clip/negative_165.wav\n",
      "MoviePy - Done.\n",
      "dd\n",
      "37.051534000000004 46.755507 9.0\n"
     ]
    },
    {
     "name": "stderr",
     "output_type": "stream",
     "text": [
      "                                                        "
     ]
    },
    {
     "name": "stdout",
     "output_type": "stream",
     "text": [
      "MoviePy - Writing audio in ./data/audio_label_clip/background_95.wav\n",
      "MoviePy - Done.\n",
      "dd\n",
      "58.970299 59.400079000000005 12.0\n",
      "MoviePy - Writing audio in ./data/audio_label_clip/sha_80.wav\n"
     ]
    },
    {
     "name": "stderr",
     "output_type": "stream",
     "text": [
      "chunk:   0%|          | 0/18 [00:00<?, ?it/s, now=None]"
     ]
    },
    {
     "name": "stdout",
     "output_type": "stream",
     "text": [
      "MoviePy - Done.\n",
      "dd\n",
      "63.149341 63.446228000000005 12.0\n",
      "MoviePy - Writing audio in ./data/audio_label_clip/sha_81.wav\n",
      "MoviePy - Done.\n",
      "dd\n",
      "63.644153 64.458473 0.0\n",
      "MoviePy - Writing audio in ./data/audio_label_clip/negative_166.wav\n"
     ]
    },
    {
     "name": "stderr",
     "output_type": "stream",
     "text": [
      "chunk:   0%|          | 0/13 [00:00<?, ?it/s, now=None]"
     ]
    },
    {
     "name": "stdout",
     "output_type": "stream",
     "text": [
      "MoviePy - Done.\n",
      "dd\n",
      "73.28026700000001 73.568671 12.0\n",
      "MoviePy - Writing audio in ./data/audio_label_clip/sha_82.wav\n",
      "MoviePy - Done.\n",
      "dd\n",
      "73.568671 74.153963 0.0\n",
      "MoviePy - Writing audio in ./data/audio_label_clip/negative_167.wav\n"
     ]
    },
    {
     "name": "stderr",
     "output_type": "stream",
     "text": [
      "                                                       \r"
     ]
    },
    {
     "name": "stdout",
     "output_type": "stream",
     "text": [
      "MoviePy - Done.\n",
      "dd\n",
      "74.170928 74.73360100000001 0.0\n",
      "MoviePy - Writing audio in ./data/audio_label_clip/negative_168.wav\n",
      "MoviePy - Done.\n",
      "dd\n",
      "75.388166 75.713329 12.0\n",
      "MoviePy - Writing audio in ./data/audio_label_clip/sha_83.wav\n",
      "MoviePy - Done.\n",
      "dd\n",
      "76.10493699999999 76.36930799999999 12.0\n"
     ]
    },
    {
     "name": "stderr",
     "output_type": "stream",
     "text": [
      "                                                      \r"
     ]
    },
    {
     "name": "stdout",
     "output_type": "stream",
     "text": [
      "MoviePy - Writing audio in ./data/audio_label_clip/sha_84.wav\n",
      "MoviePy - Done.\n",
      "dd\n",
      "76.77646800000001 77.053563 10.0\n",
      "MoviePy - Writing audio in ./data/audio_label_clip/shi_28.wav\n",
      "MoviePy - Done.\n",
      "dd\n",
      "77.699646 78.096909 9.0\n",
      "MoviePy - Writing audio in ./data/audio_label_clip/background_96.wav\n"
     ]
    },
    {
     "name": "stderr",
     "output_type": "stream",
     "text": [
      "                                                       \r"
     ]
    },
    {
     "name": "stdout",
     "output_type": "stream",
     "text": [
      "MoviePy - Done.\n",
      "dd\n",
      "78.137908 78.491345 12.0\n",
      "MoviePy - Writing audio in ./data/audio_label_clip/sha_85.wav\n",
      "MoviePy - Done.\n",
      "dd\n",
      "81.15202099999999 81.65955699999999 12.0\n",
      "MoviePy - Writing audio in ./data/audio_label_clip/sha_86.wav\n",
      "MoviePy - Done.\n",
      "dd\n",
      "82.46539399999999 82.759454 12.0\n"
     ]
    },
    {
     "name": "stderr",
     "output_type": "stream",
     "text": [
      "                                                      "
     ]
    },
    {
     "name": "stdout",
     "output_type": "stream",
     "text": [
      "MoviePy - Writing audio in ./data/audio_label_clip/sha_87.wav\n",
      "MoviePy - Done.\n",
      "dd\n",
      "83.132683 83.408364 0.0\n",
      "MoviePy - Writing audio in ./data/audio_label_clip/negative_169.wav\n",
      "MoviePy - Done.\n",
      "dd\n",
      "83.446536 83.804214 0.0\n"
     ]
    },
    {
     "name": "stderr",
     "output_type": "stream",
     "text": [
      "                                                       "
     ]
    },
    {
     "name": "stdout",
     "output_type": "stream",
     "text": [
      "MoviePy - Writing audio in ./data/audio_label_clip/negative_170.wav\n",
      "MoviePy - Done.\n",
      "dd\n",
      "86.334825 87.36968900000001 0.0\n",
      "MoviePy - Writing audio in ./data/audio_label_clip/negative_171.wav\n",
      "MoviePy - Done.\n",
      "dd\n",
      "87.93518900000001 88.415863 12.0\n"
     ]
    },
    {
     "name": "stderr",
     "output_type": "stream",
     "text": [
      "                                                       "
     ]
    },
    {
     "name": "stdout",
     "output_type": "stream",
     "text": [
      "MoviePy - Writing audio in ./data/audio_label_clip/sha_88.wav\n",
      "MoviePy - Done.\n",
      "dd\n",
      "88.879573 89.25845799999999 12.0\n",
      "MoviePy - Writing audio in ./data/audio_label_clip/sha_89.wav\n",
      "MoviePy - Done.\n",
      "dd\n",
      "99.126426 99.703236 0.0\n"
     ]
    },
    {
     "name": "stderr",
     "output_type": "stream",
     "text": [
      "                                                       "
     ]
    },
    {
     "name": "stdout",
     "output_type": "stream",
     "text": [
      "MoviePy - Writing audio in ./data/audio_label_clip/negative_172.wav\n",
      "MoviePy - Done.\n",
      "dd\n",
      "99.78240600000001 101.631589 9.0\n",
      "MoviePy - Writing audio in ./data/audio_label_clip/background_97.wav\n",
      "MoviePy - Done.\n",
      "dd\n",
      "101.91999399999999 102.69472900000001 0.0\n"
     ]
    },
    {
     "name": "stderr",
     "output_type": "stream",
     "text": [
      "                                                       "
     ]
    },
    {
     "name": "stdout",
     "output_type": "stream",
     "text": [
      "MoviePy - Writing audio in ./data/audio_label_clip/negative_173.wav\n",
      "MoviePy - Done.\n",
      "dd\n",
      "105.19423700000002 105.69187600000001 12.0\n",
      "MoviePy - Writing audio in ./data/audio_label_clip/sha_90.wav\n",
      "MoviePy - Done.\n",
      "dd\n",
      "107.31486000000001 107.68808999999999 10.0\n"
     ]
    },
    {
     "name": "stderr",
     "output_type": "stream",
     "text": [
      "                                                      "
     ]
    },
    {
     "name": "stdout",
     "output_type": "stream",
     "text": [
      "MoviePy - Writing audio in ./data/audio_label_clip/shi_29.wav\n",
      "MoviePy - Done.\n",
      "dd\n",
      "110.31766299999998 110.63999799999999 10.0\n",
      "MoviePy - Writing audio in ./data/audio_label_clip/shi_30.wav\n",
      "MoviePy - Done.\n",
      "dd\n",
      "112.82848200000001 113.54101100000001 12.0\n"
     ]
    },
    {
     "name": "stderr",
     "output_type": "stream",
     "text": [
      "                                                       "
     ]
    },
    {
     "name": "stdout",
     "output_type": "stream",
     "text": [
      "MoviePy - Writing audio in ./data/audio_label_clip/sha_91.wav\n",
      "MoviePy - Done.\n",
      "dd\n",
      "113.79548600000001 115.0 0.0\n",
      "MoviePy - Writing audio in ./data/audio_label_clip/negative_174.wav\n",
      "MoviePy - Done.\n",
      "dd\n",
      "115.4524 115.4524 nan\n",
      "file name:47_es\n",
      "read new file\n",
      "       start        end  label\n",
      "0   0.000000   1.038714    0.0\n",
      "1   2.945215   4.930606    9.0\n",
      "2  11.662527  12.753835   10.0\n",
      "0.0 1.038714 0.0\n"
     ]
    },
    {
     "name": "stderr",
     "output_type": "stream",
     "text": [
      "chunk:   0%|          | 0/25 [00:00<?, ?it/s, now=None]"
     ]
    },
    {
     "name": "stdout",
     "output_type": "stream",
     "text": [
      "MoviePy - Writing audio in ./data/audio_label_clip/negative_175.wav\n",
      "MoviePy - Done.\n",
      "dd\n",
      "2.945215 4.930606 9.0\n",
      "MoviePy - Writing audio in ./data/audio_label_clip/background_98.wav\n",
      "MoviePy - Done.\n",
      "dd\n",
      "11.662527 12.753835 10.0\n",
      "MoviePy - Writing audio in ./data/audio_label_clip/shi_31.wav\n"
     ]
    },
    {
     "name": "stderr",
     "output_type": "stream",
     "text": [
      "                                                       \r"
     ]
    },
    {
     "name": "stdout",
     "output_type": "stream",
     "text": [
      "MoviePy - Done.\n",
      "dd\n",
      "file name:12_jh\n",
      "read new file\n",
      "      start       end  label\n",
      "0  0.016694  4.490818      0\n",
      "1  4.536728  5.000000     10\n",
      "0.016694 4.490818 0\n",
      "MoviePy - Writing audio in ./data/audio_label_clip/negative_176.wav\n",
      "MoviePy - Done.\n",
      "dd\n",
      "4.536728 5.0 10\n",
      "MoviePy - Writing audio in ./data/audio_label_clip/shi_32.wav\n",
      "MoviePy - Done.\n",
      "dd\n",
      "file name:_nZDvoRWsYg_87\n",
      "read new file\n"
     ]
    },
    {
     "name": "stderr",
     "output_type": "stream",
     "text": [
      "                                                       \r"
     ]
    },
    {
     "name": "stdout",
     "output_type": "stream",
     "text": [
      "      start       end  label\n",
      "0  0.003147  0.439811      0\n",
      "1  0.567270  0.848151     11\n",
      "0.003147 0.43981099999999995 0\n",
      "MoviePy - Writing audio in ./data/audio_label_clip/negative_177.wav\n",
      "MoviePy - Done.\n",
      "dd\n",
      "0.5672699999999999 0.848151 11\n",
      "MoviePy - Writing audio in ./data/audio_label_clip/jon_24.wav\n",
      "MoviePy - Done.\n",
      "dd\n",
      "file name:_6IQorW2b80_24\n",
      "read new file\n",
      "       start        end  label\n",
      "0   4.093627   4.543666     12\n",
      "1  19.870968  31.779701      9\n",
      "2  35.760818  36.903226      0\n",
      "4.093627 4.543666 12\n"
     ]
    },
    {
     "name": "stderr",
     "output_type": "stream",
     "text": [
      "                                                        "
     ]
    },
    {
     "name": "stdout",
     "output_type": "stream",
     "text": [
      "MoviePy - Writing audio in ./data/audio_label_clip/sha_92.wav\n",
      "MoviePy - Done.\n",
      "dd\n",
      "19.870967999999998 31.779701 9\n",
      "MoviePy - Writing audio in ./data/audio_label_clip/background_99.wav\n",
      "MoviePy - Done.\n",
      "dd\n",
      "35.760818 36.903226000000004 0\n"
     ]
    },
    {
     "name": "stderr",
     "output_type": "stream",
     "text": [
      "chunk:   0%|          | 0/32 [00:00<?, ?it/s, now=None]"
     ]
    },
    {
     "name": "stdout",
     "output_type": "stream",
     "text": [
      "MoviePy - Writing audio in ./data/audio_label_clip/negative_178.wav\n",
      "MoviePy - Done.\n",
      "dd\n",
      "file name:36_jh\n",
      "read new file\n",
      "      start       end  label\n",
      "0  0.013672  0.587891     10\n",
      "1  0.628906  2.050781      0\n",
      "2  2.064453  2.324219     10\n",
      "3  3.664063  7.000000      9\n",
      "0.013672 0.5878909999999999 10\n",
      "MoviePy - Writing audio in ./data/audio_label_clip/shi_33.wav\n",
      "MoviePy - Done.\n",
      "dd\n",
      "0.6289060000000001 2.050781 0\n",
      "MoviePy - Writing audio in ./data/audio_label_clip/negative_179.wav\n"
     ]
    },
    {
     "name": "stderr",
     "output_type": "stream",
     "text": [
      "                                                       \r"
     ]
    },
    {
     "name": "stdout",
     "output_type": "stream",
     "text": [
      "MoviePy - Done.\n",
      "dd\n",
      "2.064453 2.324219 10\n",
      "MoviePy - Writing audio in ./data/audio_label_clip/shi_34.wav\n",
      "MoviePy - Done.\n",
      "dd\n",
      "3.6640629999999996 7.0 9\n",
      "MoviePy - Writing audio in ./data/audio_label_clip/background_100.wav\n",
      "MoviePy - Done.\n",
      "dd\n",
      "file name:28_jh\n",
      "read new file\n",
      "      start       end  label\n",
      "0  0.000000  0.350584      9\n",
      "1  0.383973  0.657763      0\n",
      "2  0.701169  1.125209     10\n",
      "3  1.171953  2.814691      0\n",
      "4  2.824708  3.245409      9\n",
      "5  3.322204  3.946578      0\n",
      "0.0 0.350584 9\n"
     ]
    },
    {
     "name": "stderr",
     "output_type": "stream",
     "text": [
      "                                                       "
     ]
    },
    {
     "name": "stdout",
     "output_type": "stream",
     "text": [
      "MoviePy - Writing audio in ./data/audio_label_clip/background_101.wav\n",
      "MoviePy - Done.\n",
      "dd\n",
      "0.383973 0.657763 0\n",
      "MoviePy - Writing audio in ./data/audio_label_clip/negative_180.wav\n",
      "MoviePy - Done.\n",
      "dd\n",
      "0.7011689999999999 1.125209 10\n",
      "MoviePy - Writing audio in ./data/audio_label_clip/shi_35.wav\n",
      "MoviePy - Done.\n",
      "dd\n",
      "1.171953 2.814691 0\n"
     ]
    },
    {
     "name": "stderr",
     "output_type": "stream",
     "text": [
      "                                                       "
     ]
    },
    {
     "name": "stdout",
     "output_type": "stream",
     "text": [
      "MoviePy - Writing audio in ./data/audio_label_clip/negative_181.wav\n",
      "MoviePy - Done.\n",
      "dd\n",
      "2.824708 3.245409 9\n",
      "MoviePy - Writing audio in ./data/audio_label_clip/background_102.wav\n",
      "MoviePy - Done.\n",
      "dd\n",
      "3.322204 3.9465779999999997 0\n",
      "MoviePy - Writing audio in ./data/audio_label_clip/negative_182.wav\n",
      "MoviePy - Done.\n",
      "dd\n",
      "file name:7_es\n",
      "read new file\n",
      "      start       end  label\n",
      "0  1.172389  1.504748     11\n",
      "1  2.509131  3.747261      9\n",
      "2  3.769175  4.397370      0\n",
      "1.172389 1.504748 11\n"
     ]
    },
    {
     "name": "stderr",
     "output_type": "stream",
     "text": [
      "                                                       "
     ]
    },
    {
     "name": "stdout",
     "output_type": "stream",
     "text": [
      "MoviePy - Writing audio in ./data/audio_label_clip/jon_25.wav\n",
      "MoviePy - Done.\n",
      "dd\n",
      "2.509131 3.747261 9\n",
      "MoviePy - Writing audio in ./data/audio_label_clip/background_103.wav\n",
      "MoviePy - Done.\n",
      "dd\n",
      "3.769175 4.39737 0\n",
      "MoviePy - Writing audio in ./data/audio_label_clip/negative_183.wav\n",
      "MoviePy - Done."
     ]
    },
    {
     "name": "stderr",
     "output_type": "stream",
     "text": [
      "                                                       \r"
     ]
    },
    {
     "name": "stdout",
     "output_type": "stream",
     "text": [
      "\n",
      "dd\n",
      "file name:24_jh\n",
      "read new file\n",
      "      start       end  label\n",
      "0  0.601002  0.888147     12\n",
      "1  0.908180  1.422371      0\n",
      "2  1.509182  2.497496      9\n",
      "3  2.564274  4.000000      0\n",
      "0.601002 0.8881469999999999 12\n",
      "MoviePy - Writing audio in ./data/audio_label_clip/sha_93.wav\n",
      "MoviePy - Done.\n",
      "dd\n",
      "0.9081799999999999 1.4223709999999998 0\n",
      "MoviePy - Writing audio in ./data/audio_label_clip/negative_184.wav\n",
      "MoviePy - Done.\n",
      "dd\n",
      "1.509182 2.497496 9\n"
     ]
    },
    {
     "name": "stderr",
     "output_type": "stream",
     "text": [
      "                                                       "
     ]
    },
    {
     "name": "stdout",
     "output_type": "stream",
     "text": [
      "MoviePy - Writing audio in ./data/audio_label_clip/background_104.wav\n",
      "MoviePy - Done.\n",
      "dd\n",
      "2.564274 4.0 0\n",
      "MoviePy - Writing audio in ./data/audio_label_clip/negative_185.wav\n",
      "MoviePy - Done.\n",
      "dd\n",
      "file name:_kfXW1JXUhA_12\n",
      "read new file\n",
      "        start        end  label\n",
      "0    0.000000   0.339890     12\n",
      "1    0.483281   0.873623     12\n",
      "2    0.995771   1.279898     12\n",
      "3    2.790814   3.467939     12\n",
      "4    3.579465   4.052124     10\n",
      "5    5.786094   6.110051     10\n",
      "6    7.652832   8.199843      0\n",
      "7    8.199843   8.645948      0\n",
      "8    8.645948   8.988493      0\n",
      "9    8.988493   9.543470      0\n",
      "10  12.629032  13.515932      9\n",
      "11  15.956235  16.946696      0\n",
      "12  22.631884  23.072679     12\n",
      "13  23.115165  23.656865      0\n",
      "14  25.783832  26.099823     12\n",
      "15  31.713316  33.187057      9\n",
      "16  38.572187  39.698072      0\n",
      "17  44.929190  46.198466      0\n",
      "0.0 0.33989 12\n",
      "MoviePy - Writing audio in ./data/audio_label_clip/sha_94.wav\n",
      "MoviePy - Done.\n",
      "dd\n",
      "0.483281 0.8736229999999999 12\n"
     ]
    },
    {
     "name": "stderr",
     "output_type": "stream",
     "text": [
      "                                                       "
     ]
    },
    {
     "name": "stdout",
     "output_type": "stream",
     "text": [
      "MoviePy - Writing audio in ./data/audio_label_clip/sha_95.wav\n",
      "MoviePy - Done.\n",
      "dd\n",
      "0.995771 1.279898 12\n",
      "MoviePy - Writing audio in ./data/audio_label_clip/sha_96.wav\n",
      "MoviePy - Done.\n",
      "dd\n",
      "2.790814 3.467939 12\n",
      "MoviePy - Writing audio in ./data/audio_label_clip/sha_97.wav\n",
      "MoviePy - Done.\n",
      "dd\n",
      "3.5794650000000003 4.052124 10\n"
     ]
    },
    {
     "name": "stderr",
     "output_type": "stream",
     "text": [
      "                                                       "
     ]
    },
    {
     "name": "stdout",
     "output_type": "stream",
     "text": [
      "MoviePy - Writing audio in ./data/audio_label_clip/shi_36.wav\n",
      "MoviePy - Done.\n",
      "dd\n",
      "5.786094 6.110051 10\n",
      "MoviePy - Writing audio in ./data/audio_label_clip/shi_37.wav\n",
      "MoviePy - Done.\n",
      "dd\n",
      "7.652832000000001 8.199843 0\n",
      "MoviePy - Writing audio in ./data/audio_label_clip/negative_186.wav\n",
      "MoviePy - Done.\n",
      "dd\n",
      "8.199843 8.645947999999999 0\n"
     ]
    },
    {
     "name": "stderr",
     "output_type": "stream",
     "text": [
      "                                                       "
     ]
    },
    {
     "name": "stdout",
     "output_type": "stream",
     "text": [
      "MoviePy - Writing audio in ./data/audio_label_clip/negative_187.wav\n",
      "MoviePy - Done.\n",
      "dd\n",
      "8.645947999999999 8.988493 0\n",
      "MoviePy - Writing audio in ./data/audio_label_clip/negative_188.wav\n",
      "MoviePy - Done.\n",
      "dd\n",
      "8.988493 9.54347 0\n",
      "MoviePy - Writing audio in ./data/audio_label_clip/negative_189.wav\n",
      "MoviePy - Done.\n",
      "dd\n",
      "12.629032 13.515932000000001 9\n"
     ]
    },
    {
     "name": "stderr",
     "output_type": "stream",
     "text": [
      "chunk:   0%|          | 0/10 [00:00<?, ?it/s, now=None]"
     ]
    },
    {
     "name": "stdout",
     "output_type": "stream",
     "text": [
      "MoviePy - Writing audio in ./data/audio_label_clip/background_105.wav\n",
      "MoviePy - Done.\n",
      "dd\n",
      "15.956235000000001 16.946696 0\n",
      "MoviePy - Writing audio in ./data/audio_label_clip/negative_190.wav\n",
      "MoviePy - Done.\n",
      "dd\n",
      "22.631884 23.072679 12\n",
      "MoviePy - Writing audio in ./data/audio_label_clip/sha_98.wav\n"
     ]
    },
    {
     "name": "stderr",
     "output_type": "stream",
     "text": [
      "                                                       \r"
     ]
    },
    {
     "name": "stdout",
     "output_type": "stream",
     "text": [
      "MoviePy - Done.\n",
      "dd\n",
      "23.115165 23.656865 0\n",
      "MoviePy - Writing audio in ./data/audio_label_clip/negative_191.wav\n",
      "MoviePy - Done.\n",
      "dd\n",
      "25.783832 26.099823 12\n",
      "MoviePy - Writing audio in ./data/audio_label_clip/sha_99.wav\n",
      "MoviePy - Done.\n",
      "dd\n",
      "31.713316 33.187057 9\n"
     ]
    },
    {
     "name": "stderr",
     "output_type": "stream",
     "text": [
      "                                                       "
     ]
    },
    {
     "name": "stdout",
     "output_type": "stream",
     "text": [
      "MoviePy - Writing audio in ./data/audio_label_clip/background_106.wav\n",
      "MoviePy - Done.\n",
      "dd\n",
      "38.572187 39.698071999999996 0\n",
      "MoviePy - Writing audio in ./data/audio_label_clip/negative_192.wav\n",
      "MoviePy - Done.\n",
      "dd\n",
      "44.929190000000006 46.198465999999996 0\n"
     ]
    },
    {
     "name": "stderr",
     "output_type": "stream",
     "text": [
      "                                                       "
     ]
    },
    {
     "name": "stdout",
     "output_type": "stream",
     "text": [
      "MoviePy - Writing audio in ./data/audio_label_clip/negative_193.wav\n",
      "MoviePy - Done.\n",
      "dd\n",
      "file name:1HL0BSw8QE0_41\n",
      "read new file\n",
      "       start        end  label\n",
      "0   0.000000   0.575138      0\n",
      "1   0.963021   1.738788      0\n",
      "2   2.059795   3.156570      0\n",
      "3   4.908733  10.272227      9\n",
      "4  16.010228  16.598741     12\n",
      "0.0 0.575138 0\n",
      "MoviePy - Writing audio in ./data/audio_label_clip/negative_194.wav\n",
      "MoviePy - Done.\n",
      "dd\n",
      "0.9630209999999999 1.738788 0\n",
      "MoviePy - Writing audio in ./data/audio_label_clip/negative_195.wav\n"
     ]
    },
    {
     "name": "stderr",
     "output_type": "stream",
     "text": [
      "                                                        \r"
     ]
    },
    {
     "name": "stdout",
     "output_type": "stream",
     "text": [
      "MoviePy - Done.\n",
      "dd\n",
      "2.0597950000000003 3.15657 0\n",
      "MoviePy - Writing audio in ./data/audio_label_clip/negative_196.wav\n",
      "MoviePy - Done.\n",
      "dd\n",
      "4.908733 10.272227 9\n",
      "MoviePy - Writing audio in ./data/audio_label_clip/background_107.wav\n",
      "MoviePy - Done.\n",
      "dd\n",
      "16.010228 16.598741 12\n"
     ]
    },
    {
     "name": "stderr",
     "output_type": "stream",
     "text": [
      "                                                       "
     ]
    },
    {
     "name": "stdout",
     "output_type": "stream",
     "text": [
      "MoviePy - Writing audio in ./data/audio_label_clip/sha_100.wav\n",
      "MoviePy - Done.\n",
      "dd\n",
      "file name:_E4u6Vom1YQ_196\n",
      "read new file\n",
      "       start        end  label\n",
      "0   6.669552   8.173092      0\n",
      "1  10.139260  11.218725      0\n",
      "2  21.704957  23.940991      9\n",
      "3  28.451613  28.875688     11\n",
      "4  29.425059  29.839496     12\n",
      "5  34.089890  34.330842     12\n",
      "6  45.954367  47.804878      9\n",
      "6.669552 8.173092 0\n",
      "MoviePy - Writing audio in ./data/audio_label_clip/negative_197.wav\n",
      "MoviePy - Done.\n",
      "dd\n",
      "10.13926 11.218725 0\n",
      "MoviePy - Writing audio in ./data/audio_label_clip/negative_198.wav\n"
     ]
    },
    {
     "name": "stderr",
     "output_type": "stream",
     "text": [
      "                                                       \r"
     ]
    },
    {
     "name": "stdout",
     "output_type": "stream",
     "text": [
      "MoviePy - Done.\n",
      "dd\n",
      "21.704957 23.940991 9\n",
      "MoviePy - Writing audio in ./data/audio_label_clip/background_108.wav\n",
      "MoviePy - Done.\n",
      "dd\n",
      "28.451613000000002 28.875688 11\n",
      "MoviePy - Writing audio in ./data/audio_label_clip/jon_26.wav\n",
      "MoviePy - Done.\n",
      "dd\n",
      "29.425059 29.839496 12\n"
     ]
    },
    {
     "name": "stderr",
     "output_type": "stream",
     "text": [
      "                                                       \r"
     ]
    },
    {
     "name": "stdout",
     "output_type": "stream",
     "text": [
      "MoviePy - Writing audio in ./data/audio_label_clip/sha_101.wav\n",
      "MoviePy - Done.\n",
      "dd\n",
      "34.089890000000004 34.330842 12\n",
      "MoviePy - Writing audio in ./data/audio_label_clip/sha_102.wav\n",
      "MoviePy - Done.\n",
      "dd\n",
      "45.954367 47.804878 9\n",
      "MoviePy - Writing audio in ./data/audio_label_clip/background_109.wav\n"
     ]
    },
    {
     "name": "stderr",
     "output_type": "stream",
     "text": [
      "                                                       \r"
     ]
    },
    {
     "name": "stdout",
     "output_type": "stream",
     "text": [
      "MoviePy - Done.\n",
      "dd\n",
      "file name:3_jh\n",
      "read new file\n",
      "      start       end  label\n",
      "0  0.000000  1.870304      0\n",
      "1  2.074258  2.477828     12\n",
      "2  2.495185  4.000000      0\n",
      "0.0 1.8703040000000002 0\n",
      "MoviePy - Writing audio in ./data/audio_label_clip/negative_199.wav\n",
      "MoviePy - Done.\n",
      "dd\n",
      "2.0742580000000004 2.4778279999999997 12\n",
      "MoviePy - Writing audio in ./data/audio_label_clip/sha_103.wav\n",
      "MoviePy - Done.\n",
      "dd\n",
      "2.4951849999999998 4.0 0\n"
     ]
    },
    {
     "name": "stderr",
     "output_type": "stream",
     "text": [
      "                                                       "
     ]
    },
    {
     "name": "stdout",
     "output_type": "stream",
     "text": [
      "MoviePy - Writing audio in ./data/audio_label_clip/negative_200.wav\n",
      "MoviePy - Done.\n",
      "dd\n",
      "file name:_nZDvoRWsYg_102\n",
      "read new file\n",
      "      start       end  label\n",
      "0  2.492526  3.153423      0\n",
      "1  3.285602  3.946499      0\n",
      "2  3.946499  4.273800     12\n",
      "3  5.457120  6.174666      9\n",
      "4  6.785208  7.106216     12\n",
      "5  7.313926  8.000000      0\n",
      "2.492526 3.153423 0\n",
      "MoviePy - Writing audio in ./data/audio_label_clip/negative_201.wav\n",
      "MoviePy - Done.\n",
      "dd\n",
      "3.2856019999999995 3.9464989999999998 0\n",
      "MoviePy - Writing audio in ./data/audio_label_clip/negative_202.wav\n",
      "MoviePy - Done.\n",
      "dd\n",
      "3.9464989999999998 4.2738 12\n"
     ]
    },
    {
     "name": "stderr",
     "output_type": "stream",
     "text": [
      "                                                       "
     ]
    },
    {
     "name": "stdout",
     "output_type": "stream",
     "text": [
      "MoviePy - Writing audio in ./data/audio_label_clip/sha_104.wav\n",
      "MoviePy - Done.\n",
      "dd\n",
      "5.45712 6.174666 9\n",
      "MoviePy - Writing audio in ./data/audio_label_clip/background_110.wav\n",
      "MoviePy - Done.\n",
      "dd\n",
      "6.785208 7.106216000000001 12\n",
      "MoviePy - Writing audio in ./data/audio_label_clip/sha_105.wav\n",
      "MoviePy - Done.\n",
      "dd\n",
      "7.3139259999999995 8.0 0\n"
     ]
    },
    {
     "name": "stderr",
     "output_type": "stream",
     "text": [
      "                                                       "
     ]
    },
    {
     "name": "stdout",
     "output_type": "stream",
     "text": [
      "MoviePy - Writing audio in ./data/audio_label_clip/negative_203.wav\n",
      "MoviePy - Done.\n",
      "dd\n",
      "file name:20_es\n",
      "read new file\n",
      "       start        end  label\n",
      "0   0.235939   0.666180   11.0\n",
      "1   2.178963   2.886779    0.0\n",
      "2   2.956172   3.886048    0.0\n",
      "3   7.994156   9.257122    9.0\n",
      "4   9.860847  10.072498   11.0\n",
      "5  16.338751  17.188824    0.0\n",
      "0.23593899999999998 0.66618 11.0\n",
      "MoviePy - Writing audio in ./data/audio_label_clip/jon_27.wav\n",
      "MoviePy - Done.\n",
      "dd\n",
      "2.178963 2.886779 0.0\n",
      "MoviePy - Writing audio in ./data/audio_label_clip/negative_204.wav\n",
      "MoviePy - Done.\n",
      "dd\n",
      "2.956172 3.886048 0.0\n"
     ]
    },
    {
     "name": "stderr",
     "output_type": "stream",
     "text": [
      "                                                       "
     ]
    },
    {
     "name": "stdout",
     "output_type": "stream",
     "text": [
      "MoviePy - Writing audio in ./data/audio_label_clip/negative_205.wav\n",
      "MoviePy - Done.\n",
      "dd\n",
      "7.994155999999999 9.257122 9.0\n",
      "MoviePy - Writing audio in ./data/audio_label_clip/background_111.wav\n",
      "MoviePy - Done.\n",
      "dd\n",
      "9.860847 10.072498 11.0\n",
      "MoviePy - Writing audio in ./data/audio_label_clip/jon_28.wav\n",
      "MoviePy - Done.\n",
      "dd\n",
      "16.338751000000002 17.188824 0.0\n"
     ]
    },
    {
     "name": "stderr",
     "output_type": "stream",
     "text": [
      "                                                       "
     ]
    },
    {
     "name": "stdout",
     "output_type": "stream",
     "text": [
      "MoviePy - Writing audio in ./data/audio_label_clip/negative_206.wav\n",
      "MoviePy - Done.\n",
      "dd\n",
      "file name:43_es\n",
      "read new file\n",
      "       start        end  label\n",
      "0   2.210373   2.595325   10.0\n",
      "1   6.097151   6.668371    0.0\n",
      "2   7.220964   9.158145    9.0\n",
      "3   9.533784   9.782140   11.0\n",
      "4  10.465121  14.826881    9.0\n",
      "2.210373 2.595325 10.0\n",
      "MoviePy - Writing audio in ./data/audio_label_clip/shi_38.wav\n",
      "MoviePy - Done.\n",
      "dd\n",
      "6.097151 6.6683710000000005 0.0\n",
      "MoviePy - Writing audio in ./data/audio_label_clip/negative_207.wav\n",
      "MoviePy - Done.\n",
      "dd\n",
      "7.220964 9.158145 9.0\n"
     ]
    },
    {
     "name": "stderr",
     "output_type": "stream",
     "text": [
      "chunk:   0%|          | 0/97 [00:00<?, ?it/s, now=None]"
     ]
    },
    {
     "name": "stdout",
     "output_type": "stream",
     "text": [
      "MoviePy - Writing audio in ./data/audio_label_clip/background_112.wav\n",
      "MoviePy - Done.\n",
      "dd\n",
      "9.533783999999999 9.78214 11.0\n",
      "MoviePy - Writing audio in ./data/audio_label_clip/jon_29.wav\n",
      "MoviePy - Done.\n",
      "dd\n",
      "10.465121 14.826881 9.0\n",
      "MoviePy - Writing audio in ./data/audio_label_clip/background_113.wav\n"
     ]
    },
    {
     "name": "stderr",
     "output_type": "stream",
     "text": [
      "                                                       \r"
     ]
    },
    {
     "name": "stdout",
     "output_type": "stream",
     "text": [
      "MoviePy - Done.\n",
      "dd\n",
      "file name:32_es\n",
      "read new file\n",
      "       start        end  label\n",
      "0   5.625274   6.780131    0.0\n",
      "1   6.978817   7.388605    0.0\n",
      "2  14.454346  15.857560    9.0\n",
      "3  16.168006  16.677137   10.0\n",
      "5.625274 6.780131 0.0\n",
      "MoviePy - Writing audio in ./data/audio_label_clip/negative_208.wav\n",
      "MoviePy - Done.\n",
      "dd\n",
      "6.978816999999999 7.388605 0.0\n",
      "MoviePy - Writing audio in ./data/audio_label_clip/negative_209.wav\n",
      "MoviePy - Done.\n",
      "dd\n",
      "14.454346 15.857560000000001 9.0\n"
     ]
    },
    {
     "name": "stderr",
     "output_type": "stream",
     "text": [
      "                                                       "
     ]
    },
    {
     "name": "stdout",
     "output_type": "stream",
     "text": [
      "MoviePy - Writing audio in ./data/audio_label_clip/background_114.wav\n",
      "MoviePy - Done.\n",
      "dd\n",
      "16.168006 16.677137 10.0\n",
      "MoviePy - Writing audio in ./data/audio_label_clip/shi_39.wav\n",
      "MoviePy - Done.\n",
      "dd\n",
      "file name:51_es\n",
      "read new file\n",
      "      start       end  label\n",
      "0  0.202337  0.578524     12\n",
      "0.202337 0.5785239999999999 12\n",
      "MoviePy - Writing audio in ./data/audio_label_clip/sha_106.wav\n",
      "MoviePy - Done.\n",
      "dd\n",
      "file name:1cmlJNN5-_U_12\n",
      "read new file\n"
     ]
    },
    {
     "name": "stderr",
     "output_type": "stream",
     "text": [
      "                                                       \r"
     ]
    },
    {
     "name": "stdout",
     "output_type": "stream",
     "text": [
      "      start       end  label\n",
      "0  0.000000  3.078678      9\n",
      "1  3.283242  4.173092      0\n",
      "2  4.285602  6.269866      9\n",
      "3  6.351692  6.781275      0\n",
      "4  8.560976  8.908733     12\n",
      "0.0 3.078678 9\n",
      "MoviePy - Writing audio in ./data/audio_label_clip/background_115.wav\n",
      "MoviePy - Done.\n",
      "dd\n",
      "3.283242 4.173092 0\n",
      "MoviePy - Writing audio in ./data/audio_label_clip/negative_210.wav\n",
      "MoviePy - Done.\n",
      "dd\n",
      "4.285602 6.269866 9\n"
     ]
    },
    {
     "name": "stderr",
     "output_type": "stream",
     "text": [
      "                                                       "
     ]
    },
    {
     "name": "stdout",
     "output_type": "stream",
     "text": [
      "MoviePy - Writing audio in ./data/audio_label_clip/background_116.wav\n",
      "MoviePy - Done.\n",
      "dd\n",
      "6.351692 6.781275 0\n",
      "MoviePy - Writing audio in ./data/audio_label_clip/negative_211.wav\n",
      "MoviePy - Done.\n",
      "dd\n",
      "8.560976 8.908733 12\n",
      "MoviePy - Writing audio in ./data/audio_label_clip/sha_107.wav\n",
      "MoviePy - Done.\n",
      "dd\n",
      "file name:16_es\n",
      "read new file\n",
      "      start       end  label\n",
      "0  1.747261  2.279036     12\n",
      "1  2.478451  3.048210      0\n",
      "2  4.130752  5.137327      9\n",
      "3  5.194302  5.972973      0\n",
      "4  8.964207  9.420015      0\n",
      "1.747261 2.279036 12\n"
     ]
    },
    {
     "name": "stderr",
     "output_type": "stream",
     "text": [
      "                                                       "
     ]
    },
    {
     "name": "stdout",
     "output_type": "stream",
     "text": [
      "MoviePy - Writing audio in ./data/audio_label_clip/sha_108.wav\n",
      "MoviePy - Done.\n",
      "dd\n",
      "2.478451 3.04821 0\n",
      "MoviePy - Writing audio in ./data/audio_label_clip/negative_212.wav\n",
      "MoviePy - Done.\n",
      "dd\n",
      "4.130751999999998 5.137327 9\n",
      "MoviePy - Writing audio in ./data/audio_label_clip/background_117.wav\n",
      "MoviePy - Done.\n",
      "dd\n",
      "5.194302 5.9729730000000005 0\n"
     ]
    },
    {
     "name": "stderr",
     "output_type": "stream",
     "text": [
      "                                                       "
     ]
    },
    {
     "name": "stdout",
     "output_type": "stream",
     "text": [
      "MoviePy - Writing audio in ./data/audio_label_clip/negative_213.wav\n",
      "MoviePy - Done.\n",
      "dd\n",
      "8.964207 9.420015 0\n",
      "MoviePy - Writing audio in ./data/audio_label_clip/negative_214.wav\n",
      "MoviePy - Done.\n",
      "dd\n",
      "file name:1HL0BSw8QE0_8\n",
      "read new file\n",
      "      start       end  label\n",
      "0  0.606609  1.217939      0\n",
      "1  1.430370  1.668765     13\n",
      "2  2.214005  2.624705      0\n",
      "0.6066090000000001 1.2179389999999999 0\n",
      "MoviePy - Writing audio in ./data/audio_label_clip/negative_215.wav\n",
      "MoviePy - Done.\n",
      "dd\n",
      "1.4303700000000001 1.668765 13\n"
     ]
    },
    {
     "name": "stderr",
     "output_type": "stream",
     "text": [
      "                                                       "
     ]
    },
    {
     "name": "stdout",
     "output_type": "stream",
     "text": [
      "MoviePy - Writing audio in ./data/audio_label_clip/byoung_6.wav\n",
      "MoviePy - Done.\n",
      "dd\n",
      "2.214005 2.624705 0\n",
      "MoviePy - Writing audio in ./data/audio_label_clip/negative_216.wav\n",
      "MoviePy - Done.\n",
      "dd\n",
      "file name:3_es\n",
      "read new file\n",
      "      start       end  label\n",
      "0  0.525088  1.113186     12\n",
      "1  2.677946  3.560093      9\n",
      "2  4.767795  5.103851      0\n",
      "3  7.508751  8.716453      0\n",
      "0.525088 1.113186 12\n",
      "MoviePy - Writing audio in ./data/audio_label_clip/sha_109.wav\n",
      "MoviePy - Done.\n",
      "dd\n",
      "2.677946 3.560093 9\n"
     ]
    },
    {
     "name": "stderr",
     "output_type": "stream",
     "text": [
      "                                                       "
     ]
    },
    {
     "name": "stdout",
     "output_type": "stream",
     "text": [
      "MoviePy - Writing audio in ./data/audio_label_clip/background_118.wav\n",
      "MoviePy - Done.\n",
      "dd\n",
      "4.767795 5.1038510000000015 0\n",
      "MoviePy - Writing audio in ./data/audio_label_clip/negative_217.wav\n",
      "MoviePy - Done.\n",
      "dd\n",
      "7.508750999999998 8.716453 0\n",
      "MoviePy - Writing audio in ./data/audio_label_clip/negative_218.wav\n",
      "MoviePy - Done.\n",
      "dd\n",
      "file name:20_jh\n",
      "read new file\n",
      "       start        end  label\n",
      "0   4.706281   4.925396     13\n",
      "1   5.032606   5.228767     11\n",
      "2   6.301388   7.741288      0\n",
      "3   7.904841   9.499165      0\n",
      "4  10.626043  39.682805      0\n",
      "4.706281 4.925396 13\n"
     ]
    },
    {
     "name": "stderr",
     "output_type": "stream",
     "text": [
      "                                                       "
     ]
    },
    {
     "name": "stdout",
     "output_type": "stream",
     "text": [
      "MoviePy - Writing audio in ./data/audio_label_clip/byoung_7.wav\n",
      "MoviePy - Done.\n",
      "dd\n",
      "5.0326059999999995 5.2287669999999995 11\n",
      "MoviePy - Writing audio in ./data/audio_label_clip/jon_30.wav\n",
      "MoviePy - Done.\n",
      "dd\n",
      "6.301387999999999 7.741288000000001 0\n",
      "MoviePy - Writing audio in ./data/audio_label_clip/negative_219.wav\n",
      "MoviePy - Done.\n",
      "dd\n",
      "7.904841 9.499165 0\n"
     ]
    },
    {
     "name": "stderr",
     "output_type": "stream",
     "text": [
      "chunk:  52%|█████▏    | 334/641 [00:00<00:00, 3339.20it/s, now=None]"
     ]
    },
    {
     "name": "stdout",
     "output_type": "stream",
     "text": [
      "MoviePy - Writing audio in ./data/audio_label_clip/negative_220.wav\n",
      "MoviePy - Done.\n",
      "dd\n",
      "10.626043 39.682805 0\n",
      "MoviePy - Writing audio in ./data/audio_label_clip/negative_221.wav\n"
     ]
    },
    {
     "name": "stderr",
     "output_type": "stream",
     "text": [
      "                                                                    \r"
     ]
    },
    {
     "name": "stdout",
     "output_type": "stream",
     "text": [
      "MoviePy - Done.\n",
      "dd\n",
      "file name:32_jh\n",
      "read new file\n",
      "      start       end  label\n",
      "0  0.013356  0.350584      9\n",
      "1  0.427379  1.402337      0\n",
      "2  1.442404  1.632721      9\n",
      "3  1.666110  2.253756      0\n",
      "4  2.347245  2.570952     12\n",
      "5  2.597663  2.988314      0\n",
      "6  3.058431  3.969950      9\n",
      "0.013356 0.350584 9\n",
      "MoviePy - Writing audio in ./data/audio_label_clip/background_119.wav\n",
      "MoviePy - Done.\n",
      "dd\n",
      "0.427379 1.4023370000000002 0\n",
      "MoviePy - Writing audio in ./data/audio_label_clip/negative_222.wav\n",
      "MoviePy - Done.\n",
      "dd\n",
      "1.442404 1.6327209999999999 9\n"
     ]
    },
    {
     "name": "stderr",
     "output_type": "stream",
     "text": [
      "                                                       "
     ]
    },
    {
     "name": "stdout",
     "output_type": "stream",
     "text": [
      "MoviePy - Writing audio in ./data/audio_label_clip/background_120.wav\n",
      "MoviePy - Done.\n",
      "dd\n",
      "1.6661099999999998 2.253756 0\n",
      "MoviePy - Writing audio in ./data/audio_label_clip/negative_223.wav\n",
      "MoviePy - Done.\n",
      "dd\n",
      "2.347245 2.570952 12\n",
      "MoviePy - Writing audio in ./data/audio_label_clip/sha_110.wav\n",
      "MoviePy - Done.\n",
      "dd\n",
      "2.5976630000000003 2.988314 0\n"
     ]
    },
    {
     "name": "stderr",
     "output_type": "stream",
     "text": [
      "chunk:   0%|          | 0/35 [00:00<?, ?it/s, now=None]"
     ]
    },
    {
     "name": "stdout",
     "output_type": "stream",
     "text": [
      "MoviePy - Writing audio in ./data/audio_label_clip/negative_224.wav\n",
      "MoviePy - Done.\n",
      "dd\n",
      "3.058431 3.96995 9\n",
      "MoviePy - Writing audio in ./data/audio_label_clip/background_121.wav\n",
      "MoviePy - Done.\n",
      "dd\n",
      "file name:0WpR_WuNYc8_4\n",
      "read new file\n",
      "       start        end  label\n",
      "0   5.625492   7.179386      0\n",
      "1   7.179386   8.477577      0\n",
      "2   8.988985   9.480724     10\n",
      "3  11.821400  13.552321      0\n",
      "5.6254919999999995 7.179386 0\n",
      "MoviePy - Writing audio in ./data/audio_label_clip/negative_225.wav\n"
     ]
    },
    {
     "name": "stderr",
     "output_type": "stream",
     "text": [
      "                                                       \r"
     ]
    },
    {
     "name": "stdout",
     "output_type": "stream",
     "text": [
      "MoviePy - Done.\n",
      "dd\n",
      "7.179386 8.477577 0\n",
      "MoviePy - Writing audio in ./data/audio_label_clip/negative_226.wav\n",
      "MoviePy - Done.\n",
      "dd\n",
      "8.988985000000001 9.480724 10\n",
      "MoviePy - Writing audio in ./data/audio_label_clip/shi_40.wav\n",
      "MoviePy - Done.\n",
      "dd\n",
      "11.8214 13.552321 0\n"
     ]
    },
    {
     "name": "stderr",
     "output_type": "stream",
     "text": [
      "                                                       "
     ]
    },
    {
     "name": "stdout",
     "output_type": "stream",
     "text": [
      "MoviePy - Writing audio in ./data/audio_label_clip/negative_227.wav\n",
      "MoviePy - Done.\n",
      "dd\n",
      "file name:_nZDvoRWsYg_34\n",
      "read new file\n",
      "      start       end  label\n",
      "0  0.195909  0.781275      9\n",
      "1  1.838710  2.091267      0\n",
      "2  2.091267  2.393391      0\n",
      "3  2.450039  2.700236     12\n",
      "0.195909 0.781275 9\n",
      "MoviePy - Writing audio in ./data/audio_label_clip/background_122.wav\n",
      "MoviePy - Done.\n",
      "dd\n",
      "1.8387099999999998 2.0912669999999998 0\n",
      "MoviePy - Writing audio in ./data/audio_label_clip/negative_228.wav\n",
      "MoviePy - Done.\n",
      "dd\n",
      "2.0912669999999998 2.393391 0\n"
     ]
    },
    {
     "name": "stderr",
     "output_type": "stream",
     "text": [
      "                                                      "
     ]
    },
    {
     "name": "stdout",
     "output_type": "stream",
     "text": [
      "MoviePy - Writing audio in ./data/audio_label_clip/negative_229.wav\n",
      "MoviePy - Done.\n",
      "dd\n",
      "2.450039 2.700236 12\n",
      "MoviePy - Writing audio in ./data/audio_label_clip/sha_111.wav\n",
      "MoviePy - Done.\n",
      "dd\n",
      "file name:16_jh\n",
      "read new file\n",
      "      start       end  label\n",
      "0  0.180301  0.390651     10\n",
      "1  0.771285  2.050918      0\n",
      "2  2.116027  2.989983      9\n",
      "0.180301 0.390651 10\n",
      "MoviePy - Writing audio in ./data/audio_label_clip/shi_41.wav\n",
      "MoviePy - Done.\n",
      "dd\n",
      "0.771285 2.0509180000000002 0\n"
     ]
    },
    {
     "name": "stderr",
     "output_type": "stream",
     "text": [
      "                                                       "
     ]
    },
    {
     "name": "stdout",
     "output_type": "stream",
     "text": [
      "MoviePy - Writing audio in ./data/audio_label_clip/negative_230.wav\n",
      "MoviePy - Done.\n",
      "dd\n",
      "2.116027 2.989983 9\n",
      "MoviePy - Writing audio in ./data/audio_label_clip/background_123.wav\n",
      "MoviePy - Done.\n",
      "dd\n",
      "file name:0_VHNwx8XVE_50\n",
      "read new file\n",
      "      start       end  label\n",
      "0  0.839496  1.254917     10\n",
      "1  1.549174  1.860740      0\n",
      "2  1.860740  2.483871      0\n",
      "3  4.405193  4.855232      0\n",
      "4  4.915814  5.668765      0\n",
      "5  6.361133  7.763179      9\n",
      "0.8394959999999999 1.254917 10\n",
      "MoviePy - Writing audio in ./data/audio_label_clip/shi_42.wav\n",
      "MoviePy - Done.\n",
      "dd\n",
      "1.549174 1.86074 0\n"
     ]
    },
    {
     "name": "stderr",
     "output_type": "stream",
     "text": [
      "                                                       "
     ]
    },
    {
     "name": "stdout",
     "output_type": "stream",
     "text": [
      "MoviePy - Writing audio in ./data/audio_label_clip/negative_231.wav\n",
      "MoviePy - Done.\n",
      "dd\n",
      "1.86074 2.4838709999999997 0\n",
      "MoviePy - Writing audio in ./data/audio_label_clip/negative_232.wav\n",
      "MoviePy - Done.\n",
      "dd\n",
      "4.405193 4.855232 0\n",
      "MoviePy - Writing audio in ./data/audio_label_clip/negative_233.wav\n",
      "MoviePy - Done.\n",
      "dd\n",
      "4.915814 5.6687650000000005 0\n"
     ]
    },
    {
     "name": "stderr",
     "output_type": "stream",
     "text": [
      "                                                       "
     ]
    },
    {
     "name": "stdout",
     "output_type": "stream",
     "text": [
      "MoviePy - Writing audio in ./data/audio_label_clip/negative_234.wav\n",
      "MoviePy - Done.\n",
      "dd\n",
      "6.361133000000001 7.763178999999999 9\n",
      "MoviePy - Writing audio in ./data/audio_label_clip/background_124.wav\n",
      "MoviePy - Done.\n",
      "dd\n",
      "file name:30_jh\n",
      "read new file\n",
      "      start       end  label\n",
      "0  0.000000  0.405676      0\n",
      "1  0.480801  1.577629      9\n",
      "2  1.622705  2.313856      0\n",
      "3  2.629382  3.005008     10\n",
      "4  3.110184  3.425710     12\n",
      "5  4.432387  5.191152      9\n",
      "6  5.386477  5.934891      0\n",
      "7  5.994992  6.265442     10\n",
      "8  6.626043  7.955760      0\n",
      "9  8.256260  8.541736     10\n",
      "0.0 0.40567600000000004 0\n",
      "MoviePy - Writing audio in ./data/audio_label_clip/negative_235.wav\n"
     ]
    },
    {
     "name": "stderr",
     "output_type": "stream",
     "text": [
      "                                                       \r"
     ]
    },
    {
     "name": "stdout",
     "output_type": "stream",
     "text": [
      "MoviePy - Done.\n",
      "dd\n",
      "0.48080100000000003 1.5776290000000002 9\n",
      "MoviePy - Writing audio in ./data/audio_label_clip/background_125.wav\n",
      "MoviePy - Done.\n",
      "dd\n",
      "1.6227049999999998 2.313856 0\n",
      "MoviePy - Writing audio in ./data/audio_label_clip/negative_236.wav\n",
      "MoviePy - Done.\n",
      "dd\n",
      "2.629382 3.005008 10\n"
     ]
    },
    {
     "name": "stderr",
     "output_type": "stream",
     "text": [
      "                                                       "
     ]
    },
    {
     "name": "stdout",
     "output_type": "stream",
     "text": [
      "MoviePy - Writing audio in ./data/audio_label_clip/shi_43.wav\n",
      "MoviePy - Done.\n",
      "dd\n",
      "3.110184 3.42571 12\n",
      "MoviePy - Writing audio in ./data/audio_label_clip/sha_112.wav\n",
      "MoviePy - Done.\n",
      "dd\n",
      "4.432387 5.191152 9\n",
      "MoviePy - Writing audio in ./data/audio_label_clip/background_126.wav\n",
      "MoviePy - Done.\n",
      "dd\n",
      "5.386476999999999 5.934891 0\n"
     ]
    },
    {
     "name": "stderr",
     "output_type": "stream",
     "text": [
      "                                                       "
     ]
    },
    {
     "name": "stdout",
     "output_type": "stream",
     "text": [
      "MoviePy - Writing audio in ./data/audio_label_clip/negative_237.wav\n",
      "MoviePy - Done.\n",
      "dd\n",
      "5.994992 6.265442 10\n",
      "MoviePy - Writing audio in ./data/audio_label_clip/shi_44.wav\n",
      "MoviePy - Done.\n",
      "dd\n",
      "6.626042999999999 7.955760000000001 0\n",
      "MoviePy - Writing audio in ./data/audio_label_clip/negative_238.wav\n",
      "MoviePy - Done.\n",
      "dd\n",
      "8.256260000000001 8.541736 10\n"
     ]
    },
    {
     "name": "stderr",
     "output_type": "stream",
     "text": [
      "                                                       "
     ]
    },
    {
     "name": "stdout",
     "output_type": "stream",
     "text": [
      "MoviePy - Writing audio in ./data/audio_label_clip/shi_45.wav\n",
      "MoviePy - Done.\n",
      "dd\n",
      "file name:0_VHNwx8XVE_7\n",
      "read new file\n",
      "      start       end  label\n",
      "0  0.849725  1.357199     11\n",
      "1  2.718332  3.233674      0\n",
      "0.849725 1.357199 11\n",
      "MoviePy - Writing audio in ./data/audio_label_clip/jon_31.wav\n",
      "MoviePy - Done.\n",
      "dd\n",
      "2.718332 3.233674 0\n",
      "MoviePy - Writing audio in ./data/audio_label_clip/negative_239.wav\n",
      "MoviePy - Done.\n",
      "dd\n",
      "file name:1cmlJNN5-_U_15\n",
      "read new file\n",
      "       start        end  label\n",
      "0   2.347758   3.638080      9\n",
      "1  13.675846  13.897718     10\n",
      "2  13.949646  14.202990     12\n",
      "3  14.344611  15.697876      0\n",
      "2.3477580000000002 3.6380800000000004 9\n"
     ]
    },
    {
     "name": "stderr",
     "output_type": "stream",
     "text": [
      "                                                       "
     ]
    },
    {
     "name": "stdout",
     "output_type": "stream",
     "text": [
      "MoviePy - Writing audio in ./data/audio_label_clip/background_127.wav\n",
      "MoviePy - Done.\n",
      "dd\n",
      "13.675846 13.897718 10\n",
      "MoviePy - Writing audio in ./data/audio_label_clip/shi_46.wav\n",
      "MoviePy - Done.\n",
      "dd\n",
      "13.949646 14.20299 12\n",
      "MoviePy - Writing audio in ./data/audio_label_clip/sha_113.wav\n",
      "MoviePy - Done.\n",
      "dd\n",
      "14.344610999999999 15.697876 0\n"
     ]
    },
    {
     "name": "stderr",
     "output_type": "stream",
     "text": [
      "                                                       "
     ]
    },
    {
     "name": "stdout",
     "output_type": "stream",
     "text": [
      "MoviePy - Writing audio in ./data/audio_label_clip/negative_240.wav\n",
      "MoviePy - Done.\n",
      "dd\n",
      "file name:22_jh\n",
      "read new file\n",
      "      start        end  label\n",
      "0  1.432387   2.083472     12\n",
      "1  2.409015   4.383973      9\n",
      "2  4.807179   8.594324      0\n",
      "3  8.800501  12.609349      9\n",
      "1.432387 2.083472 12\n",
      "MoviePy - Writing audio in ./data/audio_label_clip/sha_114.wav\n",
      "MoviePy - Done.\n",
      "dd\n",
      "2.409015 4.383973 9\n",
      "MoviePy - Writing audio in ./data/audio_label_clip/background_128.wav\n",
      "MoviePy - Done.\n",
      "dd\n",
      "4.807179 8.594324 0\n"
     ]
    },
    {
     "name": "stderr",
     "output_type": "stream",
     "text": [
      "                                                       "
     ]
    },
    {
     "name": "stdout",
     "output_type": "stream",
     "text": [
      "MoviePy - Writing audio in ./data/audio_label_clip/negative_241.wav\n",
      "MoviePy - Done.\n",
      "dd\n",
      "8.800500999999999 12.609349 9\n",
      "MoviePy - Writing audio in ./data/audio_label_clip/background_129.wav\n",
      "MoviePy - Done.\n",
      "dd\n",
      "file name:1_es\n",
      "read new file\n",
      "      start       end  label\n",
      "0  2.410519  2.780131     13\n",
      "1  5.688824  6.395909     13\n",
      "2  8.669832  8.967129     13\n",
      "2.410519 2.7801310000000004 13\n"
     ]
    },
    {
     "name": "stderr",
     "output_type": "stream",
     "text": [
      "                                                       "
     ]
    },
    {
     "name": "stdout",
     "output_type": "stream",
     "text": [
      "MoviePy - Writing audio in ./data/audio_label_clip/byoung_8.wav\n",
      "MoviePy - Done.\n",
      "dd\n",
      "5.6888239999999985 6.395909 13\n",
      "MoviePy - Writing audio in ./data/audio_label_clip/byoung_9.wav\n",
      "MoviePy - Done.\n",
      "dd\n",
      "8.669832000000001 8.967129 13\n",
      "MoviePy - Writing audio in ./data/audio_label_clip/byoung_10.wav\n",
      "MoviePy - Done.\n",
      "dd\n",
      "file name:0WpR_WuNYc8_1\n",
      "read new file\n",
      "       start        end  label\n",
      "0   4.972463   7.238395      9\n",
      "1   9.189614  10.171518      0\n",
      "2  12.361920  12.865460     11"
     ]
    },
    {
     "name": "stderr",
     "output_type": "stream",
     "text": [
      "                                                       \r"
     ]
    },
    {
     "name": "stdout",
     "output_type": "stream",
     "text": [
      "\n",
      "4.972462999999999 7.238395 9\n",
      "MoviePy - Writing audio in ./data/audio_label_clip/background_130.wav\n",
      "MoviePy - Done.\n",
      "dd\n",
      "9.189614 10.171517999999999 0\n",
      "MoviePy - Writing audio in ./data/audio_label_clip/negative_242.wav\n",
      "MoviePy - Done.\n",
      "dd\n",
      "12.36192 12.86546 11\n"
     ]
    },
    {
     "name": "stderr",
     "output_type": "stream",
     "text": [
      "                                                       "
     ]
    },
    {
     "name": "stdout",
     "output_type": "stream",
     "text": [
      "MoviePy - Writing audio in ./data/audio_label_clip/jon_32.wav\n",
      "MoviePy - Done.\n",
      "dd\n",
      "file name:14_jh\n",
      "read new file\n",
      "      start       end  label\n",
      "0  0.000000  0.340568      9\n",
      "1  0.360601  0.816361      0\n",
      "2  0.956594  1.547579     10\n",
      "3  1.547579  1.767947     11\n",
      "4  1.858097  5.989983      9\n",
      "0.0 0.340568 9\n",
      "MoviePy - Writing audio in ./data/audio_label_clip/background_131.wav\n",
      "MoviePy - Done.\n",
      "dd\n",
      "0.360601 0.816361 0\n",
      "MoviePy - Writing audio in ./data/audio_label_clip/negative_243.wav\n",
      "MoviePy - Done.\n",
      "dd\n",
      "0.956594 1.547579 10\n"
     ]
    },
    {
     "name": "stderr",
     "output_type": "stream",
     "text": [
      "                                                       "
     ]
    },
    {
     "name": "stdout",
     "output_type": "stream",
     "text": [
      "MoviePy - Writing audio in ./data/audio_label_clip/shi_47.wav\n",
      "MoviePy - Done.\n",
      "dd\n",
      "1.547579 1.7679470000000002 11\n",
      "MoviePy - Writing audio in ./data/audio_label_clip/jon_33.wav\n",
      "MoviePy - Done.\n",
      "dd\n",
      "1.858097 5.9899830000000005 9\n",
      "MoviePy - Writing audio in ./data/audio_label_clip/background_132.wav\n",
      "MoviePy - Done.\n",
      "dd\n",
      "file name:_nZDvoRWsYg_31\n",
      "read new file\n",
      "      start       end  label\n",
      "0  0.996853  1.250197     10\n",
      "1  1.283242  1.531078     11\n",
      "2  1.531078  1.905586      0\n",
      "3  1.905586  2.660110      9\n",
      "4  5.088906  5.270653     11\n",
      "0.9968530000000001 1.250197 10\n"
     ]
    },
    {
     "name": "stderr",
     "output_type": "stream",
     "text": [
      "                                                      "
     ]
    },
    {
     "name": "stdout",
     "output_type": "stream",
     "text": [
      "MoviePy - Writing audio in ./data/audio_label_clip/shi_48.wav\n",
      "MoviePy - Done.\n",
      "dd\n",
      "1.283242 1.5310780000000002 11\n",
      "MoviePy - Writing audio in ./data/audio_label_clip/jon_34.wav\n",
      "MoviePy - Done.\n",
      "dd\n",
      "1.5310780000000002 1.905586 0\n",
      "MoviePy - Writing audio in ./data/audio_label_clip/negative_244.wav\n",
      "MoviePy - Done.\n",
      "dd\n",
      "1.905586 2.66011 9\n"
     ]
    },
    {
     "name": "stderr",
     "output_type": "stream",
     "text": [
      "chunk:   0%|          | 0/95 [00:00<?, ?it/s, now=None]"
     ]
    },
    {
     "name": "stdout",
     "output_type": "stream",
     "text": [
      "MoviePy - Writing audio in ./data/audio_label_clip/background_133.wav\n",
      "MoviePy - Done.\n",
      "dd\n",
      "5.088906 5.270653 11\n",
      "MoviePy - Writing audio in ./data/audio_label_clip/jon_35.wav\n",
      "MoviePy - Done.\n",
      "dd\n",
      "file name:18_jh\n",
      "read new file\n",
      "      start       end  label\n",
      "0  0.000000  4.301165      0\n",
      "1  4.708819  5.024958     11\n",
      "2  5.191348  8.294509      0\n",
      "3  8.394343  9.658902      9\n",
      "0.0 4.301165 0\n",
      "MoviePy - Writing audio in ./data/audio_label_clip/negative_245.wav\n"
     ]
    },
    {
     "name": "stderr",
     "output_type": "stream",
     "text": [
      "                                                       \r"
     ]
    },
    {
     "name": "stdout",
     "output_type": "stream",
     "text": [
      "MoviePy - Done.\n",
      "dd\n",
      "4.708819 5.024958 11\n",
      "MoviePy - Writing audio in ./data/audio_label_clip/jon_36.wav\n",
      "MoviePy - Done.\n",
      "dd\n",
      "5.1913480000000005 8.294509 0\n",
      "MoviePy - Writing audio in ./data/audio_label_clip/negative_246.wav\n",
      "MoviePy - Done.\n",
      "dd\n",
      "8.394343 9.658902000000001 9\n"
     ]
    },
    {
     "name": "stderr",
     "output_type": "stream",
     "text": [
      "chunk:   0%|          | 0/9 [00:00<?, ?it/s, now=None] "
     ]
    },
    {
     "name": "stdout",
     "output_type": "stream",
     "text": [
      "MoviePy - Writing audio in ./data/audio_label_clip/background_134.wav\n",
      "MoviePy - Done.\n",
      "dd\n",
      "file name:30_es\n",
      "read new file\n",
      "       start        end  label\n",
      "0  12.128561  12.639883   10.0\n",
      "1  13.989774  14.368152   12.0\n",
      "2  16.147553  16.781592    9.0\n",
      "3  23.950329  25.218408    0.0\n",
      "12.128561 12.639883 10.0\n",
      "MoviePy - Writing audio in ./data/audio_label_clip/shi_49.wav\n",
      "MoviePy - Done.\n",
      "dd\n",
      "13.989773999999999 14.368151999999998 12.0\n",
      "MoviePy - Writing audio in ./data/audio_label_clip/sha_115.wav\n"
     ]
    },
    {
     "name": "stderr",
     "output_type": "stream",
     "text": [
      "                                                       \r"
     ]
    },
    {
     "name": "stdout",
     "output_type": "stream",
     "text": [
      "MoviePy - Done.\n",
      "dd\n",
      "16.147553 16.781592 9.0\n",
      "MoviePy - Writing audio in ./data/audio_label_clip/background_135.wav\n",
      "MoviePy - Done.\n",
      "dd\n",
      "23.950329 25.218408 0.0\n",
      "MoviePy - Writing audio in ./data/audio_label_clip/negative_247.wav\n",
      "MoviePy - Done.\n",
      "dd\n",
      "file name:41_es\n",
      "read new file\n",
      "       start        end  label\n",
      "0   5.992695   7.485756    9.0\n",
      "1   9.653762  10.471877    0.0\n",
      "2  13.371074  15.150475    9.0\n",
      "3  17.037253  17.671293   12.0\n",
      "4  23.904310  24.364500    0.0\n",
      "5.992694999999999 7.485755999999999 9.0\n"
     ]
    },
    {
     "name": "stderr",
     "output_type": "stream",
     "text": [
      "chunk:   0%|          | 0/40 [00:00<?, ?it/s, now=None]"
     ]
    },
    {
     "name": "stdout",
     "output_type": "stream",
     "text": [
      "MoviePy - Writing audio in ./data/audio_label_clip/background_136.wav\n",
      "MoviePy - Done.\n",
      "dd\n",
      "9.653762 10.471877000000001 0.0\n",
      "MoviePy - Writing audio in ./data/audio_label_clip/negative_248.wav\n",
      "MoviePy - Done.\n",
      "dd\n",
      "13.371073999999998 15.150475 9.0\n",
      "MoviePy - Writing audio in ./data/audio_label_clip/background_137.wav\n"
     ]
    },
    {
     "name": "stderr",
     "output_type": "stream",
     "text": [
      "                                                       \r"
     ]
    },
    {
     "name": "stdout",
     "output_type": "stream",
     "text": [
      "MoviePy - Done.\n",
      "dd\n",
      "17.037253 17.671293 12.0\n",
      "MoviePy - Writing audio in ./data/audio_label_clip/sha_116.wav\n",
      "MoviePy - Done.\n",
      "dd\n",
      "23.90431 24.3645 0.0\n",
      "MoviePy - Writing audio in ./data/audio_label_clip/negative_249.wav\n",
      "MoviePy - Done.\n",
      "dd\n",
      "file name:0WpR_WuNYc8_3\n",
      "read new file\n",
      "       start        end  label\n",
      "0   1.177026   3.210071      0\n",
      "1   4.039339   8.051928      9\n",
      "2  32.314713  33.090480     10\n",
      "1.1770260000000001 3.210071 0\n"
     ]
    },
    {
     "name": "stderr",
     "output_type": "stream",
     "text": [
      "chunk:   0%|          | 0/18 [00:00<?, ?it/s, now=None]"
     ]
    },
    {
     "name": "stdout",
     "output_type": "stream",
     "text": [
      "MoviePy - Writing audio in ./data/audio_label_clip/negative_250.wav\n",
      "MoviePy - Done.\n",
      "dd\n",
      "4.039339 8.051928 9\n",
      "MoviePy - Writing audio in ./data/audio_label_clip/background_138.wav\n",
      "MoviePy - Done.\n",
      "dd\n",
      "32.314713 33.09048 10\n",
      "MoviePy - Writing audio in ./data/audio_label_clip/shi_50.wav\n"
     ]
    },
    {
     "name": "stderr",
     "output_type": "stream",
     "text": [
      "                                                       \r"
     ]
    },
    {
     "name": "stdout",
     "output_type": "stream",
     "text": [
      "MoviePy - Done.\n",
      "dd\n",
      "file name:22_es\n",
      "read new file\n",
      "      start       end  label\n",
      "0  0.357925  0.828342     12\n",
      "1  1.252739  1.948137      0\n",
      "0.357925 0.828342 12\n",
      "MoviePy - Writing audio in ./data/audio_label_clip/sha_117.wav\n",
      "MoviePy - Done.\n",
      "dd\n",
      "1.252739 1.948137 0\n",
      "MoviePy - Writing audio in ./data/audio_label_clip/negative_251.wav\n",
      "MoviePy - Done.\n",
      "dd\n",
      "file name:1_jh\n",
      "read new file\n",
      "       start        end  label\n",
      "0   1.582031   2.109375     10\n",
      "1   3.234375   3.937500     12\n",
      "2   6.925781   7.523438     10\n",
      "3  10.582031  17.859375      0\n",
      "1.582031 2.109375 10\n"
     ]
    },
    {
     "name": "stderr",
     "output_type": "stream",
     "text": [
      "                                                       "
     ]
    },
    {
     "name": "stdout",
     "output_type": "stream",
     "text": [
      "MoviePy - Writing audio in ./data/audio_label_clip/shi_51.wav\n",
      "MoviePy - Done.\n",
      "dd\n",
      "3.234375 3.9375 12\n",
      "MoviePy - Writing audio in ./data/audio_label_clip/sha_118.wav\n",
      "MoviePy - Done.\n",
      "dd\n",
      "6.925781 7.5234380000000005 10\n",
      "MoviePy - Writing audio in ./data/audio_label_clip/shi_52.wav\n",
      "MoviePy - Done.\n",
      "dd\n",
      "10.582031 17.859375 0\n",
      "MoviePy - Writing audio in ./data/audio_label_clip/negative_252.wav\n"
     ]
    },
    {
     "name": "stderr",
     "output_type": "stream",
     "text": [
      "                                                        \r"
     ]
    },
    {
     "name": "stdout",
     "output_type": "stream",
     "text": [
      "MoviePy - Done.\n",
      "dd\n",
      "file name:14_es\n",
      "read new file\n",
      "       start        end  label\n",
      "0   1.619474   2.245789    9.0\n",
      "1   2.487368   2.961579   12.0\n",
      "2   4.160526   4.616842   11.0\n",
      "3   6.504737   6.996842   12.0\n",
      "4  10.692105  11.425789    0.0\n",
      "5  11.846316  12.571053    0.0\n",
      "6  12.785789  13.394211    0.0\n",
      "7  15.586316  16.713684    9.0\n",
      "1.619474 2.245789 9.0\n",
      "MoviePy - Writing audio in ./data/audio_label_clip/background_139.wav\n",
      "MoviePy - Done.\n",
      "dd\n",
      "2.487368 2.961579 12.0\n",
      "MoviePy - Writing audio in ./data/audio_label_clip/sha_119.wav\n",
      "MoviePy - Done.\n",
      "dd\n",
      "4.160526 4.616842 11.0\n"
     ]
    },
    {
     "name": "stderr",
     "output_type": "stream",
     "text": [
      "chunk:   0%|          | 0/17 [00:00<?, ?it/s, now=None]"
     ]
    },
    {
     "name": "stdout",
     "output_type": "stream",
     "text": [
      "MoviePy - Writing audio in ./data/audio_label_clip/jon_37.wav\n",
      "MoviePy - Done.\n",
      "dd\n",
      "6.504737 6.996842 12.0\n",
      "MoviePy - Writing audio in ./data/audio_label_clip/sha_120.wav\n",
      "MoviePy - Done.\n",
      "dd\n",
      "10.692105 11.425789 0.0\n",
      "MoviePy - Writing audio in ./data/audio_label_clip/negative_253.wav\n"
     ]
    },
    {
     "name": "stderr",
     "output_type": "stream",
     "text": [
      "                                                       \r"
     ]
    },
    {
     "name": "stdout",
     "output_type": "stream",
     "text": [
      "MoviePy - Done.\n",
      "dd\n",
      "11.846316 12.571053 0.0\n",
      "MoviePy - Writing audio in ./data/audio_label_clip/negative_254.wav\n",
      "MoviePy - Done.\n",
      "dd\n",
      "12.785789 13.394210999999999 0.0\n",
      "MoviePy - Writing audio in ./data/audio_label_clip/negative_255.wav\n",
      "MoviePy - Done.\n",
      "dd\n",
      "15.586316 16.713684 9.0\n"
     ]
    },
    {
     "name": "stderr",
     "output_type": "stream",
     "text": [
      "chunk:   0%|          | 0/30 [00:00<?, ?it/s, now=None]"
     ]
    },
    {
     "name": "stdout",
     "output_type": "stream",
     "text": [
      "MoviePy - Writing audio in ./data/audio_label_clip/background_140.wav\n",
      "MoviePy - Done.\n",
      "dd\n",
      "file name:18_es\n",
      "read new file\n",
      "       start        end  label\n",
      "0   2.914536   3.753104   12.0\n",
      "1   4.109250   5.465404    9.0\n",
      "2   6.281136   7.076475   10.0\n",
      "3   7.749454   8.646759    0.0\n",
      "4  10.573926  11.685361    0.0\n",
      "2.914536 3.753104 12.0\n",
      "MoviePy - Writing audio in ./data/audio_label_clip/sha_121.wav\n",
      "MoviePy - Done.\n",
      "dd\n",
      "4.10925 5.465404 9.0\n",
      "MoviePy - Writing audio in ./data/audio_label_clip/background_141.wav\n"
     ]
    },
    {
     "name": "stderr",
     "output_type": "stream",
     "text": [
      "                                                       \r"
     ]
    },
    {
     "name": "stdout",
     "output_type": "stream",
     "text": [
      "MoviePy - Done.\n",
      "dd\n",
      "6.281136 7.076475 10.0\n",
      "MoviePy - Writing audio in ./data/audio_label_clip/shi_53.wav\n",
      "MoviePy - Done.\n",
      "dd\n",
      "7.749453999999999 8.646759 0.0\n",
      "MoviePy - Writing audio in ./data/audio_label_clip/negative_256.wav\n",
      "MoviePy - Done.\n",
      "dd\n",
      "10.573926 11.685361 0.0\n"
     ]
    },
    {
     "name": "stderr",
     "output_type": "stream",
     "text": [
      "chunk:   0%|          | 0/17 [00:00<?, ?it/s, now=None]"
     ]
    },
    {
     "name": "stdout",
     "output_type": "stream",
     "text": [
      "MoviePy - Writing audio in ./data/audio_label_clip/negative_257.wav\n",
      "MoviePy - Done.\n",
      "dd\n",
      "file name:_II4tiuY9h8_31\n",
      "read new file\n",
      "       start        end  label\n",
      "0   2.612903   3.207710      0\n",
      "1   3.781275   4.524784      9\n",
      "2  18.731117  19.063041     11\n",
      "2.6129029999999998 3.20771 0\n",
      "MoviePy - Writing audio in ./data/audio_label_clip/negative_258.wav\n",
      "MoviePy - Done.\n",
      "dd\n",
      "3.781275 4.5247839999999995 9\n",
      "MoviePy - Writing audio in ./data/audio_label_clip/background_142.wav\n"
     ]
    },
    {
     "name": "stderr",
     "output_type": "stream",
     "text": [
      "                                                       \r"
     ]
    },
    {
     "name": "stdout",
     "output_type": "stream",
     "text": [
      "MoviePy - Done.\n",
      "dd\n",
      "18.731117 19.063041000000002 11\n",
      "MoviePy - Writing audio in ./data/audio_label_clip/jon_38.wav\n",
      "MoviePy - Done.\n",
      "dd\n"
     ]
    }
   ],
   "source": [
    "audio = []\n",
    "label = []\n",
    "shi = 0\n",
    "jon = 0\n",
    "sha = 0\n",
    "byoung = 0\n",
    "background = 0\n",
    "negative = 0\n",
    "count = 0\n",
    "\n",
    "for file in files:\n",
    "    print(\"file name:\" + file)\n",
    "    text = './data/label/' + file + \".txt\"\n",
    "    aud = './data/label/' + file + \".wav\"\n",
    "    print(\"read new file\")\n",
    "    data = pd.read_csv(text, sep=\"\\t\", names=['start', 'end', 'label'])\n",
    "    print(data)\n",
    "#     data.start.astype('float')\n",
    "#     data.end.astype('float')\n",
    "    for i in range(len(data)):\n",
    "        lab = data.label[i]\n",
    "        print(data.start[i], data.end[i], data.label[i])\n",
    "        try:\n",
    "            start = float(data.start[i])\n",
    "            end = float(data.end[i])\n",
    "        except ValueError:\n",
    "            continue\n",
    "        if start >= end:\n",
    "            continue\n",
    "        if np.array(data.label[i])==np.nan:\n",
    "            continue\n",
    "        full_audio = AudioFileClip(aud)\n",
    "        if(lab==10): #shi\n",
    "            name = \"shi_\" + str(shi)\n",
    "            shi += 1\n",
    "        elif(lab==11): #jon \n",
    "            name = \"jon_\" + str(jon)\n",
    "            jon += 1\n",
    "        elif(lab==12): #sha\n",
    "            name = \"sha_\" + str(sha)\n",
    "            sha += 1\n",
    "        elif(lab==13): #byoung\n",
    "            name = \"byoung_\" + str(byoung)\n",
    "            byoung += 1\n",
    "        elif(lab==9): #background\n",
    "            name = \"background_\" + str(background)\n",
    "            background+= 1\n",
    "        elif(lab==0): #negative\n",
    "            name = \"negative_\" + str(negative)\n",
    "            negative += 1\n",
    "        tmp_audio = full_audio.subclip(start, end)\n",
    "        name = os.path.join(audio_label_clip_dir,  name + \".wav\")\n",
    "        try:\n",
    "            tmp_audio.write_audiofile(name)\n",
    "        except OSError:\n",
    "            print('oserror')\n",
    "            continue\n",
    "            \n",
    "        audio.append(name + \".wav\")\n",
    "        label.append(int(lab))\n",
    "        print('dd')\n",
    "    count += 1\n",
    "save(audio, label)"
   ]
  },
  {
   "cell_type": "code",
   "execution_count": null,
   "metadata": {},
   "outputs": [],
   "source": []
  }
 ],
 "metadata": {
  "kernelspec": {
   "display_name": "pytube",
   "language": "python",
   "name": "pytube"
  },
  "language_info": {
   "codemirror_mode": {
    "name": "ipython",
    "version": 3
   },
   "file_extension": ".py",
   "mimetype": "text/x-python",
   "name": "python",
   "nbconvert_exporter": "python",
   "pygments_lexer": "ipython3",
   "version": "3.5.3"
  }
 },
 "nbformat": 4,
 "nbformat_minor": 2
}
