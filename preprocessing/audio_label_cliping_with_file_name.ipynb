{
 "cells": [
  {
   "cell_type": "code",
   "execution_count": 2,
   "metadata": {},
   "outputs": [],
   "source": [
    "## pip install moviepy==1.0.0\n",
    "\n",
    "import os\n",
    "import librosa\n",
    "import pandas as pd\n",
    "from moviepy.editor import *\n",
    "from tqdm import tqdm_notebook\n",
    "import numpy as np"
   ]
  },
  {
   "cell_type": "code",
   "execution_count": 3,
   "metadata": {},
   "outputs": [],
   "source": [
    "#from utils import make_dir\n",
    "def make_dir(dir_):\n",
    "    if not os.path.isdir(dir_):\n",
    "        os.mkdir(dir_)"
   ]
  },
  {
   "cell_type": "code",
   "execution_count": 4,
   "metadata": {},
   "outputs": [],
   "source": [
    "audio_label_clip_dir = os.path.join('.', 'data', 'audio_label_clip')\n",
    "make_dir(audio_label_clip_dir)"
   ]
  },
  {
   "cell_type": "code",
   "execution_count": 6,
   "metadata": {},
   "outputs": [],
   "source": [
    "def save(audios, label):\n",
    "    data = pd.DataFrame({\n",
    "        'audios':audio, 'label':label })\n",
    "    data.to_csv(audio_label_clip_dir+'/audio_label_clip.csv', index=False, encoding='utf8')"
   ]
  },
  {
   "cell_type": "code",
   "execution_count": 7,
   "metadata": {},
   "outputs": [],
   "source": [
    "## 레이블링 데이터 위치 : ./data/label\n",
    "files = []\n",
    "for file in os.listdir(os.path.join('.', 'data', 'label')):\n",
    "    _, file_id = os.path.split(file)\n",
    "    if file_id.endswith('txt'):\n",
    "        name = file_id.split(\".\")[0]\n",
    "        if(name not in files):\n",
    "            files.append(name)"
   ]
  },
  {
   "cell_type": "code",
   "execution_count": 11,
   "metadata": {},
   "outputs": [
    {
     "name": "stderr",
     "output_type": "stream",
     "text": "chunk:   0%|          | 0/27 [00:00<?, ?it/s, now=None]file name:u1722515\nread new file\n      start       end  label\n0  0.055389  0.822929      1\n1  2.255142  3.442059      1\n2  7.176891  8.031471      1\n0.055389 0.8229290000000001 1\nMoviePy - Writing audio in ./data/audio_label_clip/u1722515_0.mp3\nMoviePy - Done.\n2.2551419999999998 3.4420589999999995 1\nMoviePy - Writing audio in ./data/audio_label_clip/u1722515_1.mp3\nchunk:   0%|          | 0/33 [00:00<?, ?it/s, now=None]MoviePy - Done.\n7.176891 8.031471 1\nMoviePy - Writing audio in ./data/audio_label_clip/u1722515_2.mp3\nMoviePy - Done.\nfile name:u1722694\nread new file\n      start       end  label\n0  0.803111  2.281566      1\n1  3.906041  4.928183      1\n2  6.169354  7.209749      1\n0.803111 2.281566 1\nMoviePy - Writing audio in ./data/audio_label_clip/u1722694_0.mp3\nchunk:   0%|          | 0/23 [00:00<?, ?it/s, now=None]MoviePy - Done.\n3.9060410000000005 4.928183 1\nMoviePy - Writing audio in ./data/audio_label_clip/u1722694_1.mp3\nMoviePy - Done.\n6.169354 7.209749 1\nMoviePy - Writing audio in ./data/audio_label_clip/u1722694_2.mp3\nException ignored in: <function AudioFileClip.__del__ at 0x1c260e7170>\nTraceback (most recent call last):\n  File \"/Users/dizwe/anaconda3/envs/tobigs/lib/python3.7/site-packages/moviepy/audio/io/AudioFileClip.py\", line 94, in __del__\n    self.close()\n  File \"/Users/dizwe/anaconda3/envs/tobigs/lib/python3.7/site-packages/moviepy/audio/io/AudioFileClip.py\", line 89, in close\n    if self.reader:\nAttributeError: 'AudioFileClip' object has no attribute 'reader'\nchunk:   0%|          | 0/30 [00:00<?, ?it/s, now=None]MoviePy - Done.\nfile name:u1723039\nread new file\n      start       end  label\n0  0.095058  1.074156      1\n1  2.519039  3.868863      1\n2  5.085606  5.475344      1\n3  9.163597  9.629382      1\n0.095058 1.0741559999999999 1\nMoviePy - Writing audio in ./data/audio_label_clip/u1723039_0.mp3\nMoviePy - Done.\n2.519039 3.8688629999999997 1\nMoviePy - Writing audio in ./data/audio_label_clip/u1723039_1.mp3\nchunk:   0%|          | 0/11 [00:00<?, ?it/s, now=None]MoviePy - Done.\n5.085605999999999 5.475344000000001 1\nMoviePy - Writing audio in ./data/audio_label_clip/u1723039_2.mp3\nMoviePy - Done.\n9.163597 9.629382000000001 1\nMoviePy - Writing audio in ./data/audio_label_clip/u1723039_3.mp3\nMoviePy - Done.\n"
    }
   ],
   "source": [
    "audio = []\n",
    "label = []\n",
    "\n",
    "for file in files:\n",
    "    print(\"file name:\" + file)\n",
    "    text = './data/label/' + file + \".txt\"\n",
    "    aud = './data/label/' + file + \".mp3\"\n",
    "    print(\"read new file\")\n",
    "    data = pd.read_csv(text, sep=\"\\t\", names=['start', 'end', 'label'])\n",
    "    print(data)\n",
    "#     data.start.astype('float')\n",
    "#     data.end.astype('float')\n",
    "    # 각 file 별로 자른 label find\n",
    "    for i in range(len(data)):\n",
    "        lab = data.label[i]\n",
    "        print(data.start[i], data.end[i], data.label[i])\n",
    "        try:\n",
    "            start = float(data.start[i])\n",
    "            end = float(data.end[i])\n",
    "        except ValueError:\n",
    "            continue\n",
    "        if start >= end:\n",
    "            continue\n",
    "        if np.array(data.label[i])==np.nan:\n",
    "            continue\n",
    "\n",
    "        full_audio = AudioFileClip(aud)\n",
    "        if(lab==1): \n",
    "            name = f\"{file}_{i}\"\n",
    "\n",
    "        tmp_audio = full_audio.subclip(start, end)\n",
    "        name = os.path.join(audio_label_clip_dir,  name + \".mp3\")\n",
    "        try:\n",
    "            tmp_audio.write_audiofile(name)\n",
    "        except OSError:\n",
    "            print('oserror')\n",
    "            continue\n",
    "            \n",
    "        audio.append(name + \".mp3\")\n",
    "        label.append(int(lab))\n",
    "save(audio, label)"
   ]
  },
  {
   "cell_type": "code",
   "execution_count": null,
   "metadata": {},
   "outputs": [],
   "source": []
  }
 ],
 "metadata": {
  "kernelspec": {
   "display_name": "Python 3.7.4 64-bit ('tobigs': conda)",
   "language": "python",
   "name": "python37464bittobigsconda8699e563d81b43e6a41cb6dbac1aa41e"
  },
  "language_info": {
   "codemirror_mode": {
    "name": "ipython",
    "version": 3
   },
   "file_extension": ".py",
   "mimetype": "text/x-python",
   "name": "python",
   "nbconvert_exporter": "python",
   "pygments_lexer": "ipython3",
   "version": "3.7.4-final"
  }
 },
 "nbformat": 4,
 "nbformat_minor": 2
}