{
 "cells": [
  {
   "cell_type": "code",
   "execution_count": 7,
   "metadata": {},
   "outputs": [],
   "source": [
    "## pip install moviepy==1.0.0\n",
    "\n",
    "import os\n",
    "import librosa\n",
    "import pandas as pd\n",
    "from moviepy.editor import *\n",
    "from tqdm import tqdm_notebook\n",
    "import numpy as np"
   ]
  },
  {
   "cell_type": "code",
   "execution_count": 8,
   "metadata": {},
   "outputs": [],
   "source": [
    "#from utils import make_dir\n",
    "def make_dir(dir_):\n",
    "    if not os.path.isdir(dir_):\n",
    "        os.mkdir(dir_)"
   ]
  },
  {
   "cell_type": "code",
   "execution_count": 9,
   "metadata": {},
   "outputs": [],
   "source": [
    "audio_label_clip_dir = os.path.join('..', 'data', 'audio_label_clip')\n",
    "make_dir(audio_label_clip_dir)"
   ]
  },
  {
   "cell_type": "code",
   "execution_count": 10,
   "metadata": {},
   "outputs": [],
   "source": [
    "def save(audios, label):\n",
    "    data = pd.DataFrame({\n",
    "        'audios':audio, 'label':label })\n",
    "    data.to_csv(audio_label_clip_dir+'/audio_label_clip.csv', index=False, encoding='utf8')"
   ]
  },
  {
   "cell_type": "code",
   "execution_count": 11,
   "metadata": {},
   "outputs": [],
   "source": [
    "## 레이블링 데이터 위치 : ./data/label\n",
    "files = []\n",
    "for file in os.listdir(os.path.join('..', 'data', 'label')):\n",
    "    _, file_id = os.path.split(file)\n",
    "    if file_id.endswith('txt'):\n",
    "        name = file_id.split(\".\")[0]\n",
    "        if(name not in files):\n",
    "            files.append(name)"
   ]
  },
  {
   "cell_type": "code",
   "execution_count": 13,
   "metadata": {},
   "outputs": [
    {
     "name": "stderr",
     "output_type": "stream",
     "text": "y - Done.\n9.345294 10.057143 1\nMoviePy - Writing audio in ../data/audio_label_clip/u267508_2.mp3\nMoviePy - Done.\nfile name:u259747\nread new file\n      start       end  label\n0  2.153798  3.121182      1\n1  6.388385  7.392274      1\n2.153798 3.121182 1\nMoviePy - Writing audio in ../data/audio_label_clip/u259747_0.mp3\nchunk:   0%|          | 0/23 [00:00<?, ?it/s, now=None]MoviePy - Done.\n6.3883849999999995 7.3922740000000005 1\nMoviePy - Writing audio in ../data/audio_label_clip/u259747_1.mp3\nMoviePy - Done.\nfile name:u719143\nread new file\n      start       end  label\n0  2.425208  4.206759      1\n1  7.539984  8.930743      1\n2.425208 4.206759 1\nMoviePy - Writing audio in ../data/audio_label_clip/u719143_0.mp3\nchunk:   0%|          | 0/31 [00:00<?, ?it/s, now=None]MoviePy - Done.\n7.539984 8.930743 1\nMoviePy - Writing audio in ../data/audio_label_clip/u719143_1.mp3\nMoviePy - Done.\nfile name:u292352\nread new file\n      start       end  label\n0  3.358465  4.617890      1\n1  7.246254  8.560436      1\n3.3584650000000003 4.61789 1\nMoviePy - Writing audio in ../data/audio_label_clip/u292352_0.mp3\nchunk:   0%|          | 0/29 [00:00<?, ?it/s, now=None]MoviePy - Done.\n7.2462539999999995 8.560436 1\nMoviePy - Writing audio in ../data/audio_label_clip/u292352_1.mp3\nMoviePy - Done.\nfile name:u242371\nread new file\n      start        end  label\n0  2.391081   3.504485      1\n1  5.621779   6.844698      1\nchunk:   0%|          | 0/27 [00:00<?, ?it/s, now=None]\n2.3910810000000002 3.504485 1\nMoviePy - Writing audio in ../data/audio_label_clip/u242371_0.mp3\nMoviePy - Done.\n5.621779 6.844697999999999 1\nMoviePy - Writing audio in ../data/audio_label_clip/u242371_1.mp3\nchunk:   0%|          | 0/24 [00:00<?, ?it/s, now=None]MoviePy - Done.\n8.998496000000001 10.057143 1\nMoviePy - Writing audio in ../data/audio_label_clip/u242371_2.mp3\nMoviePy - Done.\nfile name:u272715\nread new file\n      start       end  label\n0  1.040394  1.679233      1\n1  5.786051  7.264506      1\n1.040394 1.6792330000000002 1\nMoviePy - Writing audio in ../data/audio_label_clip/u272715_0.mp3\nchunk:   0%|          | 0/33 [00:00<?, ?it/s, now=None]MoviePy - Done.\n5.7860510000000005 7.264506 1\nMoviePy - Writing audio in ../data/audio_label_clip/u272715_1.mp3\nMoviePy - Done.\nfile name:u704528\nread new file\n      start       end  label\n0  2.528653  4.281469      1\n1  6.781388  8.442253      1\n2.528653 4.281469 1\nchunk:   0%|          | 0/37 [00:00<?, ?it/s, now=None]MoviePy - Writing audio in ../data/audio_label_clip/u704528_0.mp3\nMoviePy - Done.\n6.781388000000001 8.442253 1\nMoviePy - Writing audio in ../data/audio_label_clip/u704528_1.mp3\nchunk:  88%|████████▊ | 42/48 [00:00<00:00, 386.07it/s, now=None]MoviePy - Done.\nfile name:u293306\nread new file\n      start       end  label\n0  3.467980  5.621779      1\n1  7.355769  8.651698      1\n3.4679800000000003 5.621779 1\nMoviePy - Writing audio in ../data/audio_label_clip/u293306_0.mp3\nchunk:   0%|          | 0/29 [00:00<?, ?it/s, now=None]MoviePy - Done.\n7.3557690000000004 8.651698 1\nMoviePy - Writing audio in ../data/audio_label_clip/u293306_1.mp3\nMoviePy - Done.\nfile name:u273796\nread new file\n      start       end  label\n0  0.000000  1.533212      1\n1  3.090075  4.840397      1\n2  6.180149  7.714382      1\n0.0 1.533212 1\nchunk:   0%|          | 0/39 [00:00<?, ?it/s, now=None]MoviePy - Writing audio in ../data/audio_label_clip/u273796_0.mp3\nMoviePy - Done.\n3.090075 4.840397 1\nMoviePy - Writing audio in ../data/audio_label_clip/u273796_1.mp3\nchunk:   0%|          | 0/34 [00:00<?, ?it/s, now=None]MoviePy - Done.\n6.180149 7.7143820000000005 1\nMoviePy - Writing audio in ../data/audio_label_clip/u273796_2.mp3\nMoviePy - Done.\nfile name:u271369\nread new file\n      start       end  label\n0  2.518849  3.960799      1\n1  5.658284  8.067617      1\n2.5188490000000003 3.9607989999999997 1\nchunk:   0%|          | 0/54 [00:00<?, ?it/s, now=None]MoviePy - Writing audio in ../data/audio_label_clip/u271369_0.mp3\nMoviePy - Done.\n5.658284 8.067617 1\nMoviePy - Writing audio in ../data/audio_label_clip/u271369_1.mp3\nchunk:   0%|          | 0/22 [00:00<?, ?it/s, now=None]MoviePy - Done.\nfile name:u204655\nread new file\n      start        end  label\n0  1.326401   2.266635      1\n1  5.280420   6.237443      1\n2  8.814691  10.057143      1\n1.326401 2.266635 1\nMoviePy - Writing audio in ../data/audio_label_clip/u204655_0.mp3\nMoviePy - Done.\n5.2804199999999994 6.237443 1\nMoviePy - Writing audio in ../data/audio_label_clip/u204655_1.mp3\nchunk:   0%|          | 0/28 [00:00<?, ?it/s, now=None]MoviePy - Done.\n8.814691 10.057143 1\nMoviePy - Writing audio in ../data/audio_label_clip/u204655_2.mp3\nMoviePy - Done.\nfile name:u282154\nread new file\n      start       end  label\n0  1.131657  2.719627      1\n1  4.307597  5.603526      1\n2  7.465284  8.596941      1\n1.131657 2.719627 1\nchunk:   0%|          | 0/29 [00:00<?, ?it/s, now=None]MoviePy - Writing audio in ../data/audio_label_clip/u282154_0.mp3\nMoviePy - Done.\n4.307597 5.6035260000000005 1\nMoviePy - Writing audio in ../data/audio_label_clip/u282154_1.mp3\nchunk:   0%|          | 0/21 [00:00<?, ?it/s, now=None]MoviePy - Done.\n7.465284 8.596941000000001 1\nMoviePy - Writing audio in ../data/audio_label_clip/u282154_2.mp3\nMoviePy - Done.\nfile name:u228156\nread new file\n      start       end  label\n0  2.226808  3.139435      1\n1  7.629557  8.998496      1\n2.226808 3.1394349999999998 1\nMoviePy - Writing audio in ../data/audio_label_clip/u228156_0.mp3\nchunk:   0%|          | 0/34 [00:00<?, ?it/s, now=None]MoviePy - Done.\n7.629557000000001 8.998496000000001 1\nMoviePy - Writing audio in ../data/audio_label_clip/u228156_1.mp3\nMoviePy - Done.\nfile name:u248136\nread new file\n      start       end  label\n0  2.117293  3.632253      1\n1  6.187607  7.812082      1\n2.117293 3.632253 1\nMoviePy - Writing audio in ../data/audio_label_clip/u248136_0.mp3\nchunk:   0%|          | 0/36 [00:00<?, ?it/s, now=None]MoviePy - Done.\n6.187607 7.812082000000001 1\nMoviePy - Writing audio in ../data/audio_label_clip/u248136_1.mp3\nMoviePy - Done.\nfile name:u224614\nread new file\n      start        end  label\n0  1.897257   3.567851      1\n1  5.523873   6.917434      1\n2  8.688767  10.057143      1\n1.897257 3.567851 1\nchunk:   0%|          | 0/37 [00:00<?, ?it/s, now=None]MoviePy - Writing audio in ../data/audio_label_clip/u224614_0.mp3\nMoviePy - Done.\n5.523873 6.917434 1\nMoviePy - Writing audio in ../data/audio_label_clip/u224614_1.mp3\nchunk:   0%|          | 0/31 [00:00<?, ?it/s, now=None]MoviePy - Done.\n8.688767 10.057143 1\nMoviePy - Writing audio in ../data/audio_label_clip/u224614_2.mp3\nMoviePy - Done.\nfile name:u210410\nread new file\n      start        end  label\n0  2.652802   4.994992      1\n1  8.084331  10.057143      1\n2.652802 4.994992 1\nchunk:  88%|████████▊ | 46/52 [00:00<00:00, 459.28it/s, now=None]MoviePy - Writing audio in ../data/audio_label_clip/u210410_0.mp3\nMoviePy - Done.\n8.084331 10.057143 1\nchunk:   0%|          | 0/23 [00:00<?, ?it/s, now=None]MoviePy - Writing audio in ../data/audio_label_clip/u210410_1.mp3\nMoviePy - Done.\nfile name:u714654\nread new file\n      start       end  label\n0  1.385012  2.419461      1\n1  4.436637  5.252702      1\n2  7.344588  8.189388      1\n1.3850120000000001 2.419461 1\nMoviePy - Writing audio in ../data/audio_label_clip/u714654_0.mp3\nchunk:   0%|          | 0/19 [00:00<?, ?it/s, now=None]MoviePy - Done.\n4.436637 5.252701999999999 1\nMoviePy - Writing audio in ../data/audio_label_clip/u714654_1.mp3\nMoviePy - Done.\n7.344588000000001 8.189388000000001 1\nMoviePy - Writing audio in ../data/audio_label_clip/u714654_2.mp3\nchunk:   0%|          | 0/38 [00:00<?, ?it/s, now=None]MoviePy - Done.\nfile name:u301737\nread new file\n      start        end  label\n0  1.934768   3.614001      1\n1  5.676536   7.282759      1\n2  8.980244  10.057143      1\n1.934768 3.614001 1\nMoviePy - Writing audio in ../data/audio_label_clip/u301737_0.mp3\nMoviePy - Done.\n5.6765360000000005 7.2827589999999995 1\nchunk:   0%|          | 0/24 [00:00<?, ?it/s, now=None]MoviePy - Writing audio in ../data/audio_label_clip/u301737_1.mp3\nMoviePy - Done.\n8.980244 10.057143 1\nMoviePy - Writing audio in ../data/audio_label_clip/u301737_2.mp3\nchunk:   0%|          | 0/20 [00:00<?, ?it/s, now=None]MoviePy - Done.\nfile name:u261160\nread new file\n      start       end  label\n0  3.796526  4.471869      1\n3.796526 4.471869 1\nMoviePy - Writing audio in ../data/audio_label_clip/u261160_0.mp3\nMoviePy - Done.\nfile name:u704094\nread new file\n      start       end  label\n0  0.902269  1.781551      1\n1  2.810253  3.884931      1\n2  5.011331  5.494073      1\n3  7.172180  8.126171      1\n4  9.143380  9.896229      1\n0.9022690000000001 1.7815509999999999 1\nMoviePy - Writing audio in ../data/audio_label_clip/u704094_0.mp3\nchunk:   0%|          | 0/11 [00:00<?, ?it/s, now=None]MoviePy - Done.\n2.810253 3.884931 1\nMoviePy - Writing audio in ../data/audio_label_clip/u704094_1.mp3\nMoviePy - Done.\n5.011331 5.494073 1\nMoviePy - Writing audio in ../data/audio_label_clip/u704094_2.mp3\nchunk:   0%|          | 0/17 [00:00<?, ?it/s, now=None]MoviePy - Done.\n7.17218 8.126171000000001 1\nMoviePy - Writing audio in ../data/audio_label_clip/u704094_3.mp3\nMoviePy - Done.\n9.14338 9.896229 1\nMoviePy - Writing audio in ../data/audio_label_clip/u704094_4.mp3\nchunk:   0%|          | 0/29 [00:00<?, ?it/s, now=None]MoviePy - Done.\nfile name:u282365\nread new file\n      start       end  label\n0  1.514960  2.956910      1\n1  4.763910  6.059839      1\n2  7.885092  9.199274      1\n1.51496 2.9569099999999997 1\nMoviePy - Writing audio in ../data/audio_label_clip/u282365_0.mp3\nMoviePy - Done.\n4.76391 6.059839 1\nMoviePy - Writing audio in ../data/audio_label_clip/u282365_1.mp3\nchunk:   0%|          | 0/34 [00:00<?, ?it/s, now=None]MoviePy - Done.\n7.885092 9.199274 1\nMoviePy - Writing audio in ../data/audio_label_clip/u282365_2.mp3\nMoviePy - Done.\nfile name:u291127\nread new file\n     start      end  label\n0  6.57091  8.08587      1\n6.5709100000000005 8.08587 1\nMoviePy - Writing audio in ../data/audio_label_clip/u291127_0.mp3\nchunk:   0%|          | 0/15 [00:00<?, ?it/s, now=None]MoviePy - Done.\nfile name:u216921\nread new file\n      start       end  label\n0  1.460720  1.888862      1\n1  3.416742  4.071548      1\n2  5.817696  6.438922      1\n3  7.807298  8.764321      1\n1.46072 1.8888619999999998 1\nMoviePy - Writing audio in ../data/audio_label_clip/u216921_0.mp3\nMoviePy - Done.\n3.4167419999999997 4.071548 1\nMoviePy - Writing audio in ../data/audio_label_clip/u216921_1.mp3\nchunk:   0%|          | 0/22 [00:00<?, ?it/s, now=None]MoviePy - Done.\n5.817696 6.438922 1\nMoviePy - Writing audio in ../data/audio_label_clip/u216921_2.mp3\nMoviePy - Done.\n7.807297999999999 8.764321 1\nMoviePy - Writing audio in ../data/audio_label_clip/u216921_3.mp3\nchunk:   0%|          | 0/17 [00:00<?, ?it/s, now=None]MoviePy - Done.\nfile name:u309193\nread new file\n      start       end  label\n0  0.427627  1.362070      1\n1  3.484364  4.244589      1\n2  6.683645  8.109066      1\n0.42762700000000003 1.3620700000000001 1\nMoviePy - Writing audio in ../data/audio_label_clip/u309193_0.mp3\nMoviePy - Done.\n3.484364 4.2445889999999995 1\nMoviePy - Writing audio in ../data/audio_label_clip/u309193_1.mp3\nchunk:   0%|          | 0/32 [00:00<?, ?it/s, now=None]MoviePy - Done.\n6.683644999999999 8.109066 1\nMoviePy - Writing audio in ../data/audio_label_clip/u309193_2.mp3\nMoviePy - Done.\nfile name:u704654\nread new file\n      start        end  label\n0  3.557355   5.057306      1\n1  9.626122  10.097371      1\n3.5573550000000003 5.057306 1\nchunk:   0%|          | 0/11 [00:00<?, ?it/s, now=None]\nMoviePy - Done.\n9.626122 10.097371 1\nMoviePy - Writing audio in ../data/audio_label_clip/u704654_1.mp3\noserror\nchunk:   0%|          | 0/20 [00:00<?, ?it/s, now=None]file name:u284937\nread new file\n      start       end  label\n0  0.000000  0.894374      1\n1  3.157687  4.179829      1\n2  8.688203  9.828986      1\n0.0 0.894374 1\nMoviePy - Writing audio in ../data/audio_label_clip/u284937_0.mp3\nMoviePy - Done.\n3.1576869999999997 4.179829 1\nchunk:   0%|          | 0/26 [00:00<?, ?it/s, now=None]MoviePy - Writing audio in ../data/audio_label_clip/u284937_1.mp3\nMoviePy - Done.\n8.688203 9.828986 1\nMoviePy - Writing audio in ../data/audio_label_clip/u284937_2.mp3\nchunk:   0%|          | 0/25 [00:00<?, ?it/s, now=None]MoviePy - Done.\nfile name:u311521\nread new file\n      start       end  label\n0  1.235366  2.439055      1\n1  5.955096  7.079595      1\n1.235366 2.4390549999999998 1\nMoviePy - Writing audio in ../data/audio_label_clip/u311521_0.mp3\nMoviePy - Done.\n5.955096 7.079594999999999 1\nMoviePy - Writing audio in ../data/audio_label_clip/u311521_1.mp3\nchunk:   0%|          | 0/17 [00:00<?, ?it/s, now=None]MoviePy - Done.\nfile name:u310560\nread new file\n      start       end  label\n0  0.094433  0.550861      1\n1  3.415336  4.170803      1\n2  6.153901  7.428750      1\n0.094433 0.5508609999999999 1\nMoviePy - Writing audio in ../data/audio_label_clip/u310560_0.mp3\nMoviePy - Done.\n3.415336 4.170803 1\nMoviePy - Writing audio in ../data/audio_label_clip/u310560_1.mp3\nchunk:   0%|          | 0/29 [00:00<?, ?it/s, now=None]MoviePy - Done.\n6.153901 7.42875 1\nMoviePy - Writing audio in ../data/audio_label_clip/u310560_2.mp3\nMoviePy - Done.\nfile name:u296249\nread new file\n      start        end  label\n0  2.372829   3.760021      1\n1  5.877314   6.443142      1\n2  9.454809  10.057143      1\n2.3728290000000003 3.760021 1\nMoviePy - Writing audio in ../data/audio_label_clip/u296249_0.mp3\nchunk:   0%|          | 0/14 [00:00<?, ?it/s, now=None]MoviePy - Done.\n5.877314 6.443142 1\nMoviePy - Writing audio in ../data/audio_label_clip/u296249_1.mp3\nMoviePy - Done.\n9.454809 10.057143 1\nMoviePy - Writing audio in ../data/audio_label_clip/u296249_2.mp3\nchunk:   0%|          | 0/35 [00:00<?, ?it/s, now=None]MoviePy - Done.\nfile name:u295620\nread new file\n      start       end  label\n0  1.733990  3.303708      1\n1  4.964688  6.497900      1\n2  8.341405  9.746850      1\n1.7339900000000001 3.3037080000000003 1\nMoviePy - Writing audio in ../data/audio_label_clip/u295620_0.mp3\nMoviePy - Done.\n4.964688 6.4979 1\nMoviePy - Writing audio in ../data/audio_label_clip/u295620_1.mp3\nchunk:   0%|          | 0/42 [00:00<?, ?it/s, now=None]MoviePy - Done.\n8.341405 9.74685 1\nMoviePy - Writing audio in ../data/audio_label_clip/u295620_2.mp3\nMoviePy - Done.\nfile name:u205541\nread new file\n      start        end  label\n0  0.486907   2.367374      1\n1  3.979203   5.372764      1\n2  7.236442   8.243835      1\n3  9.822084  10.048748      1\n0.486907 2.3673740000000003 1\nMoviePy - Writing audio in ../data/audio_label_clip/u205541_0.mp3\nchunk:   0%|          | 0/31 [00:00<?, ?it/s, now=None]MoviePy - Done.\n3.979203 5.372764 1\nMoviePy - Writing audio in ../data/audio_label_clip/u205541_1.mp3\nMoviePy - Done.\n7.236442 8.243835 1\nchunk:   0%|          | 0/5 [00:00<?, ?it/s, now=None]MoviePy - Writing audio in ../data/audio_label_clip/u205541_2.mp3\nMoviePy - Done.\n9.822084 10.048748 1\nMoviePy - Writing audio in ../data/audio_label_clip/u205541_3.mp3\nMoviePy - Done.\nfile name:u228189\nread new file\n      start       end  label\n0  0.474566  1.807000      1\n1  3.157687  4.398859      1\n2  5.749546  6.771688      1\n3  8.304900  9.290537      1\n0.474566 1.807 1\nchunk:   0%|          | 0/28 [00:00<?, ?it/s, now=None]MoviePy - Writing audio in ../data/audio_label_clip/u228189_0.mp3\nMoviePy - Done.\n3.1576869999999997 4.398859 1\nMoviePy - Writing audio in ../data/audio_label_clip/u228189_1.mp3\nchunk:   0%|          | 0/23 [00:00<?, ?it/s, now=None]MoviePy - Done.\n5.749546 6.771688 1\nMoviePy - Writing audio in ../data/audio_label_clip/u228189_2.mp3\nMoviePy - Done.\n8.3049 9.290536999999999 1\nchunk:   0%|          | 0/38 [00:00<?, ?it/s, now=None]MoviePy - Writing audio in ../data/audio_label_clip/u228189_3.mp3\nMoviePy - Done.\nfile name:u296934\nread new file\n      start       end  label\n0  0.876121  2.591859      1\n1  4.143324  5.658284      1\n2  8.067617  9.381799      1\n0.8761209999999999 2.591859 1\nMoviePy - Writing audio in ../data/audio_label_clip/u296934_0.mp3\nchunk:   0%|          | 0/29 [00:00<?, ?it/s, now=None]MoviePy - Done.\n4.143324 5.658284 1\nMoviePy - Writing audio in ../data/audio_label_clip/u296934_1.mp3\nMoviePy - Done.\n8.067617 9.381799 1\nMoviePy - Writing audio in ../data/audio_label_clip/u296934_2.mp3\nchunk:   0%|          | 0/33 [00:00<?, ?it/s, now=None]MoviePy - Done.\nfile name:u719772\nread new file\n      start       end  label\n0  3.758498  4.132049      1\n1  6.591739  8.085943      1\n3.7584980000000003 4.132048999999999 1\nMoviePy - Writing audio in ../data/audio_label_clip/u719772_0.mp3\nMoviePy - Done.\n6.591739 8.085942999999999 1\nMoviePy - Writing audio in ../data/audio_label_clip/u719772_1.mp3\nchunk:   0%|          | 0/46 [00:00<?, ?it/s, now=None]MoviePy - Done.\nfile name:u217032\nread new file\n      start       end  label\n0  0.000000  2.056761      1\n1  3.676985  5.473503      1\n0.0 2.056761 1\nMoviePy - Writing audio in ../data/audio_label_clip/u217032_0.mp3\nMoviePy - Done.\n3.6769849999999997 5.473503 1\nchunk:   0%|          | 0/23 [00:00<?, ?it/s, now=None]MoviePy - Writing audio in ../data/audio_label_clip/u217032_1.mp3\nMoviePy - Done.\nfile name:u304674\nread new file\n      start       end  label\n0  0.000000  1.040394      1\n1  4.088566  5.347991      1\n2  8.980244  9.984133      1\n0.0 1.040394 1\nMoviePy - Writing audio in ../data/audio_label_clip/u304674_0.mp3\nchunk:   0%|          | 0/28 [00:00<?, ?it/s, now=None]MoviePy - Done.\n4.088566 5.347991 1\nMoviePy - Writing audio in ../data/audio_label_clip/u304674_1.mp3\nMoviePy - Done.\n8.980244 9.984133 1\nMoviePy - Writing audio in ../data/audio_label_clip/u304674_2.mp3\nchunk:   0%|          | 0/27 [00:00<?, ?it/s, now=None]MoviePy - Done.\nfile name:u704124\nread new file\n      start       end  label\n0  0.120686  1.091918      1\n1  1.545927  2.735543      1\n2  3.379200  4.798694      1\n0.12068599999999999 1.091918 1\nMoviePy - Writing audio in ../data/audio_label_clip/u704124_0.mp3\nMoviePy - Done.\n1.545927 2.735543 1\nMoviePy - Writing audio in ../data/audio_label_clip/u704124_1.mp3\nchunk:   0%|          | 0/15 [00:00<?, ?it/s, now=None]MoviePy - Done.\n3.3792 4.798694 1\nMoviePy - Writing audio in ../data/audio_label_clip/u704124_2.mp3\nMoviePy - Done.\nfile name:u716252\nread new file\n      start       end  label\n0  1.603396  2.252800      1\n1  3.287249  4.407902      1\n2  5.017078  5.758433      1\n3  6.172212  6.511282      1\n4  6.942302  7.568718      1\n5  8.034220  8.769829      1\n1.6033959999999998 2.2528 1\nMoviePy - Writing audio in ../data/audio_label_clip/u716252_0.mp3\nchunk:   0%|          | 0/17 [00:00<?, ?it/s, now=None]MoviePy - Done.\n3.2872489999999996 4.407902 1\nMoviePy - Writing audio in ../data/audio_label_clip/u716252_1.mp3\nMoviePy - Done.\n5.017078 5.758433 1\nMoviePy - Writing audio in ../data/audio_label_clip/u716252_2.mp3\nchunk:   0%|          | 0/14 [00:00<?, ?it/s, now=None]MoviePy - Done.\n6.172212 6.511282 1\nMoviePy - Writing audio in ../data/audio_label_clip/u716252_3.mp3\nMoviePy - Done.\n6.942302000000001 7.568718 1\nMoviePy - Writing audio in ../data/audio_label_clip/u716252_4.mp3\nchunk:   0%|          | 0/33 [00:00<?, ?it/s, now=None]MoviePy - Done.\n8.03422 8.769829 1\nMoviePy - Writing audio in ../data/audio_label_clip/u716252_5.mp3\nMoviePy - Done.\nfile name:u269944\nread new file\n      start       end  label\n0  1.259424  2.737879      1\n1  5.968577  7.520041      1\n1.2594239999999999 2.737879 1\nMoviePy - Writing audio in ../data/audio_label_clip/u269944_0.mp3\nchunk:   0%|          | 0/35 [00:00<?, ?it/s, now=None]MoviePy - Done.\n5.968577 7.520041 1\nMoviePy - Writing audio in ../data/audio_label_clip/u269944_1.mp3\nMoviePy - Done.\nfile name:u712250\nread new file\n      start       end  label\n0  3.511380  3.655053    NaN\n1  5.005584  5.609012    NaN\n3.5113800000000004 3.6550529999999997 nan\nchunk:   0%|          | 0/4 [00:00<?, ?it/s, now=None]MoviePy - Writing audio in ../data/audio_label_clip/../data/audio_label_clip/u269944_1.mp3.mp3\nMoviePy - Done.\n"
    },
    {
     "ename": "ValueError",
     "evalue": "cannot convert float NaN to integer",
     "output_type": "error",
     "traceback": [
      "\u001b[0;31m---------------------------------------------------------------------------\u001b[0m",
      "\u001b[0;31mValueError\u001b[0m                                Traceback (most recent call last)",
      "\u001b[0;32m<ipython-input-13-68c6c95051cf>\u001b[0m in \u001b[0;36m<module>\u001b[0;34m\u001b[0m\n\u001b[1;32m     38\u001b[0m \u001b[0;34m\u001b[0m\u001b[0m\n\u001b[1;32m     39\u001b[0m         \u001b[0maudio\u001b[0m\u001b[0;34m.\u001b[0m\u001b[0mappend\u001b[0m\u001b[0;34m(\u001b[0m\u001b[0mname\u001b[0m \u001b[0;34m+\u001b[0m \u001b[0;34m\".mp3\"\u001b[0m\u001b[0;34m)\u001b[0m\u001b[0;34m\u001b[0m\u001b[0;34m\u001b[0m\u001b[0m\n\u001b[0;32m---> 40\u001b[0;31m         \u001b[0mlabel\u001b[0m\u001b[0;34m.\u001b[0m\u001b[0mappend\u001b[0m\u001b[0;34m(\u001b[0m\u001b[0mint\u001b[0m\u001b[0;34m(\u001b[0m\u001b[0mlab\u001b[0m\u001b[0;34m)\u001b[0m\u001b[0;34m)\u001b[0m\u001b[0;34m\u001b[0m\u001b[0;34m\u001b[0m\u001b[0m\n\u001b[0m\u001b[1;32m     41\u001b[0m \u001b[0msave\u001b[0m\u001b[0;34m(\u001b[0m\u001b[0maudio\u001b[0m\u001b[0;34m,\u001b[0m \u001b[0mlabel\u001b[0m\u001b[0;34m)\u001b[0m\u001b[0;34m\u001b[0m\u001b[0;34m\u001b[0m\u001b[0m\n",
      "\u001b[0;31mValueError\u001b[0m: cannot convert float NaN to integer"
     ]
    }
   ],
   "source": [
    "audio = []\n",
    "label = []\n",
    "\n",
    "for file in files:\n",
    "    print(\"file name:\" + file)\n",
    "    text = '../data/label/' + file + \".txt\"\n",
    "    aud = '../data/label/' + file + \".mp3\"\n",
    "    print(\"read new file\")\n",
    "    data = pd.read_csv(text, sep=\"\\t\", names=['start', 'end', 'label'])\n",
    "    print(data)\n",
    "#     data.start.astype('float')\n",
    "#     data.end.astype('float')\n",
    "    # 각 file 별로 자른 label find\n",
    "    for i in range(len(data)):\n",
    "        lab = data.label[i]\n",
    "        print(data.start[i], data.end[i], data.label[i])\n",
    "        try:\n",
    "            start = float(data.start[i])\n",
    "            end = float(data.end[i])\n",
    "        except ValueError:\n",
    "            continue\n",
    "        if start >= end:\n",
    "            continue\n",
    "        if np.array(data.label[i])==np.nan:\n",
    "            continue\n",
    "\n",
    "        full_audio = AudioFileClip(aud)\n",
    "        if(lab==1): \n",
    "            name = f\"{file}_{i}\"\n",
    "\n",
    "        tmp_audio = full_audio.subclip(start, end)\n",
    "        name = os.path.join(audio_label_clip_dir,  name + \".mp3\")\n",
    "        try:\n",
    "            tmp_audio.write_audiofile(name)\n",
    "        except OSError:\n",
    "            print('oserror')\n",
    "            continue\n",
    "            \n",
    "        audio.append(name + \".mp3\")\n",
    "        label.append(int(lab))\n",
    "save(audio, label)"
   ]
  },
  {
   "cell_type": "code",
   "execution_count": null,
   "metadata": {},
   "outputs": [],
   "source": []
  }
 ],
 "metadata": {
  "kernelspec": {
   "display_name": "Python 3.7.4 64-bit ('tobigs': conda)",
   "language": "python",
   "name": "python37464bittobigsconda8699e563d81b43e6a41cb6dbac1aa41e"
  },
  "language_info": {
   "codemirror_mode": {
    "name": "ipython",
    "version": 3
   },
   "file_extension": ".py",
   "mimetype": "text/x-python",
   "name": "python",
   "nbconvert_exporter": "python",
   "pygments_lexer": "ipython3",
   "version": "3.7.4-final"
  }
 },
 "nbformat": 4,
 "nbformat_minor": 2
}