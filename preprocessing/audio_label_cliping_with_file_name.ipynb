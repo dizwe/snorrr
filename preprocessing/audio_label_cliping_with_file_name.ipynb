{
 "cells": [
  {
   "cell_type": "code",
   "execution_count": 7,
   "metadata": {},
   "outputs": [],
   "source": [
    "## pip install moviepy==1.0.0\n",
    "\n",
    "import os\n",
    "import librosa\n",
    "import pandas as pd\n",
    "from moviepy.editor import *\n",
    "from tqdm import tqdm_notebook\n",
    "import numpy as np"
   ]
  },
  {
   "cell_type": "code",
   "execution_count": 8,
   "metadata": {},
   "outputs": [],
   "source": [
    "#from utils import make_dir\n",
    "def make_dir(dir_):\n",
    "    if not os.path.isdir(dir_):\n",
    "        os.mkdir(dir_)"
   ]
  },
  {
   "cell_type": "code",
   "execution_count": 9,
   "metadata": {},
   "outputs": [],
   "source": [
    "audio_label_clip_dir = os.path.join('..', 'data', 'audio_label_clip')\n",
    "make_dir(audio_label_clip_dir)"
   ]
  },
  {
   "cell_type": "code",
   "execution_count": 10,
   "metadata": {},
   "outputs": [],
   "source": [
    "def save(audios, label):\n",
    "    data = pd.DataFrame({\n",
    "        'audios':audio, 'label':label })\n",
    "    data.to_csv(audio_label_clip_dir+'/audio_label_clip.csv', index=False, encoding='utf8')"
   ]
  },
  {
   "cell_type": "code",
   "execution_count": 11,
   "metadata": {},
   "outputs": [],
   "source": [
    "## 레이블링 데이터 위치 : ./data/label\n",
    "files = []\n",
    "for file in os.listdir(os.path.join('..', 'data', 'label')):\n",
    "    _, file_id = os.path.split(file)\n",
    "    if file_id.endswith('txt'):\n",
    "        name = file_id.split(\".\")[0]\n",
    "        if(name not in files):\n",
    "            files.append(name)"
   ]
  },
  {
   "cell_type": "code",
   "execution_count": 19,
   "metadata": {},
   "outputs": [],
   "source": [
    "# audio = []\n",
    "# label = []\n",
    "# nono = []\n",
    "# for file in files:\n",
    "#     print(\"file name:\" + file)\n",
    "#     text = '../data/label/' + file + \".txt\"\n",
    "#     aud = '../data/label/' + file + \".mp3\"\n",
    "#     print(\"read new file\")\n",
    "#     data = pd.read_csv(text, sep=\"\\t\", names=['start', 'end', 'label'])\n",
    "#     print(data)\n",
    "# #     data.start.astype('float')\n",
    "# #     data.end.astype('float')\n",
    "#     # 각 file 별로 자른 label find\n",
    "#     for i in range(len(data)):\n",
    "#         lab = data.label[i]\n",
    "#         print(data.start[i], data.end[i], data.label[i])\n",
    "#         try:\n",
    "#             start = float(data.start[i])\n",
    "#             end = float(data.end[i])\n",
    "#         except ValueError:\n",
    "#             continue\n",
    "#         if start >= end:\n",
    "#             continue\n",
    "#         if np.array(data.label[i])==np.nan:\n",
    "#             continue\n",
    "\n",
    "#         full_audio = AudioFileClip(aud)\n",
    "#         if(lab==1): \n",
    "#             name = f\"{file}_{i}\"\n",
    "\n",
    "#         tmp_audio = full_audio.subclip(start, end)\n",
    "#         name = os.path.join(audio_label_clip_dir,  name + \".mp3\")\n",
    "#         try:\n",
    "#             tmp_audio.write_audiofile(name)\n",
    "#         except OSError:\n",
    "#             print('oserror')\n",
    "#             continue\n",
    "            \n",
    "#         audio.append(name + \".mp3\")\n",
    "#         try:\n",
    "#             label.append(int(lab))\n",
    "#         except:\n",
    "#             nono.append(name)\n",
    "#             label.append(1)\n",
    "# save(audio, label)"
   ]
  },
  {
   "cell_type": "code",
   "execution_count": null,
   "metadata": {},
   "outputs": [],
   "source": []
  }
 ],
 "metadata": {
  "kernelspec": {
   "display_name": "Python 3.7.4 64-bit ('tobigs': conda)",
   "language": "python",
   "name": "python37464bittobigsconda8699e563d81b43e6a41cb6dbac1aa41e"
  },
  "language_info": {
   "codemirror_mode": {
    "name": "ipython",
    "version": 3
   },
   "file_extension": ".py",
   "mimetype": "text/x-python",
   "name": "python",
   "nbconvert_exporter": "python",
   "pygments_lexer": "ipython3",
   "version": "3.7.4-final"
  }
 },
 "nbformat": 4,
 "nbformat_minor": 2
}